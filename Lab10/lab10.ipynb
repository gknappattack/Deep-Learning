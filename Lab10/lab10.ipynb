{
  "nbformat": 4,
  "nbformat_minor": 0,
  "metadata": {
    "accelerator": "GPU",
    "colab": {
      "name": "lab10.ipynb",
      "provenance": [],
      "collapsed_sections": []
    },
    "kernelspec": {
      "display_name": "Python 3",
      "language": "python",
      "name": "python3"
    },
    "language_info": {
      "codemirror_mode": {
        "name": "ipython",
        "version": 3
      },
      "file_extension": ".py",
      "mimetype": "text/x-python",
      "name": "python",
      "nbconvert_exporter": "python",
      "pygments_lexer": "ipython3",
      "version": "3.7.4"
    }
  },
  "cells": [
    {
      "cell_type": "markdown",
      "metadata": {
        "id": "w-jFCArcTC-B"
      },
      "source": [
        "<a \n",
        "href=\"https://colab.research.google.com/github/wingated/cs474_labs_f2019/blob/master/DL_Lab9.ipynb\"\n",
        "  target=\"_parent\">\n",
        "  <img\n",
        "    src=\"https://colab.research.google.com/assets/colab-badge.svg\"\n",
        "    alt=\"Open In Colab\"/>\n",
        "</a>"
      ]
    },
    {
      "cell_type": "markdown",
      "metadata": {
        "id": "sl7hEuB3J4k3"
      },
      "source": [
        "# Lab 10: Deep Reinforcement Learning\n",
        "\n",
        "## Objective\n",
        "\n",
        "- Build DQN and PPO Deep RL algorithms\n",
        "- Learn the difference between Q Learning and Policy Gradient techniques\n",
        "\n",
        "## Deliverable\n",
        "\n",
        "For this lab you will submit an ipython notebook via learning suite. This lab gives you a lot of code, and you should only need to modify two of the cells of this notebook. Feel free to download and modify this notebook or create your own. The below code is given for your convinience. You can modify any of the given code if you wish.\n",
        "\n",
        "## Tips\n",
        "\n",
        "Deep reinforcement learning is difficult. We provide hyperparameters, visualizations, and code for gathering experience, but require you to code up algorithms for training your networks. \n",
        "\n",
        "- Your networks should be able to demonstrate learning on cartpole within a minute of wall time.\n",
        "\n",
        "- Understand what your the starter code is doing. This will help you with the *TODO* sections. The main code block is similar for the two algorithms with some small yet important differences.\n",
        "\n",
        "- We provide hyperparameters for you to start with. Feel free to experiment with different values, but these worked for us.\n",
        "\n",
        "- **Print dtypes and shapes** throughout your code to make sure your tensors look the way you expect.\n",
        "\n",
        "- The DQN algorithm is significantly more unstable than PPO. Even with a correct implementation it may fail to learn every 1/10 times.\n",
        "\n",
        "- Unfortunately visualizing your agent acting in the environment is non-trivial in Colab. You can visualize your agent by running this code locally and uncommenting the `env.render()` line.\n",
        "\n",
        "## Grading\n",
        "\n",
        "- 40% Part 1: DQN *TODO* methods\n",
        "- 40% Part 2: PPO *TODO* methods\n",
        "- 20% Cartpole learning curves\n",
        "\n",
        "\n",
        "### Cartpole\n",
        "\n",
        "Cartpole is a simple environment to get your agent up and running. It has a continuous state space of 4 dimensions and a discrete action space of 2. The agent is given a reward of 1 for each timestep it remains standing. Your agent should be able to reach close to 200 cumulative reward for an episode after a minute or two of training. The below graphs show example results for dqn (left) and ppo (right).\n",
        "\n",
        "![alt text](https://drive.google.com/uc?export=view&id=1Bpz1jOPMF1zJMW6XBJJ44sJ-RmO_q6_U)\n",
        "![alt text](https://drive.google.com/uc?export=view&id=1M1yygXhLKDL8qfRXn7fh_K-zq7-pQRhY)\n",
        "\n",
        "### TODO\n",
        "\n",
        "- Train DQN and PPO on cartpole\n",
        "- Display learning curves with average episodic reward per epoch"
      ]
    },
    {
      "cell_type": "markdown",
      "metadata": {
        "id": "gVWokqnVab6O"
      },
      "source": [
        "# Starter Code"
      ]
    },
    {
      "cell_type": "markdown",
      "metadata": {
        "id": "WhaPOG6xt0yn"
      },
      "source": [
        "## Init"
      ]
    },
    {
      "cell_type": "code",
      "metadata": {
        "id": "EyykNyRM1Tf3",
        "colab": {
          "base_uri": "https://localhost:8080/"
        },
        "outputId": "a7efd507-b2d5-4520-ada2-a8e22ba3e6e0"
      },
      "source": [
        "! pip3 install gym\n",
        "! pip3 install torch\n",
        "###########2#########\n",
        "! pip install gym pyvirtualdisplay\n",
        "! apt-get install -y xvfb python-opengl ffmpeg\n",
        "####################"
      ],
      "execution_count": 2,
      "outputs": [
        {
          "output_type": "stream",
          "name": "stdout",
          "text": [
            "Requirement already satisfied: gym in /usr/local/lib/python3.7/dist-packages (0.17.3)\n",
            "Requirement already satisfied: pyglet<=1.5.0,>=1.4.0 in /usr/local/lib/python3.7/dist-packages (from gym) (1.5.0)\n",
            "Requirement already satisfied: numpy>=1.10.4 in /usr/local/lib/python3.7/dist-packages (from gym) (1.21.5)\n",
            "Requirement already satisfied: cloudpickle<1.7.0,>=1.2.0 in /usr/local/lib/python3.7/dist-packages (from gym) (1.3.0)\n",
            "Requirement already satisfied: scipy in /usr/local/lib/python3.7/dist-packages (from gym) (1.4.1)\n",
            "Requirement already satisfied: future in /usr/local/lib/python3.7/dist-packages (from pyglet<=1.5.0,>=1.4.0->gym) (0.16.0)\n",
            "Requirement already satisfied: torch in /usr/local/lib/python3.7/dist-packages (1.10.0+cu111)\n",
            "Requirement already satisfied: typing-extensions in /usr/local/lib/python3.7/dist-packages (from torch) (3.10.0.2)\n",
            "Requirement already satisfied: gym in /usr/local/lib/python3.7/dist-packages (0.17.3)\n",
            "Requirement already satisfied: pyvirtualdisplay in /usr/local/lib/python3.7/dist-packages (3.0)\n",
            "Requirement already satisfied: pyglet<=1.5.0,>=1.4.0 in /usr/local/lib/python3.7/dist-packages (from gym) (1.5.0)\n",
            "Requirement already satisfied: numpy>=1.10.4 in /usr/local/lib/python3.7/dist-packages (from gym) (1.21.5)\n",
            "Requirement already satisfied: cloudpickle<1.7.0,>=1.2.0 in /usr/local/lib/python3.7/dist-packages (from gym) (1.3.0)\n",
            "Requirement already satisfied: scipy in /usr/local/lib/python3.7/dist-packages (from gym) (1.4.1)\n",
            "Requirement already satisfied: future in /usr/local/lib/python3.7/dist-packages (from pyglet<=1.5.0,>=1.4.0->gym) (0.16.0)\n",
            "Reading package lists... Done\n",
            "Building dependency tree       \n",
            "Reading state information... Done\n",
            "python-opengl is already the newest version (3.1.0+dfsg-1).\n",
            "ffmpeg is already the newest version (7:3.4.8-0ubuntu0.2).\n",
            "xvfb is already the newest version (2:1.19.6-1ubuntu4.10).\n",
            "0 upgraded, 0 newly installed, 0 to remove and 39 not upgraded.\n"
          ]
        }
      ]
    },
    {
      "cell_type": "code",
      "metadata": {
        "id": "Rim8iocC1Vva"
      },
      "source": [
        "import gym\n",
        "import torch\n",
        "import torch.nn as nn\n",
        "import torch.nn.functional as F\n",
        "from itertools import chain\n",
        "import matplotlib.pyplot as plt\n",
        "from tqdm import tqdm\n",
        "import random\n",
        "from torch.utils.data import Dataset, DataLoader\n",
        "import numpy as np\n",
        "\n",
        "####################\n",
        "from gym import logger as gymlogger\n",
        "from gym.wrappers import Monitor\n",
        "gymlogger.set_level(40) #error only\n",
        "\n",
        "import glob\n",
        "import io\n",
        "import base64\n",
        "from IPython.display import HTML\n",
        "from IPython import display as ipythondisplay\n",
        "####################"
      ],
      "execution_count": 3,
      "outputs": []
    },
    {
      "cell_type": "code",
      "metadata": {
        "id": "l1f8lZp19Lwj",
        "colab": {
          "base_uri": "https://localhost:8080/"
        },
        "outputId": "191f2931-8e9d-4758-ed98-9b9ddb554df4"
      },
      "source": [
        "######################\n",
        "from pyvirtualdisplay import Display\n",
        "display = Display(visible=0, size=(1400,900))\n",
        "display.start()\n",
        "######################"
      ],
      "execution_count": 4,
      "outputs": [
        {
          "output_type": "execute_result",
          "data": {
            "text/plain": [
              "<pyvirtualdisplay.display.Display at 0x7fd28a7acf50>"
            ]
          },
          "metadata": {},
          "execution_count": 4
        }
      ]
    },
    {
      "cell_type": "code",
      "metadata": {
        "id": "_TI_5c0l9Ojv"
      },
      "source": [
        "######################\n",
        "def show_video():\n",
        "  mp4list = glob.glob('video/*.mp4')\n",
        "  if len(mp4list) > 0:\n",
        "    mp4 = mp4list[0]\n",
        "    video = io.open(mp4, 'r+b').read()\n",
        "    encoded = base64.b64encode(video)\n",
        "    ipythondisplay.display(HTML(data='''<video alt=\"test\" autoplay \n",
        "                loop controls style=\"height: 400px;\">\n",
        "                <source src=\"data:video/mp4;base64,{0}\" type=\"video/mp4\" />\n",
        "             </video>'''.format(encoded.decode('ascii'))))\n",
        "  else: \n",
        "    print(\"Could not find video\")\n",
        "\n",
        "def wrap_env(env):\n",
        "  env = Monitor(env, './video', force=True)\n",
        "  return env\n",
        "######################"
      ],
      "execution_count": 5,
      "outputs": []
    },
    {
      "cell_type": "markdown",
      "metadata": {
        "id": "mV282uYJ2aSw"
      },
      "source": [
        "## DQN"
      ]
    },
    {
      "cell_type": "markdown",
      "metadata": {
        "id": "Qi_aDdTg2btp"
      },
      "source": [
        "## Part 1\n",
        "\n",
        "\n",
        "Deep Q-Network (https://www.cs.toronto.edu/~vmnih/docs/dqn.pdf) is a Q-learning algorithm that learns values for state-action pairs.\n",
        "\n",
        "Actions are sampled according to an $\\epsilon-greedy$ policy to help with exploration of the state space. Every time an action is sampled, the agent chooses a random action with $\\epsilon$ probability. Otherwise, the agent selects the action with the highest Q-value for a state. $\\epsilon$ decays over time according to $\\epsilon \\gets \\epsilon * epsilon\\_decay$.\n",
        "\n",
        "Tuples of state, action, reward, next_state, and terminal $(s,a,r,s',d)$ are collected during training. Every $learn\\_frequency$ steps $sample\\_size$ tuples are sampled and made into 5 tensors tensors of states, actions, rewarads, next_states, and terminals.\n",
        "\n",
        "The loss for a batch of size N is given below.\n",
        "\n",
        "$Loss=\\frac{1}{N}\\sum \\bigg(Q(s,a) - (r + \\gamma \\underset{a'\\sim A}{max} \\hat{Q}(s',a')(1-d))\\bigg)^2 $\n",
        "\n",
        "Loss is calculated and used to update the Q-Network. The target network $\\hat{Q}$ begins as a copy of the Q network but is not updated by the optimizer. Every $target\\_update$ steps, the target network is updated with the parameters of the Q-Network. This process is a type of bootstrapping.\n",
        "\n",
        "### TODO\n",
        "\n",
        "- Implement get action method with e-greedy policy\n",
        "- Implement sample batch method\n",
        "- Implement DQN learning algorithm\n",
        "\n"
      ]
    },
    {
      "cell_type": "code",
      "metadata": {
        "id": "_mBUvXkT2dHy"
      },
      "source": [
        "def get_action_dqn(network, state, epsilon, epsilon_decay):\n",
        "  \"\"\"Select action according to e-greedy policy and decay epsilon\n",
        "\n",
        "    Args:\n",
        "        network (QNetwork): Q-Network\n",
        "        state (np-array): current state, size (state_size)\n",
        "        epsilon (float): probability of choosing a random action\n",
        "        epsilon_decay (float): amount by which to decay epsilon\n",
        "\n",
        "    Returns:\n",
        "        action (int): chosen action [0, action_size)\n",
        "        epsilon (float): decayed epsilon\n",
        "  \"\"\"\n",
        "  # Turn state array into float tensor\n",
        "  state_tensor = torch.from_numpy(state).cuda().float()\n",
        "\n",
        "  # Pass action into network and get tensor out\n",
        "  with torch.no_grad():\n",
        "    action_tensor = network(state_tensor)\n",
        "  \n",
        "  actions = action_tensor.detach().cpu().numpy()\n",
        "\n",
        "  # Sample random value\n",
        "  sample = random.random()\n",
        "\n",
        "  # If random val is > epsilon, use the policy action\n",
        "  if sample > epsilon:\n",
        "    action = int(np.argmax(actions))  \n",
        "  else:\n",
        "    # Sample random action\n",
        "    action = random.randint(0, len(actions)-1)\n",
        "\n",
        "  # Decay epsilon\n",
        "  decayed_epsilon = epsilon*epsilon_decay\n",
        "\n",
        "  return action, decayed_epsilon\n",
        "\n",
        "\n",
        "def prepare_batch(memory, batch_size):\n",
        "  \"\"\"Randomly sample batch from memory\n",
        "     Prepare cuda tensors\n",
        "\n",
        "    Args:\n",
        "        memory (list): state, action, next_state, reward, done tuples\n",
        "        batch_size (int): amount of memory to sample into a batch\n",
        "\n",
        "    Returns:\n",
        "        state (tensor): float cuda tensor of size (batch_size x state_size)\n",
        "        action (tensor): long tensor of size (batch_size)\n",
        "        next_state (tensor): float cuda tensor of size (batch_size x state_size)\n",
        "        reward (tensor): float cuda tensor of size (batch_size)\n",
        "        done (tensor): float cuda tensor of size (batch_size)\n",
        "  \"\"\"\n",
        "\n",
        "  # Get sample from memory of batch_size\n",
        "  sample = random.sample(memory, batch_size)\n",
        "\n",
        "  # Separate sample values into individual columns\n",
        "\n",
        "  state, action, next_state, reward, done = zip(*sample)\n",
        "\n",
        "  # State tensor = float cuda tensor 32x4\n",
        "  state = torch.from_numpy(np.stack(state, axis=0)).float().cuda()\n",
        "\n",
        "  # Action tensor = long tensor of size (batch_size)\n",
        "  action = np.array(action)\n",
        "  action = torch.from_numpy(action).long().cuda()\n",
        "\n",
        "  # Next state tensor = float tensor of size (batch_size x state_size)\n",
        "  next_state = torch.from_numpy(np.stack(next_state, axis=0)).float().cuda()\n",
        "  \n",
        "  # Reward tensor = float tensor of size batch size\n",
        "  reward = np.array(reward)\n",
        "  reward = torch.from_numpy(reward).float().cuda()\n",
        "  \n",
        "  # Done tensor = float tensor of size (batch_size)\n",
        "  done = np.array(done)\n",
        "  done = torch.from_numpy(done).float().cuda()\n",
        "\n",
        "  return state, action, next_state, reward, done\n",
        "\n",
        "  \n",
        "def learn_dqn(batch, optim, q_network, target_network, gamma, global_step, target_update):\n",
        "  \"\"\"Update Q-Network according to DQN Loss function\n",
        "     Update Target Network every target_update global steps\n",
        "\n",
        "    Args:\n",
        "        batch (tuple): tuple of state, action, next_state, reward, and done tensors\n",
        "        optim (Adam): Q-Network optimizer\n",
        "        q_network (QNetwork): Q-Network\n",
        "        target_network (QNetwork): Target Q-Network\n",
        "        gamma (float): discount factor\n",
        "        global_step (int): total steps taken in environment\n",
        "        target_update (int): frequency of target network update\n",
        "  \"\"\"\n",
        "\n",
        "\n",
        "  criterion = nn.MSELoss()\n",
        "\n",
        "  # state, action, next_state, reward, done = batch (result of prepare_batch)\n",
        "  state, action, next_state, reward, done = batch[0], batch[1], batch[2], batch[3], batch[4]\n",
        "\n",
        "  # Q(state, action)\n",
        "  q_out = q_network(state)\n",
        "  action = action.unsqueeze(1)\n",
        "  state_action_vals = torch.gather(q_out, dim=1, index=action)\n",
        "\n",
        "  # Q(s', a')\n",
        "  next_state_vals = target_network(next_state).max(1)[0]\n",
        "\n",
        "  # gamma * Q(s', a') + reward * (1-done)\n",
        "  expected_state_actions =  gamma * next_state_vals + reward\n",
        "  expected_state_actions = expected_state_actions * (1 - done)\n",
        "\n",
        "  # Get loss\n",
        "  expected_state_actions = expected_state_actions.unsqueeze(1)\n",
        "\n",
        "  loss = criterion(state_action_vals, expected_state_actions)\n",
        "\n",
        "  # Loss backwards/Update optimizer\n",
        "  optim.zero_grad()\n",
        "  loss.backward()\n",
        "  optim.step()\n",
        "\n",
        "  # Update params of train_network with q_network every target_update steps\n",
        "  if global_step % target_update == 0:\n",
        "    target_network.load_state_dict(q_network.state_dict()) "
      ],
      "execution_count": 4,
      "outputs": []
    },
    {
      "cell_type": "markdown",
      "metadata": {
        "id": "vGQgiY0WvImB"
      },
      "source": [
        "### Modules"
      ]
    },
    {
      "cell_type": "code",
      "metadata": {
        "id": "1vMhl-oevIBo"
      },
      "source": [
        "# Q-Value Network\n",
        "class QNetwork(nn.Module):\n",
        "  def __init__(self, state_size, action_size):\n",
        "    super().__init__()\n",
        "    hidden_size = 8\n",
        "    \n",
        "    self.net = nn.Sequential(nn.Linear(state_size, hidden_size),\n",
        "                             nn.ReLU(),\n",
        "                             nn.Linear(hidden_size, hidden_size),\n",
        "                             nn.ReLU(),\n",
        "                             nn.Linear(hidden_size, hidden_size),\n",
        "                             nn.ReLU(),\n",
        "                             nn.Linear(hidden_size, action_size))  \n",
        "    \n",
        "  def forward(self, x):\n",
        "    \"\"\"Estimate q-values given state\n",
        "\n",
        "      Args:\n",
        "          state (tensor): current state, size (batch x state_size)\n",
        "\n",
        "      Returns:\n",
        "          q-values (tensor): estimated q-values, size (batch x action_size)\n",
        "    \"\"\"\n",
        "    return self.net(x)"
      ],
      "execution_count": 5,
      "outputs": []
    },
    {
      "cell_type": "markdown",
      "metadata": {
        "id": "yCafVI552dgg"
      },
      "source": [
        "### Main"
      ]
    },
    {
      "cell_type": "code",
      "metadata": {
        "id": "8Sy_r9Wr2eg8",
        "colab": {
          "base_uri": "https://localhost:8080/",
          "height": 421
        },
        "outputId": "9502fde6-57e4-4039-8d85-53a6e6e46528"
      },
      "source": [
        "def dqn_main():\n",
        "  # Hyper parameters\n",
        "  lr = 1e-3\n",
        "  epochs = 500\n",
        "  start_training = 1000\n",
        "  gamma = 0.99\n",
        "  batch_size = 32\n",
        "  epsilon = 1\n",
        "  epsilon_decay = .9999\n",
        "  target_update = 1000\n",
        "  learn_frequency = 2\n",
        "\n",
        "  # Init environment\n",
        "  state_size = 4\n",
        "  action_size = 2\n",
        "  env = gym.make('CartPole-v1', )\n",
        "\n",
        "  # Init networks\n",
        "  q_network = QNetwork(state_size, action_size).cuda()\n",
        "  target_network = QNetwork(state_size, action_size).cuda()\n",
        "  target_network.load_state_dict(q_network.state_dict())\n",
        "\n",
        "  # Init optimizer\n",
        "  optim = torch.optim.Adam(q_network.parameters(), lr=lr)\n",
        "\n",
        "  # Init replay buffer\n",
        "  memory = []\n",
        "\n",
        "  # Begin main loop\n",
        "  results_dqn = []\n",
        "  global_step = 0\n",
        "  loop = tqdm(total=epochs, position=0, leave=False)\n",
        "  for epoch in range(epochs):\n",
        "    ######################\n",
        "    last_epoch = (epoch+1 == epochs)\n",
        "    # Record the last epoch, not the previous epochs\n",
        "    if last_epoch:\n",
        "      env = wrap_env(env)\n",
        "    ######################\n",
        "\n",
        "    # Reset environment\n",
        "    state = env.reset()\n",
        "    done = False\n",
        "    cum_reward = 0  # Track cumulative reward per episode\n",
        "\n",
        "    # Begin episode\n",
        "    while not done and cum_reward < 200:  # End after 200 steps \n",
        "      # Select e-greedy action\n",
        "      action, epsilon = get_action_dqn(q_network, state, epsilon, epsilon_decay)\n",
        "\n",
        "      # Take step\n",
        "      next_state, reward, done, _ = env.step(action)\n",
        "      env.render()\n",
        "\n",
        "      # Store step in replay buffer\n",
        "      memory.append((state, action, next_state, reward, done))\n",
        "\n",
        "      cum_reward += reward\n",
        "      global_step += 1  # Increment total steps\n",
        "      state = next_state  # Set current state\n",
        "\n",
        "      # If time to train\n",
        "      if global_step > start_training and global_step % learn_frequency == 0:\n",
        "\n",
        "        # Sample batch\n",
        "        batch = prepare_batch(memory, batch_size)\n",
        "        \n",
        "        # Train\n",
        "        learn_dqn(batch, optim, q_network, target_network, gamma, global_step, target_update)\n",
        "    ######################\n",
        "    env.close()\n",
        "    ######################\n",
        "    # Print results at end of episode\n",
        "    results_dqn.append(cum_reward)\n",
        "    loop.update(1)\n",
        "    loop.set_description('Episodes: {} Reward: {}'.format(epoch, cum_reward))\n",
        "  \n",
        "  return results_dqn\n",
        "\n",
        "results_dqn = dqn_main()\n",
        "######################\n",
        "\n",
        "show_video()\n",
        "######################"
      ],
      "execution_count": 7,
      "outputs": [
        {
          "output_type": "stream",
          "name": "stderr",
          "text": [
            ""
          ]
        },
        {
          "output_type": "display_data",
          "data": {
            "text/plain": [
              "<IPython.core.display.HTML object>"
            ],
            "text/html": [
              "<video alt=\"test\" autoplay \n",
              "                loop controls style=\"height: 400px;\">\n",
              "                <source src=\"data:video/mp4;base64,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\" type=\"video/mp4\" />\n",
              "             </video>"
            ]
          },
          "metadata": {}
        }
      ]
    },
    {
      "cell_type": "code",
      "metadata": {
        "id": "ZWYwytCDC3aw",
        "colab": {
          "base_uri": "https://localhost:8080/",
          "height": 265
        },
        "outputId": "eb10d20b-d9ca-404a-f0d6-17b8cbaf87b1"
      },
      "source": [
        "plt.plot(results_dqn)\n",
        "plt.show()"
      ],
      "execution_count": 8,
      "outputs": [
        {
          "output_type": "display_data",
          "data": {
            "text/plain": [
              "<Figure size 432x288 with 1 Axes>"
            ],
            "image/png": "[encoded data removed]"
          },
          "metadata": {
            "needs_background": "light"
          }
        }
      ]
    },
    {
      "cell_type": "markdown",
      "metadata": {
        "id": "qN9yy5EWVNz0"
      },
      "source": [
        "## PPO"
      ]
    },
    {
      "cell_type": "markdown",
      "metadata": {
        "id": "XvRUJUew0yN_"
      },
      "source": [
        "## Part 2\n",
        "\n",
        "Proximal Policy Optimization (https://arxiv.org/pdf/1707.06347.pdf) is a type of policy gradient method. Instead of calculating Q-values, we train a network $\\pi$ to optimize the probability of taking good actions directly, using states as inputs and actions as outputs. PPO also uses a value network $V$ that estimates state values in order to estimate the advantage $\\hat{A}$. \n",
        "\n",
        "Tuples of state, action distribution, action taken, and return $(s,\\pi(s), a,\\hat{R})$ are gathered for several rollouts. After training on this experience, these tuples are discarded and new experience is gathered.\n",
        "\n",
        "Loss for the value network and the policy network are calculated according to the following formula:\n",
        "\n",
        "$Loss=ValueLoss+PolicyLoss$\n",
        "\n",
        "$ValueLoss=\\frac{1}{N}\\sum \\bigg(\\hat{R} - V(s) \\bigg)^2 $\n",
        "\n",
        "$PolicyLoss=-\\frac{1}{N}\\sum \\min\\bigg( \\frac{\\pi'(a|s)}{\\pi(a|s)} \\hat{A}, clip(\\frac{\\pi'(a|s)}{\\pi(a|s)},1-\\epsilon,1+\\epsilon) \\hat{A} \\bigg) $\n",
        "\n",
        "$\\hat{R}_t = \\sum_{i=t}^H \\gamma^{i-1}r_i$\n",
        "\n",
        "$\\hat{A}_t=\\hat{R}_t-V(s_t)$\n",
        "\n",
        "Here, $\\pi'(a|s)$ is the probability of taking an action given a state under the current policy and $\\pi(a|s)$ is the probability of taking an action given a state under the policy used to gather data. In the loss function, $a$ is the action your agent actually took and is sampled from memory. \n",
        "\n",
        "Additionally, the $clip$ function clips the value of the first argument according to the lower and upper bounds in the second and third arguments resectively.\n",
        "\n",
        "Another important note: Your the calculation of your advantage $\\hat{A}$ should not permit gradient flow from your policy loss calculation. In other words, make sure to call `.detach()` on your advantage.\n",
        "\n",
        "### TODO\n",
        "\n",
        "- Implement calculate return method\n",
        "- Implement get action method\n",
        "- Implement PPO learning algorithm"
      ]
    },
    {
      "cell_type": "code",
      "metadata": {
        "id": "zsm1pILHVcEp"
      },
      "source": [
        "def calculate_return(memory, rollout, gamma):\n",
        "  \"\"\"Return memory with calculated return in experience tuple\n",
        "\n",
        "    Args:\n",
        "        memory (list): (state, action, action_dist, return) tuples\n",
        "        rollout (list): (state, action, action_dist, reward) tuples from last rollout\n",
        "        gamma (float): discount factor\n",
        "\n",
        "    Returns:\n",
        "        list: memory updated with (state, action, action_dist, return) tuples from rollout\n",
        "  \"\"\"\n",
        "  return_val = 0\n",
        "  for transition in reversed(rollout):\n",
        "    state, action, action_dist, reward = transition\n",
        "    return_val = reward + gamma*return_val\n",
        "    memory.append([state, action, action_dist, return_val])\n",
        "\n",
        "  return memory\n",
        "\n",
        "\n",
        "def get_action_ppo(network, state):\n",
        "  \"\"\"Sample action from the distribution obtained from the policy network\n",
        "\n",
        "    Args:\n",
        "        network (PolicyNetwork): Policy Network\n",
        "        state (np-array): current state, size (state_size)\n",
        "\n",
        "    Returns:\n",
        "        int: action sampled from output distribution of policy network\n",
        "        array: output distribution of policy network\n",
        "  \"\"\"\n",
        "  state_tensor = torch.from_numpy(state).cuda().float()\n",
        "  state_tensor = state_tensor.unsqueeze(0)\n",
        "\n",
        "  with torch.no_grad():\n",
        "\n",
        "    # Run state through network\n",
        "    action_tensor = network(state_tensor)\n",
        "\n",
        "  # Sample an action from the distrubtion given\n",
        "  action = torch.multinomial(action_tensor, 1).detach().item()\n",
        "\n",
        "  # Get distribution from tensor to array\n",
        "  action_distribution = action_tensor.detach().cpu().numpy()[0]\n",
        "\n",
        "  # Do we need to unsqueeze the action distribution?\n",
        "\n",
        "  return action, action_distribution\n",
        "\n",
        "\n",
        "def learn_ppo(optim, policy, value, memory_dataloader, epsilon, policy_epochs):\n",
        "  \"\"\"Implement PPO policy and value network updates. Iterate over your entire \n",
        "     memory the number of times indicated by policy_epochs.    \n",
        "\n",
        "    Args:\n",
        "        optim (Adam): value and policy optimizer\n",
        "        policy (PolicyNetwork): Policy Network\n",
        "        value (ValueNetwork): Value Network\n",
        "        memory_dataloader (DataLoader): dataloader with (state, action, action_dist, return) tensors\n",
        "        epsilon (float): trust region\n",
        "        policy_epochs (int): number of times to iterate over all memory\n",
        "  \"\"\"\n",
        "  # Initialize loss function\n",
        "  criterion = nn.MSELoss()\n",
        "\n",
        "  # Iterate over memory number of times indicated by policy_epochs\n",
        "  for epoch in range(policy_epochs):\n",
        "\n",
        "    # Iterate over each tuple stored in memory\n",
        "    for state, action, old_action_distribution, returns in memory_dataloader:\n",
        "\n",
        "      # Send all initial tensors to cuda\n",
        "      returns = returns.cuda()\n",
        "      state = state.cuda().float()\n",
        "      action = action.cuda()\n",
        "      old_action_distribution = old_action_distribution.cuda()\n",
        "\n",
        "      # Get output of value network from state\n",
        "      value_out = value(state)\n",
        "      value_out = value_out.to(torch.float64) # Cast to float\n",
        "\n",
        "      # Get the value loss\n",
        "      returns = returns.unsqueeze(1)\n",
        "      value_loss = criterion(returns, value_out)\n",
        "\n",
        "      # Get advantage\n",
        "      advantage = returns - value_out\n",
        "\n",
        "      # Detach and Squeeze advantage\n",
        "      advantage = advantage.detach()\n",
        "      advantage = advantage.squeeze(1)\n",
        "\n",
        "      # Get currnet action distribution from policy network\n",
        "      current_action_distribution = policy(state)\n",
        "\n",
        "      # Unsqueeeze action to use gather\n",
        "      action = action.unsqueeze(1)\n",
        "\n",
        "      # Calculate policy ratio\n",
        "      policy_ratio = torch.gather(current_action_distribution, dim=1, index=action) / torch.gather(old_action_distribution, dim=1, index=action)\n",
        "      policy_ratio = policy_ratio.squeeze(1)\n",
        "\n",
        "      # Calculate policy gradient\n",
        "      policy_gradient = policy_ratio * advantage\n",
        "\n",
        "      # Calculate clipped policy gradient\n",
        "      clipped_policy_gradient = torch.clamp(policy_ratio, min=1-epsilon, max=1+epsilon) * advantage\n",
        "\n",
        "      # Calculate Policy Loss\n",
        "      policy_loss = -torch.mean(torch.min(policy_gradient, clipped_policy_gradient))\n",
        "\n",
        "      # Get Total loss\n",
        "      loss = value_loss + policy_loss\n",
        "\n",
        "      # Update networks\n",
        "      optim.zero_grad()\n",
        "      loss.backward()\n",
        "      optim.step()  "
      ],
      "execution_count": 6,
      "outputs": []
    },
    {
      "cell_type": "markdown",
      "metadata": {
        "id": "R6RXma_-vSGX"
      },
      "source": [
        "### Modules"
      ]
    },
    {
      "cell_type": "code",
      "metadata": {
        "id": "L8URnP8xvTTG"
      },
      "source": [
        "# Dataset that wraps memory for a dataloader\n",
        "class RLDataset(Dataset):\n",
        "  def __init__(self, data):\n",
        "    super().__init__()\n",
        "    self.data = []\n",
        "    for d in data:\n",
        "      self.data.append(d)\n",
        "  \n",
        "  def __getitem__(self, index):\n",
        "    return self.data[index]\n",
        " \n",
        "  def __len__(self):\n",
        "    return len(self.data)\n",
        "\n",
        "\n",
        "# Policy Network\n",
        "class PolicyNetwork(nn.Module):\n",
        "  def __init__(self, state_size, action_size):\n",
        "    super().__init__()\n",
        "    hidden_size = 8\n",
        "    \n",
        "    self.net = nn.Sequential(nn.Linear(state_size, hidden_size),\n",
        "                             nn.ReLU(),\n",
        "                             nn.Linear(hidden_size, hidden_size),\n",
        "                             nn.ReLU(),\n",
        "                             nn.Linear(hidden_size, hidden_size),\n",
        "                             nn.ReLU(),\n",
        "                             nn.Linear(hidden_size, action_size),\n",
        "                             nn.Softmax(dim=1))\n",
        "  \n",
        "  def forward(self, x):\n",
        "    \"\"\"Get policy from state\n",
        "\n",
        "      Args:\n",
        "          state (tensor): current state, size (batch x state_size)\n",
        "\n",
        "      Returns:\n",
        "          action_dist (tensor): probability distribution over actions (batch x action_size)\n",
        "    \"\"\"\n",
        "    return self.net(x)\n",
        "  \n",
        "\n",
        "# Value Network\n",
        "class ValueNetwork(nn.Module):\n",
        "  def __init__(self, state_size):\n",
        "    super().__init__()\n",
        "    hidden_size = 8\n",
        "  \n",
        "    self.net = nn.Sequential(nn.Linear(state_size, hidden_size),\n",
        "                             nn.ReLU(),\n",
        "                             nn.Linear(hidden_size, hidden_size),\n",
        "                             nn.ReLU(),\n",
        "                             nn.Linear(hidden_size, hidden_size),\n",
        "                             nn.ReLU(),\n",
        "                             nn.Linear(hidden_size, 1))\n",
        "    \n",
        "  def forward(self, x):\n",
        "    \"\"\"Estimate value given state\n",
        "\n",
        "      Args:\n",
        "          state (tensor): current state, size (batch x state_size)\n",
        "\n",
        "      Returns:\n",
        "          value (tensor): estimated value, size (batch)\n",
        "    \"\"\"\n",
        "    return self.net(x)"
      ],
      "execution_count": 7,
      "outputs": []
    },
    {
      "cell_type": "markdown",
      "metadata": {
        "id": "_aBD_R_e01Qb"
      },
      "source": [
        "### Main"
      ]
    },
    {
      "cell_type": "code",
      "metadata": {
        "id": "qX_Bv4M4MyY2",
        "colab": {
          "base_uri": "https://localhost:8080/",
          "height": 421
        },
        "outputId": "09db6094-0205-4ef1-befd-1df44a129218"
      },
      "source": [
        "def ppo_main():\n",
        "  # Hyper parameters\n",
        "  lr = 1e-3\n",
        "  epochs = 20\n",
        "  env_samples = 100\n",
        "  gamma = 0.9\n",
        "  batch_size = 256\n",
        "  epsilon = 0.2\n",
        "  policy_epochs = 5\n",
        "\n",
        "  # Init environment \n",
        "  state_size = 4\n",
        "  action_size = 2\n",
        "  env = gym.make('CartPole-v1')\n",
        "\n",
        "  # Init networks\n",
        "  policy_network = PolicyNetwork(state_size, action_size).cuda()\n",
        "  value_network = ValueNetwork(state_size).cuda()\n",
        "\n",
        "  # Init optimizer\n",
        "  optim = torch.optim.Adam(chain(policy_network.parameters(), value_network.parameters()), lr=lr)\n",
        "\n",
        "  # Start main loop\n",
        "  results_ppo = []\n",
        "  loop = tqdm(total=epochs, position=0, leave=False)\n",
        "  for epoch in range(epochs):\n",
        "    ######################\n",
        "    last_epoch = (epoch+1 == epochs)\n",
        "    # Record only last epoch\n",
        "    if last_epoch:\n",
        "      env = wrap_env(env)\n",
        "    ######################\n",
        "    \n",
        "    memory = []  # Reset memory every epoch\n",
        "    rewards = []  # Calculate average epi\n",
        "    # Begin experience loop\n",
        "    for episode in range(env_samples):\n",
        "      \n",
        "      # Reset environment\n",
        "      state = env.reset()\n",
        "      done = False\n",
        "      rollout = []\n",
        "      cum_reward = 0  # Track cumulative reward\n",
        "\n",
        "      # Begin episode\n",
        "      while not done and cum_reward < 200:  # End after 200 steps   \n",
        "        # Get action\n",
        "        action, action_dist = get_action_ppo(policy_network, state)\n",
        "        \n",
        "        # Take step\n",
        "        next_state, reward, done, _ = env.step(action)\n",
        "        # env.render()\n",
        "\n",
        "        # Store step\n",
        "        rollout.append((state, action, action_dist, reward))\n",
        "\n",
        "        cum_reward += reward\n",
        "        state = next_state  # Set current state\n",
        "\n",
        "      # Calculate returns and add episode to memory\n",
        "      memory = calculate_return(memory, rollout, gamma)\n",
        "\n",
        "      rewards.append(cum_reward)\n",
        "      ######################\n",
        "      env.close()\n",
        "      ######################\n",
        "    # Train\n",
        "    dataset = RLDataset(memory)\n",
        "    loader = DataLoader(dataset, batch_size=batch_size, shuffle=True)\n",
        "    learn_ppo(optim, policy_network, value_network, loader, epsilon, policy_epochs)\n",
        "    \n",
        "    # Print results\n",
        "    results_ppo.extend(rewards)  # Store rewards for this epoch\n",
        "    loop.update(1)\n",
        "    loop.set_description(\"Epochs: {} Reward: {}\".format(epoch, results_ppo[-1]))\n",
        "\n",
        "  return results_ppo\n",
        "\n",
        "results_ppo = ppo_main()\n",
        "######################\n",
        "show_video()\n",
        "######################"
      ],
      "execution_count": 8,
      "outputs": [
        {
          "output_type": "stream",
          "name": "stderr",
          "text": [
            ""
          ]
        },
        {
          "output_type": "display_data",
          "data": {
            "text/plain": [
              "<IPython.core.display.HTML object>"
            ],
            "text/html": [
              "<video alt=\"test\" autoplay \n",
              "                loop controls style=\"height: 400px;\">\n",
              "                <source src=\"data:video/mp4;base64,AAAAIGZ0eXBpc29tAAACAGlzb21pc28yYXZjMW1wNDEAAAAIZnJlZQAAQKJtZGF0AAACrgYF//+q3EXpvebZSLeWLNgg2SPu73gyNjQgLSBjb3JlIDE1MiByMjg1NCBlOWE1OTAzIC0gSC4yNjQvTVBFRy00IEFWQyBjb2RlYyAtIENvcHlsZWZ0IDIwMDMtMjAxNyAtIGh0dHA6Ly93d3cudmlkZW9sYW4ub3JnL3gyNjQuaHRtbCAtIG9wdGlvbnM6IGNhYmFjPTEgcmVmPTMgZGVibG9jaz0xOjA6MCBhbmFseXNlPTB4MzoweDExMyBtZT1oZXggc3VibWU9NyBwc3k9MSBwc3lfcmQ9MS4wMDowLjAwIG1peGVkX3JlZj0xIG1lX3JhbmdlPTE2IGNocm9tYV9tZT0xIHRyZWxsaXM9MSA4eDhkY3Q9MSBjcW09MCBkZWFkem9uZT0yMSwxMSBmYXN0X3Bza2lwPTEgY2hyb21hX3FwX29mZnNldD0tMiB0aHJlYWRzPTMgbG9va2FoZWFkX3RocmVhZHM9MSBzbGljZWRfdGhyZWFkcz0wIG5yPTAgZGVjaW1hdGU9MSBpbnRlcmxhY2VkPTAgYmx1cmF5X2NvbXBhdD0wIGNvbnN0cmFpbmVkX2ludHJhPTAgYmZyYW1lcz0zIGJfcHlyYW1pZD0yIGJfYWRhcHQ9MSBiX2JpYXM9MCBkaXJlY3Q9MSB3ZWlnaHRiPTEgb3Blbl9nb3A9MCB3ZWlnaHRwPTIga2V5aW50PTI1MCBrZXlpbnRfbWluPTI1IHNjZW5lY3V0PTQwIGludHJhX3JlZnJlc2g9MCByY19sb29rYWhlYWQ9NDAgcmM9Y3JmIG1idHJlZT0xIGNyZj0yMy4wIHFjb21wPTAuNjAgcXBtaW49MCBxcG1heD02OSBxcHN0ZXA9NCBpcF9yYXRpbz0xLjQwIGFxPTE6MS4wMACAAAABnGWIhAAz//727L4FNf2f0JcRLMXaSnA+KqSAgHc0wAAAAwAAAwAAFgn0I7DkqgN3QAAAHGAFBCwCPCVC2EhH2Olf8H/BzKRoCKX8nMoxqB+D3rZ6auRqSAxVWFhcn8OhpaUgd6kJsTRKU0wgWkjr3NRAN5zBMDlXQWaN/bNjEpIGn9rl+V/ORG7bzhcaUMGEEAtbrSeTyt2KB3bvAyi0A/oCRLrgU1ax3lbkrU8Kk1k2mRPaAZsCk7cZjFvDYsUUtSEPuF4oavBuOQ1Nz1MqHU16V/SMPmOcUIqBTHVY4dErgBxZBqL0TSoywL/S9CStTmfS6ixAfBVTtB7Xp1mm9f583M9zj21tt1rxYn7+rCDxsO3J7EZ5g12h+xgr4ldz/q4zDcifU57COOLxLoIcAdVXF07nH5M2f6rG18CwKeIqKjOuLTR593rwqoLgMGfzMhHiqO06xWfW+aevAKJMImpj3rwMkfg9yQ2WRTeDNdRo3jhPBjPFDovqv8nGPre19o7DaOCHZPLmHzQ1BeD5uKWzVcAAAAMAAAMABNUAAAD9QZokbEM//p4QAABFjU8mviAKAb2lK88X2H6BFXktzgm9JA20Vhp3WC/Aeyj+u4hJ737ouqKBr3GkAJICKv6/3Nj3D0Qc+vuR+nAEQnqj+JjZuZc2G6GqtNvdNREGvoUuzBsrkjGSwHeNb8oxyDQuRhk9oP4IX/NfjMo1LAEq8aq3Tmfjc1bzumRdAumNnohxQwpFVJuWI+k1CySX8WwoCYyVSOPfWfuOZeTD77ODXdy/5P9I5BVySc6xbRYdzNYTX4fenIMyx+wJa+FbnAAAAwAAar+SNVaQEVsrxSQ/wm9WPqwu6kJbRH6PG21Tb2NtR6GCFgWUIe556oB5QAAAAFNBnkJ4hH8AABa1Puk3C3XJ0tbGu33vEeUKjw0uPkZHcAAIgOn3+QbO53dZy0PntlAgAAADAAN2AT0svECPh+MRJ0/IwpIzFO5yroStU0d2KADFgQAAADgBnmF0R/8AACPDP7VPdKxNqFjbi2DS17gAAAMAAAMAGrb+3ToiqxzbJhsLanQAAD41o0F6dwAYsAAAAEcBnmNqR/8AACK/HTXBnas8AEqFUeleoSwHeft2GrAUVeCqQJtliYrx4B4AAAMAg8w+k9GjedanJgCkxv/5gAAGrtU0AygEfQAAALdBmmhJqEFomUwIX//+jLAAAEYohRABfjAfgVmaRq2laVTSd71JP6izP2dig8e+ny/fGDYB1JGQFZeFRwCbvL+RzMOMqbCtH0UL4OmrdIxDtoA+4m9lql7G5laThJBQ18xnzW/7WcRFAAIQJMqU44xYfT6PNHUkvnoiBeuEx/c4ePi8qN13NvkurFaTWAqIJypB7iYQZNoSA6G+X2ZNKnUqANacfH+Az8GtjOlrYvI/MyyqiMifL4EAAABTQZ6GRREsI/8AABYwoFIXj4yPABOLxs6MMCx9qTT1sVNS3SW36kVDOihBn+cOA7ySPdrRUHDVeX6sB153YyYWRkvxG+/cJMK5sAAAAwDkDwkWAa0AAABGAZ6ldEf/AAAirD583msM1O5Q+kAC48oMLQ9YUDxwaGFWouDdVEz8XQzwwruwg2OyYp3sHe8mQAXWFuNgq5YPUTzJKoA1oQAAADIBnqdqR/8AACOx6/wc0Cgwld4cul4lAAxWk8t+fyeT+auTaNp/zlvsa8AAATNnlCAScAAAAFNBmqtJqEFsmUwIZ//+nhAAAEVUws3rCYbO7B0xigsuyP2kHp3EgCIC7r4n9Rmin+e7uyfEYz7/F9AMdbxWIc7y5++RAEaJLY5VUv55LWHJIMsGLAAAAFdBnslFFSwj/wAAFrxHFgPphiRGgSfKPjBPR+t7zUfy91O27ChsR0AEIgqiZAiHaYzeTIa6yI6MXcwQhdHupbUB7aSNKta9QxdtOGW0iBxFBzLYaDCAN6EAAAA4AZ7qakf/AAAjsev8HmaHaSPng2zC2hdCfeUwIaglixPD169v4gDsahU58TcjV3AAAEaD9eWARcAAAAB2QZrvSahBbJlMCF///oywAABGMS7yGe4BM+9a2Gb01+a2w1VLDoqs6tAX6kSZ7g5wBObm77fv+8eydMnEv0Nzey8jZ+HtO/+rAv6Tt//2Lvr6wh7HlQhkDVv35e1cjws0n9B3G4qKWV68RA3otyfFUzHMI+BOwAAAADpBnw1FFSwj/wAAFrxHFf7JBphRKcnUFVbSekRP8H+tapKakQauDESTB7NSSc2PukkAjvYNt2mZYD/BAAAANgGfLHRH/wAAIqw+fjiPzZHoJppb5IAF1ErVjn8JzXMvqWKtOmtEIXJz+viRAAADACkEMqoB/wAAACEBny5qR/8AACOxzAlvqXf9FvBLChryddMwAABmZFGWCTkAAABcQZsySahBbJlMCGf//p4QAABFUjIIAp/8OAbZzowl3dxC0WsodmMcqnOhyatEzXRz2AUD0b0t7XXDeDcT9tNDUrCTac+uanMN8fZSYAAAAwAAAwAAr8QSrJZLUxAAAAAyQZ9QRRUsI/8AABa1RAWvJPkJWdV1wwttIOEIAW+RetASg56AAAADAAADAASoVLqgGPAAAAAxAZ9xakf/AAAjlHZqBZ3BG1P5E/wt2oxANGHVDrrIfvT4jJAZrT4AAAMAAH6oe4QDxwAAAEBBm3ZJqEFsmUwIZ//+nhAAABpZBgscnWonlVz8MiJeuMisjiADLs9ZTCG1MTsy4wmCQig9nBRvPjPqB4GpVDpgAAAAUkGflEUVLCP/AAAWMKBPt50KG9q/UyLaX6DHCAjiDdIeStxfVxoT7006PGoYystc2EG6No0GOwY6JbX/U1VOklu5IAAB8dI31ItmAdYjBPCApIAAAAArAZ+zdEf/AAAirEJkn2/FocMo4hs0J+2P6xKdssU+w0UCm4AAAEoe48IDjwAAAC4Bn7VqR/8AACK/H3uQHmCZ9c19k+bFIS/QZ2atY4dkKAAAAwAAAwNrgJ4cIA8YAAAAe0GbukmoQWyZTAhn//6eEAAARWVxaQ96cAcm4v5uHj9+zZ6rnxHnt5xXv9lPjCBdCqprmDwYLq5oa7uEPz3LdIeWhMja/fSJvpyd9ysU/73eLFVJT1I+1P/usP8o+aoOpN+7kT8hZ/Wb+VYZ8vSSIVacffVTOVk/Qd7VKQAAAD9Bn9hFFSwj/wAAFm//GUvFOqzWVf54q7ez/RYiiAALrH4AwlzpCbw2ZNgnxb4XemEW+TSMjcdQl75EWjLAfkEAAABHAZ/3dEf/AAAjq/hbeCMJwKrYeMnM6ox7MwATt2j+qn3IwkVm9MIqPSqtiDNj7nhgVzvKXPXEllQ+1tNvarQxj9q6lWvZYc0AAAAtAZ/5akf/AAAjvwQrwHKL2M7T00Jn+sFpzoNsStW+KygCHnS2J8Pky8+YdgfNAAAAekGb/kmoQWyZTAhn//6eEAAAAwAzYrsHD7AAnDiSkZKc2n8Yt/DFN2qWsr65awwOZ7pioYKMr58rgixmHLkRIWpIUfgpEpmCzrzszDIP+WIiDBPQmrwc5+Jv4C7l+M1PdGxb8ix9cl+4EL/MyCP9cUW2p4rHDhQ085p2AAAAKkGeHEUVLCP/AAADABBeQ9A98rydpfs4DuxmY8AAAAMCksTXPLUqtHUEDQAAAB4Bnjt0R/8AAAMAA7dqSwBZul4uKAAAL8DCmW8QFJEAAAAcAZ49akf/AAADABppKl61XzfrMNZjeHFiQ+pvgAAAAItBmiJJqEFsmUwIX//+jLAAAEYloSFJ6gIbmUgUPrz0FpleNqfcSdzF5DaH92Rn7AH98KQTw7h2jC5RhlTUFQmuh/FPhqy1UD6dOFCX8L0A8hjEVO/GHG9AI1l0nYyYjMLeGUdjpPmMsF7ftP2LcjRRPuIdzwjT3pSU6buaOoI/ZH5IDR4a+ayH4+cqAAAAQEGeQEUVLCP/AAAWtSs4AjAAjIuNRte3bzyQ3wuPHCKxGwUuS0GM4AiHJNwyatwMwKosRXZ3lRCUEh+bDm3g6YEAAABLAZ5/dEf/AAAjPcs5/aX1MU+UdkaPYYUASkZqI8YZ7OCueFgXroGJnmctADh0eUcleAE1dCnxTejg4c2AbZZf85Fmlt0l+thFAAh4AAAAMQGeYWpH/wAAI6jd5uQvtkTPp2FPE78XttoOk6t55M395QAThnzp2bJOKoraeTSFQ6cAAABqQZpmSahBbJlMCF///oywAABGA5UZwCaMVa3VjX99Q4AsOofIOiZNmXm5i03N1XGdtP8UmK+K9gG3zXbMzVoxxKg29mF8T1VpK49/IRdMR1x5rvBu2AFlPnvqStP5JYrF6yHonOjBNU3SHAAAAFRBnoRFFSwj/wAAFrUrN2tfzzuMRsxMQaAG4HzV/A09lpIIQyJgqVIGi/bXnSHGBCPPOVqFpdXiwL0iEhX+bOcp1ftPLMXC/QV/mwI18+T7w/ychPMAAAAyAZ6jdEf/AAANhd0r4qSgwuhz4X6NR0Uk3h/dIrJpAB9+DPBlnsyduG7Icx9zpsl2SRkAAAA3AZ6lakf/AAANglFR9UyMPNRVsUb5Xqm1O76dLjk+EJ5IIgPLLDfMQABOGMwQLuJ/G+6hMaONaQAAAFVBmqhJqEFsmUwUTDP//p4QAABFVMLOJtqlXDhYxYMJOM2GcX8IW+vl8VgA0HKvTnJHipGZQdsUp+V/rquqOyiEBIo+WfPHnWHBeIWeltDU/bJuaQvhAAAAMAGex2pH/wAAI7Iq7qm4PezVWG8nTMwRuad/dA3KAE1aXQw8OpMCw9tJ3E6AYfGqYAAAAFxBmsxJ4QpSZTAhn/6eEAAARUFGgAT/adAs8fCKRP338tTq3TVmAwIDOlPS6rRDwGkBL/O4nkmyOC3vrEBgO48QODpqiwoC/TacFEGXH7/6PEeR8TmRmS/OKC5I4AAAAD1BnupFNEwj/wAAFrxOGEwPf4BlcRdv0E8R3fFhX624/hk42XEgW18ADYrKOFaYqIC7AMBPynkof4OGZx0xAAAALwGfCXRH/wAADX9AfQg/c8GarlvlM7gTIFB+Rq2QwrMgAPt74Ac4BPy6HJJpYFtAAAAANwGfC2pH/wAAI7I01eMbcnXyZpt+TXlWWFxx/Zf26sahdzZ4ftgAD74hfbQvD6TzfNMO6stes+AAAACFQZsQSahBaJlMCGf//p4QAABFRSMKSgFSBIwt9XyQKfm8tJjEn4c1c1fSnPKe8Em49HgTh6eEOr2bxR9TP0CcL1x1vvGesClmzY4bTdeTbpdh9f3o3Rf6gEpUAkhj7MM+5KjmPudMSYwp20jcYcBWYGtNFZLh4yoFSgGLJQ6l8zjpjU9mDwAAADdBny5FESwj/wAAFqgOxk9tcg7PyVTuufIzZLKYXqZA+l9++GxRKhgsAHORvJkBbPnE4mPPJN3TAAAANgGfTXRH/wAAI8MXdFBDJrMm98/gAtRL6UkRRgZdSRB++KseL9ukcKiZ2MRxjtJDUuNfACN0wQAAAC8Bn09qR/8AACO/G72OAC0Z8Cd+drBH8VkSvvQw8BNq+W3t/8EvL+zFsJ2ayEaeYAAAAHVBm1RJqEFsmUwIZ//+nhAAAEVFJikys29P4AW4UrxcTT7DSBMwb1Vxih+siNygJV1VIYjg16MdAsVZsH+cF6DjApcAcnFrk1FeJqm1psjar7Wk9JlnrIv87z6clZPqbNmQEvpY+/iOGaLXfBCjBU/p3m9LLywAAAA9QZ9yRRUsI/8AABbAWffJkTTC5K9G2CtNSFWgBbgSTT/UzbEHHEn/YoB7h00DKDQgvCDiqS7tSj0+sHJwswAAADQBn5F0R/8AACOr+Gi6Flu90GytyQajwqs/ZQQxaZSNyKhaAEh+G+r3lYAdI7vIdFJUX2fAAAAAJQGfk2pH/wAAI78azCAC9T+t5/p3rZSppClpbAuJkARs4uc35iAAAABsQZuYSahBbJlMCGf//p4QAABDTUlYAbMo72xFRVQjjoQlyIS749dvxuLBAPQk5sUhJsr+/lua1bGCTF8GQJQfO2AsDqOBE3Wow5CbPXRiCJ6CAzOTNOLEvbogrj2D+mLrc0kUlxuUTZ4XZDZxAAAAP0GftkUVLCP/AAAWLFC3gUJUAcyW80oEWWpbDsFa3eSKE0zgAWzvOHI4yG8XRtV02sC1LlAeEN/X2WIrpjwE8wAAADEBn9V0R/8AAA13Raakgl9pj4XYE9/GeJeqkQpH6/OfABDWkHQgBlSpt/2I0wdysGLBAAAANgGf12pH/wAAIr8fjZEFdlZQqell7i+5L4vvDj0LJqdy8D4IUcABO3aSknN4R+IhCPJmkX0KRwAAAGpBm9xJqEFsmUwIZ//+nhAAAEVFJZcXLYAG0pVeho6vmcrR1pIBCopjTw2FTdbpg7jTX1hE8N4MBTfBEPBfxyEC/xw+k0wq/Eh+UUcD5b9r/elb5nErwCy4U6P9hJ9BLA792Nld4bSpbIWAAAAAQUGf+kUVLCP/AAAWvEPNt1DRwrrX2VZ7MAqdmXcZUIm6DOAwMTV5Q6RcADgQ7F4/CbrJUHjmcIXJRfX5S+sbJFTzAAAAKAGeGXRH/wAADX9AgUa4YO6mc7whv/o78m7SSMuNRPa1cc5/HFPS90AAAAA1AZ4bakf/AAAjvwQnYueW+aSnMq17apF6bap+n5ukZTwSzpYAEPwz9FLUEETGRP1Qav/pnTEAAAB4QZoASahBbJlMCGf//p4QAABDuPPo+djVwDUrNeUsJcl2I+TQInFPO4KlVODZFZzsoUBWD1e5Xjl4A5HRf57a4+JivUxrGtt4zIOfp8UrqagomBp4YCx3HI4Tl9Fi9mKNB0a7FJ1FZPyRwcdQf3ZuVz3Sxu8Jfql5AAAAO0GePkUVLCP/AAAWOtCACvVN6NHjDQgaKifPKKYRhwSt29psEPl1LKYUVUYVii91gW9pDkhDph8EQ7FmAAAAOAGeXXRH/wAAI7rOtSAESADd06QCVfOxmpXPrUol7tgWgeJnSLsE7VPacryArQpVaKO1e98rYYQsAAAAKAGeX2pH/wAAIr8fj/k99nhgA9LrBURA1BxvPkJ0rJPZ8QCyHp4t7mMAAAA8QZpESahBbJlMCF///oywAAAajmt7/o/vCw8b43rg75pH6k95U4NvMj1AFkJtUWI+qwtxsTZ+99AKoFCWAAAAQUGeYkUVLCP/AAAIcFHPAO9Oyv1K7Asp4AJmoFIDqUQWTOWn0TX52IZIVJzB3dkgnekgg/tXJfxYrouKChp91NqHAAAAKAGegXRH/wAADX4A02ERycSVJZWp4drA7AAQd7HFf/AQ3qyFn2mAA1IAAAAlAZ6Dakf/AAANhYRDLIWN6g2o/4omZxZX6dyUlIgY1umEpooswQAAAEdBmohJqEFsmUwIX//+jLAAAEYHuQAhHqUJfQYxRd5Qk6oMYkTNDMqUn893SP7Zr5n5UPoDXuzD6q5kseqRp80y+2EJ38QekQAAAClBnqZFFSwj/wAAFrxOGEuoiCvKAAH7ku1H6iynSoGSCbv0BkfgKZuntQAAACMBnsV0R/8AAA1+ANIUGcAEihH9awegSssu/dbAT3ifPI42FwAAABYBnsdqR/8AACO/HFVg7HQsjxW3Ue+YAAAAZUGay0moQWyZTAhf//6MsAAARhNmQMAOiowx4StTot16/RC968vPGuG7lX/FAJtGtyUHIcJCKfrHMenVrRaODhbRZx5SAKvANpWN2M0x44pqcKgVxWgAEsvrlDO5TL1eq1LF4enAAAAAHkGe6UUVLCP/AAAWtStDMpT2izjPmpOP9sbhzpTZ5wAAAC4BnwpqR/8AAAMACjlIkFM41jr+AA/a2r9AMUJV3g4CTsypmgaWhqPwocsNh5vgAAAAQkGbDkmoQWyZTAhn//6eEAAARUiXIAreqqDUCZrkyi1agjGAjG42KuIWm3MTCUZrQdVGmGlBFhAqeEUHhPRllI5owgAAAChBnyxFFSwj/wAAAwB0IfItGBwA3KCguVuLkxPJHLuHq64Fup+AA8PBAAAAIQGfTWpH/wAAI8fHJ175l5UbiUMACxZcA7wHX2Ne8Xk3zQAAAFtBm1JJqEFsmUwIZ//+nhAAAEVzNQh5WAE9X2hXQ1DUFZlHNszweWwwie+dGuIcq1S3MGyZalmi1bCxYMoUg33iekrXjX9Jjg0egLZeSz63htqB+nqjrVYYMAlxAAAANEGfcEUVLCP/AAAWtSs3a1peqjRqH9IACZHo39r3/1XQ97tD7E1qWlV0O1Eql0MoIfoR6eYAAAAiAZ+PdEf/AAAjwxdoqaVT8/qZFGVUTjgnp7EPlSl8OOU3wAAAACABn5FqR/8AAAMB24ATChpuiXREqLSOpOA4L7OjwTKmfQAAAHZBm5ZJqEFsmUwIX//+jLAAAEYpletgGr6koRaUUjPmKUua/04YE56cItmgVc3uqBNaHOuR4zie9h+2QOqmZlvg194CgLOtv/RNZg5p+K73OdIDSEysdN7rGVaXk9Fk8uVW+/0wJhwHmoPfiauO2NgMfuea/vPsAAAANkGftEUVLCP/AAAWvEPNHhhg9BF7eDEJ209kAG29sX0roX2Z5q9kqASev3cvFKb83DQrtvZrPgAAADEBn9N0R/8AAAMB2ooeex56xsAPb280XE/QAE6w3mr1QxtgBwLWlfZmV3r9vmLD8zPNAAAALQGf1WpH/wAAI7G1TSAFYTUHCFMbcWWJPghcpGIcaXTJ+KgGNIBXtcfRN16kYAAAAI9Bm9pJqEFsmUwIX//+jLAAAEYlEE4wBQbaeJSf1jbFg9S1+51e39bOkOPhwUwx8owTfKAGm3rko+FJ5hq13TB8pnP03+E9OT1eumZR5SNsyzC+FmOFZdavPM5Nxrxr8p1yif7HFPirsMRY2HDnoZ9LrpC7vuEoUAPqYvvRcjCs+RL1+X8IXG8WVexTUvUhnwAAAEtBn/hFFSwj/wAAFrzFcABxt+WRwpP6vBxCS85r6cTChQgAqxmypCRa7cYZ+GYmLnl9r6Xfqtup++/EqsHYQecmn6GJli7M4p9j/EEAAAArAZ4XdEf/AAAjwxd3FftdX65ZwzYdaCcPLfs5h9AAQ+U9Ed2MIKkcGLoDegAAADoBnhlqR/8AACOZMRT8+np6rSDGOWQrmkskKkapKEYaDVGRAAugA1aMXF/kmq7vSSgoCxCq/0Yc7LzFAAAAZkGaHUmoQWyZTAhf//6MsAAARiW+X1YBCPTIYad896T89BxEwGKjY0/n3g5bGNFBGxlMpAMDbp4H+dKe0Qctt+ps7OO1mYKZi0M643tbPgBfDmN0K+6FsrEjqnhgAtwV/VJOjg724AAAADVBnjtFFSwj/wAAFrxOQ62hphizhLxOFMI2sCt/gKAlm5mdHPbw0amIgBB9hg1PDiBD4N7AswAAACsBnlxqR/8AAA2CPV/Iuu1MAh8l3E3e4zFq5AvzTgugPJU80MAdqsCkQnmBAAAAZEGaQUmoQWyZTAhf//6MsAAARhC8n1+EIilqTEu0VgunFaG4LoZ+va9qvkzdnosGNteJvRs9T3pGBvGYYwAjIW8/t/HxLPSVCveFxSekLM9duldSLXbaPcrjylRd//3b5FS72LgAAAA0QZ5/RRUsI/8AABazSI5EiQndkIfA0Kd0ezTHtU4uHjzMksYz56qR6DCQCq8U0/WQC9U3wAAAADQBnp50R/8AACOsOWBNuxCNMpCEPjdAty0AQMUa9Fww9cTPQDgiw7BRFKd0rM94nrvumgsxAAAAOAGegGpH/wAADXdSDuSvr31dj811azPEx6BN6fFEybM179Gn3i74ACZM/PrISvwWchk/P+IwLnrFAAAAZUGahUmoQWyZTAhf//6MsAAARgLWIwAsFEv5qPRU4Uyv7BV2cNZsOjznGWfYoy1xgjmsAavZ78YvVczhgKycGM5cIenUh1VCGqrgMRZzMIITC3dz0sn2tuYoE8n/8jzYoJZU+QeFAAAAT0Geo0UVLCP/AAAWu4rN8EB7OUp5R1kE2OsV0gAN0My5Ys/T/LclAjWOTd2MvZL4bStwo7o2FyzZJjzpplL+OMo6oJffozmYaP3016NvxYAAAABDAZ7CdEf/AAAj1xUAHCt4SgFK9WeWJfkK3TaXYpaT6p6dqyMC27l703Ry7p3dhlKWh6y2i+qBd30+dVvhwZcahZu5UQAAADcBnsRqR/8AACO/GnBMWPYgzVUraanzTp5f3xphfgsGxbutpeTpoANSOJa2qf20OkDht0WERtmBAAAAdEGaxkmoQWyZTAhn//6eEAAARVI9yAIkNaqHFZZvviI0fib4EjZ4xoFwaGi5yxzhfQeLZNCG5nRi7kFp75Y1F7VHNzktRdqjEysmTRzROOPoEvkPfGvi6RztPWNKnbJPyQ64ZHn2Vq4UM0vPy1JBEQneBDQbAAAAiUGa6knhClJlMCGf/p4QAABHum862mXgAOKbe+LNpwZs0x7KvTpDRixfobexa6nMyA87HEOyEmftwOjbn4LPFPi9xe3b1XkgakKVezFRkuFlpJfpFEcW6vK5jZLJUGsI65pz/WYKUn23zACendJKnDfT8IUesUfDEEqw7pafW19GkrHpNa09d2ghAAAAV0GfCEU0TCP/AAAWu4rR5tVAbNF1Pc5xLtoAVKTMhb2NGrAoKYPrG8hf5lwK2jlkUgagceDJQoucyDm3FJOGZnzszzJTyFkm63WpKp/Pulb7WHxdu2bZgAAAADABnyd0R/8AACOsOwzbM24rGNBM7sGSxQx1haWWB2gBMfje+vgE6K2ulxrEjtH3ztwAAAA8AZ8pakf/AAAjvYP7REPYAJY82+RE6bg9D1TgxF3fL+BJKmJ+r4iiLKFl60KR/+lcTK74XL7sO3ID9EcJAAAAeUGbLkmoQWiZTAhn//6eEAAAR0PNe8Vt+wAdI99S9Nrys+HQMfQvSfFQ8euZDhc6rm/9KIwkR5w3ANNJisoPlxExZ3/f4NfcdTas+v9J1fFvP/LxPlHCYM0AknFTCWh+iZtn+EFAWtfXSTzt/iPUNLaqEk5iE67MBbMAAABmQZ9MRREsI/8AABdCq+dA6DjcEoDnTwW3hcHrEou9CcL6o0AoN6rNsDNz+GN4TVXn8aQxiNztWrZwyeo33Wzg/RTbpAxX8rjbNdSN7NYFxQKANYJ8uzTX/kvVuxep+mK3HsshKU3AAAAAOgGfa3RH/wAAJMLUe4WOCe4xwbAAWQmOR0EBb49U7eV3cv3AdRB0XWVah0BPahDy12EChLGUu+8WLZkAAAAxAZ9takf/AAAkvYOByeB//Hcg5xftsTQSye4y1lWcl97ScxWEN1932RlkakXlGdKbgQAAAHNBm3JJqEFsmUwIZ//+nhAAAEdQ6vXoi1UxoBMzU6YyQqFrVEf3qNGl4ncBOqyPG+GJTbAt+kOulP+Jy97vMX+wDJ4glW4QOE1VzSwTrMTyoZItTnPqwdmHguZFkWwe4kxQA+cblZSONsBjHCw8IJrZijCBAAAAVkGfkEUVLCP/AAAXQqxEpcOcglNDpjWnpbV+++BqzRwNm5KWM2EZY0FslYqzMkI2Ask8cUYWDmP60BdbgR5hGm8IqFl9yrzOhfV7yx4mPmuOZz6w3zxGAAAAPAGfr3RH/wAAJMCZH89loCuKuE1XcfSd9qsQO8q5ROSUKsDnwMLY7Wbh33426EAD+dpDwcGQq9ycMuIRcAAAAEMBn7FqR/8AACSuXjN+6GrLwhSNNPur13AGV6mvb82QPIHTK3j8aj3wASvoU0/Vy51eZXHp9m1xLSa99svk4oiZT/bvAAAAnEGbtkmoQWyZTAhn//6eEAAAR0PNrCbeUHrk0l5iYbs64icCUZNbuZeZCsT2CEPzh+nRhAe13c5k0SBonG0PbBJ5kpobyACw+SpaupNu0Eyt3qd0SjfM5aO/bgLKCFobYpV4/r2jv6w39038lAxkpjM8wuS18KgWjrmZ3R6GpayRTLfm/paqWglJ5FjNufeU4EFMU1iDHEX2WuclQAAAAE5Bn9RFFSwj/wAAF0t6ywgpBTTGJB9wDy2HSpq0CVDx8JUMSOKMcyhjvIc/0D6F30lRGwAC2I2cYKjEoH6i4K2IkLW7azABM9lM06/RG/AAAABKAZ/zdEf/AAAkwJkycytLEyLoZQ2fhUqFDLY/uATxsNt1EORly1jEmKk46/0AH7jvJFv5S9TUzfOn/Q1iFwYDQ6DlF7K93gDlY38AAAA+AZ/1akf/AAAkrVvDiSvJWtDWqFC36Uu2AqGEi5ACgmsciGPguDWya2QoAPHz8Eyo/RPF5vixfj51RP6XAIAAAABuQZv6SahBbJlMCF///oywAABIAT0asCrDsXZZRcOtd20524p+jrF+vQqlPQ67e7AteSZ0Qacbl0u5/VwGv4lKcxMsgMXyz4AOAf002PCXUb3g4bIDQtpmMqu/Xckn3LilcqxrmzYwVPWkmH05YYEAAAA5QZ4YRRUsI/8AABdCrH0EdovgILVIkxRP4Mri8FOy8SCfJ+OxPRBTZo5CMaZOB1s9gBD0Dckt+HuBAAAAPgGeN3RH/wAAJMCalbvu6SxKx2hsn70vjlZHa6yvOnCkQnRq+XxYV0dxpBf/VFaswABMmf/XGGNSvr+ArpMwAAAAQwGeOWpH/wAAJK4OOW6m3Cbtp3STT9lyk3BiimQHgJc2/H1wZE9V7FFZNVaHTb6AEsZ/6jF//cLbX6hP68+da0X5PakAAACEQZo9SahBbJlMCGf//p4QAABJRFn2MR2ACMj7d7uG/TL/X91FpQhKERx3lXfPIM4XOw+stO8msO/v41LRpJ/A/8pmkg2doNS2mLMzooXmONX/R7c/zkGdlynN+zX6BiVm05iPItHep1GRdQvnR3LbxGlO3MUhIcRMZwTWR3nrVfGsHKuvAAAATUGeW0UVLCP/AAAX6XeAc9CvPOrBFBh3a6wI9PvhcJX0ACA8Lr9qoSa1l/1VX+tXQA29LyvP9jvHE+7O9EALVBjZUAphOSV/j2l9mURhAAAAPAGefGpH/wAAJb7ihoIwbf5liebxvssTprGgA+UGOH414DIQZ83j5NxvhggZZy4KtvM8oqzuHe8zd0BJgQAAAHVBmmFJqEFsmUwIZ//+nhAAAElQ6vbLkSbAAWCj9Xe9PNm6Qu12SXVZTlAiuK3m+FoI/rkrKxurDez1xIYZyCqq3EwRsB8CBGrw9eidxZAtwfWkcrNoLFK2qUuTk3lCZu73VvC1/pxTDzqUH6XZNvg42mTP6XUAAABTQZ6fRRUsI/8AABfom2EfXXU0QkuElm430x+ON8Mva0tTgz+AALyp2vpKp4OtkD83Mtbqjh4HEOVenKQSemRthtCdasmbKhb8E75d8lxK87txk4sAAABHAZ6+dEf/AAAlwJkfzsww7cN1XSsPLkZRPCb8DJ/SagREu9q5hfgh9kpz8l61jM/AA/c0d8uKwKNuz5oTDsiw+/ycNkofd0EAAABLAZ6gakf/AAAlrl4zfuh4GQALoAXrYPFyPFQdXaq82sC2zyRwVvDDsmZSXUK79HVSmv/P/PBn0v7QfiiCc/qY/n9HZtlY4E2TreXaAAAAbEGapUmoQWyZTAhn//6eEAAASVD0raAAjA2/YkmiUClOgEaYwqbZnSTKMG+WPF3iJ1eJk5FmwDllg0U0SxVr90J9C9LzFuMIiG20nAeVbJO6CBdz6tJhQDu8jR6NBHCz06AgvnHo1RfV5wFSIwAAAFBBnsNFFSwj/wAAF9PU+QCeKP3EUboQQgS8AAupysYpS+GbtMyypwKPW+IXC4gl8OErus7hBqYw/FDo0Ye2k+Ksz0Tdf6p6hj4L2CLs1Z2tgAAAAFABnuJ0R/8AACW/74z5GihQGAC6AF/1hG318DQc+RmEJHkoxzRkVBGmHl5CsxjnGINnX0kn0u3iDdxqhB60Prao8SEnWQv9+EAuU4jMuMwIEQAAAEsBnuRqR/8AACW9g0JvKfPhWMWWYfaI2AHmyEcyAe+NJiQavUEMyaAF+aDlb3Euw4AHtaHF/F6yNwqwolrYvtZ8TovbfVnEaqpFUmEAAABQQZrpSahBbJlMCGf//p4QAABLQ/fcOLM03lPVmkifvtzU9n5HVeptoOEzo4c3/WBvevMqRZxHurSl+w4OVo1TgMI/zdy2YWoor6hKMP27LMEAAAA1QZ8HRRUsI/8AABiJfHIzoARgNC7zinjFKgjjLdhWe2DLUgSjHtZvhZ7xeGH1Wruh5L3icqEAAAA2AZ8mdEf/AAAlqenbUM9Pt2qMohyT9xWpGI0bVV2u/oO9m87AB/HjfhjSsa2q0aPMGR39GqckAAAAJgGfKGpH/wAAJr70cHURtDyyvnctfiZFv1ddjNmOsVGY03+cUecDAAAAW0GbLUmoQWyZTAhf//6MsAAATAFhRpiAC/21GLP3ZPOCS/qMYSJYjnhmW8nfa94q+8Lyj0YxUkUKTse6h3jgZoGrLlxqIqTaANem/pDjXqzNpPD7A1yGKqpHjmUAAAA9QZ9LRRUsI/8AABiIYyv+/ilbltcACcYlhJYwfWdgTiRbj97XhKhIWLmMAyRTiYRtO5j3t1N2xDBVTZ8FsAAAADgBn2p0R/8AACbAmJs/r43G6ss1JXRQBnxQlRLnb3MgZA7+SkAACCB5Q5aQEJHKuqOIQXz3gfAtggAAAC0Bn2xqR/8AACa9gy+YWMiL+vVONwyY92aPjCMmIpwWeAElyp5PMcpcaAA+cqEAAACAQZtwSahBbJlMCGf//p4QAABLQ86vgAcWlws/miICYgueahomlg7Aa3H0CXwWTleAAWdh3LMRh4jF+sJvXSpQj+1SBQGwSjHgd/tjvNAw3wtj0ZGn4pTdb8livTkfQ0s7sutjt0TgYFvs/n7EwmcE0/0kSiONCIoLXUjUWn0obnsAAAA/QZ+ORRUsI/8AABh/Q70LXmnGl1CVTHbEI6DF37wDGrV7Ad42eND9TIH+szITtLDbbPxlIy9p1bu5DZ0mozg5AAAAMQGfr2pH/wAAJsbZ3TpfzWMoIXJ5rjGHzoIAzxAU+g/8AYCEB8tF8eV5s8b+hLACk5UAAABwQZu0SahBbJlMCF///oywAABMAV/VzACMj0wATg38unFB8RNFXaGEn4X+gXV1EeEtGAURRGhZ03MgeGp2jf8hZeJx62VvAjLKzNe4TiqxnKGq6knomk6zESXRlbhv2ywvbrCmxKGGFy92eV5693sGCgAAAExBn9JFFSwj/wAAGIhjJxYmhE2UH+pioS5Lzd2F//8O8aKiIQ0Qkt53v5zL0kZ2QC3vY2uJXcgHFuQDx6DsDD8t9FHbnUoBOuZGbTQhAAAASQGf8XRH/wAAJsCZMnM5uOcl2/j7mMfJZ2mQgAtGe9jf0+xgAVwnots8+hSoXB+DlbFDRqxly5nzKwBA2Aq+tBshOOGVWHQwAcAAAABOAZ/zakf/AAAmrmAFC0MUj4AFoz52avIV/2/sTDYmZp/KNy0J5jrgEZ81gYOG8BH4g9QTz3UI3Jv6Wub7rPHUrLuCBBf5DswgaF43mlaoAAAAY0Gb+EmoQWyZTAhf//6MsAAATlYcBBuAAh4T0FCsH8AD3Sw9hAIWNMZCi5X2m9egctPXU/9bgJes5pFe4P+L0bO1oWC5UYmPtW2aR2ejH/nl2iv+6b1p0pwFLbXv3FaGB2INqQAAAExBnhZFFSwj/wAAGR9DvQtLgerp/iOdPFIs7xpqVEOBugCjAr3seHtviilhw+4cYi4t5kR+yfOT98t6jV5r2GlHxNbBMQm9m2+EmS2gAAAASQGeNXRH/wAAJ9qczLQQwdIb4pGrf4eRhFlQUb8O4DD0Su7Ss82o/JSWYUHHHtiQAtwBVW3yA26zhzYuNKdjuVydZmqkTwKwm60AAABTAZ43akf/AAAnxBmXyVRM5rK+1zezldfKwQAlSA/73N28mgpJjuShAjoWfV/zb+83h5dSyAcKK0Eq6MY7pKqCiFFbg703BljynwurREdM7mZwNoEAAACMQZo6SahBbJlMFEwz//6eEAAATUNhv4ALAbD6phcc5ha86rVhxoucMBdEh2oi8Y3o8bw/E8TtnwO5Vr9ufv/Yepq+32ZrPt9J1gt5MnLekRgtbIls/48eTgSG2wJyOPLdMc2jlMMXDSX3eFGGlO7lH1ru56ZO881iBQXj3fjEVespY2i+SKgjee4FAVgAAABHAZ5Zakf/AAAn16jm09BfsRF4f4LQsbGBKS3X9mj66EeMfo9hf6o56fTthi6KVezePwQ5ABLb3a0JXGcr4OTHymJgTkqZ5SUAAACUQZpeSeEKUmUwIZ/+nhAAAE1D3RJAAcbMBAR1QT3+jlBNGE5+JAJybutbvi3qgmmqxcqXbWfHtinltl/QolbJ1bbwogVxjqyD69skh9JU0iHcBqPEr0o0C7ABWt9kXyBHJG5Z+tVvOisH/T2bsmboYaiptYVfPgMrM9EbpFjZrvYtfxxKgfcn6FtnycUTO6NhQ4nOwAAAAE9BnnxFNEwj/wAAGRPZC7jVSAUaFqtASsE/s9a/egfyem6gUnjWM8pox4OWhZmIUxm3LzZ8pCzEa6dG/5kxHkl54ah01GLPv0HGRBcNARvRAAAAWAGem3RH/wAAJ7TNkrFQ0sz3q8w6Zexiyd196PcUUAGL8SZM60dYSOZEGPwN9elotvwCZ2/ALMwyvhzCPqeFIoH+TEAJTjiRbHKzpTJV8CYTDmrYp1TGQ8EAAABSAZ6dakf/AAAntUqhZCCgiKH5/+HRIP2nI3OpU1XqYtp52t/c6doQyB/c67n7zndbyQlOmxfABtplo71AJRJB9h9phE2ip+QeK4DoKu9Zd77bQAAAAIBBmoJJqEFomUwIZ//+nhAAAE2WSbBwADi0tiFP6Kun3v16x0tp2nTZU1KktRjWsab7EdvCiaiLLlk2TrIhsrfJrtQlwW1gRDCwCGM0heL+QezQHGC9sV//LZAqFTUKPctcZDBq+LTtxkLJGDZOCZ2fp0jy7769c6G27qqmZn0ruAAAAEdBnqBFESwj/wAAGR/rJijaCsOgHeAYZgQtQdxfDCaz28GqCqsJmayn5/4N36WIrEkKylajLFX+pfjHnIN9vPLAIs41kRuHgQAAAEoBnt90R/8AACfbVlDK3/yOi9eOb1quplciFkSr94F2KPJoABdC8WVEL/72sYLjmHcwhO6WAlizeshdR4hS/egVXEjaiFG2PytgQAAAAEwBnsFqR/8AACfFVJzLX7WngAC2TiJXoT55ZDJp5wbwN8n4k74oM/H3ziTgq0vk5yb+KN0FcFqyF9ijYJl7M4kdrJc35jPwsBJh/2BBAAAAfkGaxkmoQWyZTAhn//6eEAAAT4FffjQAFgMjUf9WRY7iHCh2F5HfuwuBP0R5nke4G5nMgUkx5y9OvZ9THQQSKoF/Tgz+s4CWVGHH2VxIHijJB7CMLx6l9EcSxTssXzYnFmYfWqgTm/j//Qvo95ro69yg57zuk79ucMn/ZDmwZQAAAD9BnuRFFSwj/wAAGcibT/I/s2dRoIYdoXIhtDynVK2584PPnikLtMvxWgoaVyoZhQh4qh9eHA0WYpXybdtwN+EAAAA4AZ8DdEf/AAAo+1Y4wD0Uui42AAiSpu8JI3N3Knlnwfhk06Jy7+EJEfIZ6k/0kgLs5mrqJpSGm4EAAABCAZ8Fakf/AAAo96jmzRhgjK0nt9HO3aUOFVvjhqwNmEd4fUoqAuRGktZrTLYevMwpACVtFeDv1SRKkR6c4UFhqhwhAAAAb0GbCkmoQWyZTAhn//6eEAAAT7NLfyNUAEZH2/mC/Dm+CjOHphAUvFtKCCQx0baENhrWP4gF2ia3keFqg9cpFq9c2wJWNYQowgHkesqbdzysqtFIFAcapzLAdbh0gGHYGjoEE8aZS60zGAyw33640QAAAEhBnyhFFSwj/wAAGbAcm9r9Bt87bFvZdQMyeaWx4ZNoWK0/WhEDFDuQCXNz3uj+/juueZ2Yyjk7sXRU2jTiEToaV/mfqHpCvAIAAABCAZ9HdEf/AAAo4CRRgCJi2zjcUcC4J/VNy5O4yOngMX2c8YFvbd82r+dnvC+Rq/A8/yFXsG3450z3zMdaqg98B5qaAAAAJgGfSWpH/wAAKMgj23eEGxSbBe60RLpLrA6koASXP7mom80vxhOxAAAATUGbTkmoQWyZTAhn//6eEAAAT2sKrcreUAnK6q0h/bWaAC+8+YH93DMVkk7b4QsIdXsMqwHztHeP5tI033yiSHosBJQLeXL+wgX2JnJAAAAAN0GfbEUVLCP/AAAZyKPn9Y3i3ug/0BjLMHNKskgxElA9YNMssQQpoKQ1ouWaz6i/VtbgimqyNqAAAAAiAZ+LdEf/AAAo/tdgbEzTB0BKe1567eizH3Wohuck9cm9mQAAAC0Bn41qR/8AACkDPDYh3Zf/GCDgTRlWHuWAC5zzfWxOk+JyiPc+8J2xjy4033EAAABUQZuSSahBbJlMCGf//p4QAABRq1jaAD40XhScjhtCGVQJoEuZ34z/Zy0Wq6KJG6vV4Piw3/p13cb/uY+aWt3gCBVj96GpckBwGLIiomNi5hK9qevBAAAAPUGfsEUVLCP/AAAaaYLt4zLdvcfoHVMKgnt8P1YeNXqYWg3vZC8sw4ABA006aZ8YxSL+IaI97LXnQ8hgMqAAAAAuAZ/PdEf/AAAo4Fskku1YgZyAC2/dv7zqmgRo5In2UDI3P59w5MXzlTtg1KO7gAAAACcBn9FqR/8AACoZbjuRx9jexFq4MKMcO18qsqEI5+BdcWwXckZzMuEAAABWQZvWSahBbJlMCGf//p4QAABRqwtYgDOOUurJA00RrLLB0XHPnqQ8UejK5JMfV/LBmBGQ9K4iOsTjUdQf6tLp7O6/Hec+5/CdA4nXYCNRMjGOEJJuQrgAAAA1QZ/0RRUsI/8AABpf6+i461YHW+6BjzEaKk1LaS7RmlF3PrKGKQ/4DnSnDJadGbaOcPQPYlQAAAAzAZ4TdEf/AAAqAnaqxhfP/kVzKMcJ9C65iDZV2NuX/mOLivk+QAg7PyzWT6AA2gt0W+u5AAAAOAGeFWpH/wAAKgVT032WAnT+tBd9pJysJfyisEw+CqTgAhrPwFBmH/svYbBphLUIh1yl6ruMubr8AAAAaEGaGkmoQWyZTAhf//6MsAAAUmlKuQARzSYJwVygK8CVf09XHAxfqcTtfmUVtZvxE9vKmLx+bSAjhG8L6zjdDQHlklvn3mdl09r+A2+O8xHpWl9MIn62ui0qtJbpDmh9Wi79lJ8StsdxAAAAMUGeOEUVLCP/AAAaaMp3kctksfT8OLQgl4rAGmxn8Y1mkwinsMQp30a0GGcOSFGb4fEAAAA7AZ5XdEf/AAAqHmADGIwjFKRg6zpO+qM+S3Gf6du8ZWaWkZLpR2hoWgBAVPrtPoC8Pt8SYk03P7ap3X4AAAA4AZ5Zakf/AAAp88dGKUvlKY4a2rS0ABLHm395pvkmgRo7DlSwEg6YM9vyIf5Pe9xJu4R7q2j2dfkAAABXQZpeSahBbJlMCF///oywAABSk1PB3fcT6agZobjPxHgKga8ecPP1qgCVfPxvsuUAxS/50NORgixkSEgPjUf3TMpSXiZM7WxF2UBccrNPgcnDywLXZH3gAAAAVEGefEUVLCP/AAAaaJti5vWyWPyoAAJ23QGwqz2NLELrEiFK3GFeQNJmZ9p0DJKt5rzmsjt5pKN0gMLypC3JWxXoE8xX+7ntO6eJ+t9LcX3X044JUQAAADsBnpt0R/8AACoQdvOpdW9MdeXBRRTtffofZoIbSjEkAJUE/C9iSvbFYqnV8BD6jNBYJGZxnaFMqEKa7wAAADsBnp1qR/8AACl78VSGpADjLH5RYt+qB+QQV9a3BmmhzeeQjFsRvpELbwAgvA75nRrxEa7MtSYkXZ793AAAAJ9BmoJJqEFsmUwIX//+jLAAAFKCv521gAugxsPgVUwvQUH4N2750+T3tqD57q2+ii3eOxv9x9xqkRj1Z77dXs3Yo84ALJ76haFFppF2zco3F/qe8u+8bdevQLLr7MI0r9Nwel/nUOF+s24fHHIzDgMn+Pp/wWdeJYC2Mb0m687G/io45zB0p9T+7BWboMjhyAq4WXlqfYEr0qWDkZVZfAcAAAAzQZ6gRRUsI/8AABsJVJWe0xxqUV9NM3IOHG9W8ZHJCXYgKfVaq6kwIOd3ITWTKB7sSIlRAAAAMQGe33RH/wAAKfREFKuWwjvMwLCWgku6QjzwAtWDnk7uh7oQYz/N1gZEK+evUAne3W0AAAA0AZ7Bakf/AAArOW47VKhq+0ReeZnI59BQt+/TkCAAJxerE5xar+xfqWsVv8zDyUTLyqQBoQAAAH5BmsZJqEFsmUwIT//98QAAAwMiTsPVG/kY+nlWPb2muLs3cilgASyTg73zveDdJQ2IFfbs1kHHq7adQyAI/iENv3ZXJxHZDmaC/HLrgZSj3uPiJhtnBuG0AqxvnUcxWazE8WR35BoCzsLSz4PrCWJaR8bEksFr3UHe3CzUZkEAAABhQZ7kRRUsI/8AABr/93EkAtNnXiZOdHjK8fr6v3PpE77IsguAre1Z3fYcl/XuuMXTZdoBxcA+iryR+knLikxt3QTfsZNF0bmcso53wWN+93bffsC4bMgT9p25Ob/CjzBKgQAAADkBnwN0R/8AACqxBlAgPZ4cIOo1r6F88/9qdZ+Oa1oN91exnccAIgM7kNHGsKBgBNL2QMGwQLEeEasAAAA6AZ8Fakf/AAArQxcVWUUHAlaNC7lyxeQqmlUHtlC8jve97dT1GThZ37R2rPvc5FIABqM7aqOH7WIh4QAAAFlBmwhJqEFsmUwUTH/8hAAAE1NY5+N6Bvs6Z872qX44HMVko3ag3ZV3hyPbWwQdD6pQ2d/V7XsVpW2nQL7FZWN8uLoDxdAA+z1J1VzVuNf3bMR7u6n6I4hxYQAAAEUBnydqR/8AACsldmrCtg0H4C4lhJAE6EjkuojoHWZD+BrO2rS5zRQpY+suOoJH5r4uPPUPUrv4/B9WjaguubEfcO0SakAAAAxHbW9vdgAAAGxtdmhkAAAAAAAAAAAAAAAAAAAD6AAAD7QAAQAAAQAAAAAAAAAAAAAAAAEAAAAAAAAAAAAAAAAAAAABAAAAAAAAAAAAAAAAAABAAAAAAAAAAAAAAAAAAAAAAAAAAAAAAAAAAAAAAAAAAgAAC3F0cmFrAAAAXHRraGQAAAADAAAAAAAAAAAAAAABAAAAAAAAD7QAAAAAAAAAAAAAAAAAAAAAAAEAAAAAAAAAAAAAAAAAAAABAAAAAAAAAAAAAAAAAABAAAAAAlgAAAGQAAAAAAAkZWR0cwAAABxlbHN0AAAAAAAAAAEAAA+0AAACAAABAAAAAArpbWRpYQAAACBtZGhkAAAAAAAAAAAAAAAAAAAyAAAAyQBVxAAAAAAALWhkbHIAAAAAAAAAAHZpZGUAAAAAAAAAAAAAAABWaWRlb0hhbmRsZXIAAAAKlG1pbmYAAAAUdm1oZAAAAAEAAAAAAAAAAAAAACRkaW5mAAAAHGRyZWYAAAAAAAAAAQAAAAx1cmwgAAAAAQAAClRzdGJsAAAAmHN0c2QAAAAAAAAAAQAAAIhhdmMxAAAAAAAAAAEAAAAAAAAAAAAAAAAAAAAAAlgBkABIAAAASAAAAAAAAAABAAAAAAAAAAAAAAAAAAAAAAAAAAAAAAAAAAAAAAAAAAAAGP//AAAAMmF2Y0MBZAAf/+EAGWdkAB+s2UCYM+XhAAADAAEAAAMAZA8YMZYBAAZo6+PLIsAAAAAYc3R0cwAAAAAAAAABAAAAyQAAAQAAAAAUc3RzcwAAAAAAAAABAAAAAQAABiBjdHRzAAAAAAAAAMIAAAABAAACAAAAAAEAAAUAAAAAAQAAAgAAAAABAAAAAAAAAAEAAAEAAAAAAQAABQAAAAABAAACAAAAAAEAAAAAAAAAAQAAAQAAAAABAAAEAAAAAAIAAAEAAAAAAQAABQAAAAABAAACAAAAAAEAAAAAAAAAAQAAAQAAAAABAAAEAAAAAAIAAAEAAAAAAQAABQAAAAABAAACAAAAAAEAAAAAAAAAAQAAAQAAAAABAAAFAAAAAAEAAAIAAAAAAQAAAAAAAAABAAABAAAAAAEAAAUAAAAAAQAAAgAAAAABAAAAAAAAAAEAAAEAAAAAAQAABQAAAAABAAACAAAAAAEAAAAAAAAAAQAAAQAAAAABAAAFAAAAAAEAAAIAAAAAAQAAAAAAAAABAAABAAAAAAEAAAMAAAAAAQAAAQAAAAABAAAFAAAAAAEAAAIAAAAAAQAAAAAAAAABAAABAAAAAAEAAAUAAAAAAQAAAgAAAAABAAAAAAAAAAEAAAEAAAAAAQAABQAAAAABAAACAAAAAAEAAAAAAAAAAQAAAQAAAAABAAAFAAAAAAEAAAIAAAAAAQAAAAAAAAABAAABAAAAAAEAAAUAAAAAAQAAAgAAAAABAAAAAAAAAAEAAAEAAAAAAQAABQAAAAABAAACAAAAAAEAAAAAAAAAAQAAAQAAAAABAAAFAAAAAAEAAAIAAAAAAQAAAAAAAAABAAABAAAAAAEAAAUAAAAAAQAAAgAAAAABAAAAAAAAAAEAAAEAAAAAAQAABAAAAAACAAABAAAAAAEAAAQAAAAAAgAAAQAAAAABAAAFAAAAAAEAAAIAAAAAAQAAAAAAAAABAAABAAAAAAEAAAUAAAAAAQAAAgAAAAABAAAAAAAAAAEAAAEAAAAAAQAABQAAAAABAAACAAAAAAEAAAAAAAAAAQAAAQAAAAABAAAEAAAAAAIAAAEAAAAAAQAABQAAAAABAAACAAAAAAEAAAAAAAAAAQAAAQAAAAABAAAFAAAAAAEAAAIAAAAAAQAAAAAAAAABAAABAAAAAAEAAAIAAAAAAQAABQAAAAABAAACAAAAAAEAAAAAAAAAAQAAAQAAAAABAAAFAAAAAAEAAAIAAAAAAQAAAAAAAAABAAABAAAAAAEAAAUAAAAAAQAAAgAAAAABAAAAAAAAAAEAAAEAAAAAAQAABQAAAAABAAACAAAAAAEAAAAAAAAAAQAAAQAAAAABAAAFAAAAAAEAAAIAAAAAAQAAAAAAAAABAAABAAAAAAEAAAQAAAAAAgAAAQAAAAABAAAFAAAAAAEAAAIAAAAAAQAAAAAAAAABAAABAAAAAAEAAAUAAAAAAQAAAgAAAAABAAAAAAAAAAEAAAEAAAAAAQAABQAAAAABAAACAAAAAAEAAAAAAAAAAQAAAQAAAAABAAAFAAAAAAEAAAIAAAAAAQAAAAAAAAABAAABAAAAAAEAAAQAAAAAAgAAAQAAAAABAAAFAAAAAAEAAAIAAAAAAQAAAAAAAAABAAABAAAAAAEAAAUAAAAAAQAAAgAAAAABAAAAAAAAAAEAAAEAAAAAAQAAAwAAAAABAAABAAAAAAEAAAUAAAAAAQAAAgAAAAABAAAAAAAAAAEAAAEAAAAAAQAABQAAAAABAAACAAAAAAEAAAAAAAAAAQAAAQAAAAABAAAFAAAAAAEAAAIAAAAAAQAAAAAAAAABAAABAAAAAAEAAAUAAAAAAQAAAgAAAAABAAAAAAAAAAEAAAEAAAAAAQAABQAAAAABAAACAAAAAAEAAAAAAAAAAQAAAQAAAAABAAAFAAAAAAEAAAIAAAAAAQAAAAAAAAABAAABAAAAAAEAAAUAAAAAAQAAAgAAAAABAAAAAAAAAAEAAAEAAAAAAQAABQAAAAABAAACAAAAAAEAAAAAAAAAAQAAAQAAAAABAAAFAAAAAAEAAAIAAAAAAQAAAAAAAAABAAABAAAAAAEAAAUAAAAAAQAAAgAAAAABAAAAAAAAAAEAAAEAAAAAAQAABQAAAAABAAACAAAAAAEAAAAAAAAAAQAAAQAAAAABAAADAAAAAAEAAAEAAAAAHHN0c2MAAAAAAAAAAQAAAAEAAADJAAAAAQAAAzhzdHN6AAAAAAAAAAAAAADJAAAEUgAAAQEAAABXAAAAPAAAAEsAAAC7AAAAVwAAAEoAAAA2AAAAVwAAAFsAAAA8AAAAegAAAD4AAAA6AAAAJQAAAGAAAAA2AAAANQAAAEQAAABWAAAALwAAADIAAAB/AAAAQwAAAEsAAAAxAAAAfgAAAC4AAAAiAAAAIAAAAI8AAABEAAAATwAAADUAAABuAAAAWAAAADYAAAA7AAAAWQAAADQAAABgAAAAQQAAADMAAAA7AAAAiQAAADsAAAA6AAAAMwAAAHkAAABBAAAAOAAAACkAAABwAAAAQwAAADUAAAA6AAAAbgAAAEUAAAAsAAAAOQAAAHwAAAA/AAAAPAAAACwAAABAAAAARQAAACwAAAApAAAASwAAAC0AAAAnAAAAGgAAAGkAAAAiAAAAMgAAAEYAAAAsAAAAJQAAAF8AAAA4AAAAJgAAACQAAAB6AAAAOgAAADUAAAAxAAAAkwAAAE8AAAAvAAAAPgAAAGoAAAA5AAAALwAAAGgAAAA4AAAAOAAAADwAAABpAAAAUwAAAEcAAAA7AAAAeAAAAI0AAABbAAAANAAAAEAAAAB9AAAAagAAAD4AAAA1AAAAdwAAAFoAAABAAAAARwAAAKAAAABSAAAATgAAAEIAAAByAAAAPQAAAEIAAABHAAAAiAAAAFEAAABAAAAAeQAAAFcAAABLAAAATwAAAHAAAABUAAAAVAAAAE8AAABUAAAAOQAAADoAAAAqAAAAXwAAAEEAAAA8AAAAMQAAAIQAAABDAAAANQAAAHQAAABQAAAATQAAAFIAAABnAAAAUAAAAE0AAABXAAAAkAAAAEsAAACYAAAAUwAAAFwAAABWAAAAhAAAAEsAAABOAAAAUAAAAIIAAABDAAAAPAAAAEYAAABzAAAATAAAAEYAAAAqAAAAUQAAADsAAAAmAAAAMQAAAFgAAABBAAAAMgAAACsAAABaAAAAOQAAADcAAAA8AAAAbAAAADUAAAA/AAAAPAAAAFsAAABYAAAAPwAAAD8AAACjAAAANwAAADUAAAA4AAAAggAAAGUAAAA9AAAAPgAAAF0AAABJAAAAFHN0Y28AAAAAAAAAAQAAADAAAABidWR0YQAAAFptZXRhAAAAAAAAACFoZGxyAAAAAAAAAABtZGlyYXBwbAAAAAAAAAAAAAAAAC1pbHN0AAAAJal0b28AAAAdZGF0YQAAAAEAAAAATGF2ZjU3LjgzLjEwMA==\" type=\"video/mp4\" />\n",
              "             </video>"
            ]
          },
          "metadata": {}
        }
      ]
    },
    {
      "cell_type": "code",
      "metadata": {
        "id": "pLXetCMpC1DE",
        "colab": {
          "base_uri": "https://localhost:8080/",
          "height": 265
        },
        "outputId": "9b14c96a-368e-4735-c427-eb1e980b4686"
      },
      "source": [
        "plt.plot(results_ppo)\n",
        "plt.show()"
      ],
      "execution_count": 9,
      "outputs": [
        {
          "output_type": "display_data",
          "data": {
            "text/plain": [
              "<Figure size 432x288 with 1 Axes>"
            ],
            "image/png": "[encoded data removed]"
          },
          "metadata": {
            "needs_background": "light"
          }
        }
      ]
    }
  ]
}