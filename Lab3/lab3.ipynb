{
  "cells": [
    {
      "cell_type": "markdown",
      "metadata": {
        "id": "BFIBdYbBopAZ"
      },
      "source": [
        "<a href=\"https://colab.research.google.com/github/wingated/cs474_labs_f2019/blob/master/DL_Lab3.ipynb\" target=\"_parent\"><img src=\"https://colab.research.google.com/assets/colab-badge.svg\" alt=\"Open In Colab\"/></a>"
      ]
    },
    {
      "cell_type": "markdown",
      "metadata": {
        "id": "view-in-github"
      },
      "source": [
        "# Lab 3: Intro to CNNs and DNNs\n",
        "\n",
        "## Objectives\n",
        "\n",
        "* Build and train a deep conv net\n",
        "* Explore and implement various initialization techniques\n",
        "* Implement a parameterized module in Pytorch\n",
        "* Use a principled loss function\n",
        "\n",
        "## Video Tutorial\n",
        "[https://youtu.be/3TAuTcx-VCc](https://youtu.be/3TAuTcx-VCc)\n",
        "\n",
        "## Deliverable\n",
        "For this lab, you will submit an ipython notebook via learningsuite.\n",
        "This is where you build your first deep neural network!\n",
        "\n",
        "For this lab, we'll be combining several different concepts that we've covered during class,\n",
        "including new layer types, initialization strategies, and an understanding of convolutions.\n",
        "\n",
        "## Grading Standards:\n",
        "* 20% Part 0: Successfully followed lab video and typed in code\n",
        "* 20% Part 1: Re-implement Conv2D and CrossEntropy loss function\n",
        "* 20% Part 2: Implement different initialization strategies\n",
        "* 10% Part 3: Print parameters, plot train/test accuracy\n",
        "* 10% Reach 85% validation accuracy from parts 1-3\n",
        "* 10% Part 4: Convolution parameters quiz\n",
        "* 10% Tidy and legible figures, including labeled axes where appropriate\n",
        "___\n",
        "\n",
        "### Part 0\n",
        "Watch and follow video tutorial:\n",
        "\n",
        "[https://youtu.be/3TAuTcx-VCc](https://youtu.be/3TAuTcx-VCc)\n",
        "\n",
        "**TODO:**\n",
        "\n",
        "**DONE:**\n",
        "* Watch tutorial"
      ]
    },
    {
      "cell_type": "code",
      "execution_count": 8,
      "metadata": {
        "pycharm": {
          "name": "#%%\n"
        },
        "colab": {
          "base_uri": "https://localhost:8080/"
        },
        "id": "3jw1N1IGopAe",
        "outputId": "954e0561-acff-45e8-f565-e33726b9d8a4"
      },
      "outputs": [
        {
          "output_type": "stream",
          "name": "stdout",
          "text": [
            "Requirement already satisfied: torch in /usr/local/lib/python3.7/dist-packages (1.10.0+cu111)\n",
            "Requirement already satisfied: typing-extensions in /usr/local/lib/python3.7/dist-packages (from torch) (3.10.0.2)\n",
            "Requirement already satisfied: torchvision in /usr/local/lib/python3.7/dist-packages (0.11.1+cu111)\n",
            "Requirement already satisfied: numpy in /usr/local/lib/python3.7/dist-packages (from torchvision) (1.19.5)\n",
            "Requirement already satisfied: pillow!=8.3.0,>=5.3.0 in /usr/local/lib/python3.7/dist-packages (from torchvision) (7.1.2)\n",
            "Requirement already satisfied: torch==1.10.0 in /usr/local/lib/python3.7/dist-packages (from torchvision) (1.10.0+cu111)\n",
            "Requirement already satisfied: typing-extensions in /usr/local/lib/python3.7/dist-packages (from torch==1.10.0->torchvision) (3.10.0.2)\n",
            "Requirement already satisfied: tqdm in /usr/local/lib/python3.7/dist-packages (4.62.3)\n"
          ]
        }
      ],
      "source": [
        "!pip3 install torch\n",
        "!pip3 install torchvision\n",
        "!pip3 install tqdm"
      ]
    },
    {
      "cell_type": "markdown",
      "metadata": {
        "id": "jyVD6_rbopAg"
      },
      "source": [
        ""
      ]
    },
    {
      "cell_type": "code",
      "execution_count": 9,
      "metadata": {
        "collapsed": true,
        "id": "wQOefmcZVgTl"
      },
      "outputs": [],
      "source": [
        "import torch\n",
        "import torch.nn as nn\n",
        "import torch.nn.functional as F\n",
        "import torch.optim as optim\n",
        "from torch.utils.data import Dataset, DataLoader\n",
        "import numpy as np\n",
        "import matplotlib.pyplot as plt\n",
        "from torchvision import transforms, utils, datasets\n",
        "from tqdm import tqdm\n",
        "from torch.nn.parameter import Parameter\n",
        "import pdb\n",
        "\n",
        "assert torch.cuda.is_available(), \"You need to request a GPU from Runtime > Change Runtime\""
      ]
    },
    {
      "cell_type": "code",
      "execution_count": 10,
      "metadata": {
        "collapsed": true,
        "id": "Il_53HLSWPTY"
      },
      "outputs": [],
      "source": [
        "# Use the dataset class you created in lab2\n",
        "class ConvNetwork(nn.Module):\n",
        "  def __init__(self, dataset):\n",
        "    \n",
        "    super(ConvNetwork,self).__init__()\n",
        "\n",
        "    x,y = dataset[0]\n",
        "    c, h, w = x.size()\n",
        "    output = 10\n",
        "\n",
        "    self.net = nn.Sequential(\n",
        "        nn.Conv2d(c, 10, (3,3), padding=(1,1)),\n",
        "        nn.Conv2d(10, output, (28,28), padding=(0,0)))\n",
        "\n",
        "  def forward(self, x):\n",
        "    return self.net(x).squeeze(2).squeeze(2)\n",
        "\n",
        "\n",
        "# Create a dataset class that extends the torch.utils.data Dataset class here\n",
        "class FashionMNISTProcessedDataset(Dataset):\n",
        "  def __init__(self, root, train=True):\n",
        "    self.data = datasets.FashionMNIST(root, \n",
        "                                      train=train,\n",
        "                                      transform=transforms.ToTensor(),\n",
        "                                      download=True)\n",
        "    \n",
        "  def __getitem__(self, i):\n",
        "    x,y = self.data[i]\n",
        "    return x, y\n",
        "\n",
        "  def __len__(self):\n",
        "    return len(self.data)\n",
        "\n",
        "# Instantiate the train and validation sets\n",
        "train_dataset = FashionMNISTProcessedDataset('/tmp/fashionmnist')\n",
        "val_dataset = FashionMNISTProcessedDataset('/tmp/fashionmnist', train=False)\n",
        "\n",
        "# Instantiate your model and loss and optimizer functions\n",
        "model = ConvNetwork(train_dataset)\n",
        "model = model.cuda()\n",
        "\n",
        "# Instantiate your data loaders\n",
        "objective = nn.CrossEntropyLoss()\n",
        "optimizer = optim.Adam(model.parameters(), lr=1e-4)\n",
        "train_loader = DataLoader(train_dataset, \n",
        "                          batch_size=42, \n",
        "                          pin_memory=True)\n",
        "val_loader = DataLoader(val_dataset, \n",
        "                               batch_size=42,\n",
        "                               pin_memory=True)\n",
        "\n",
        "losses = []\n",
        "validations = []\n",
        "\n",
        "for epoch in range(0):\n",
        "  loop = tqdm(total=len(train_loader), position=0, leave=False)\n",
        "\n",
        "  for batch, (x,y_truth) in enumerate(train_loader):\n",
        "    x, y_truth = x.cuda(non_blocking=True), y_truth.cuda(non_blocking=True)\n",
        "\n",
        "    optimizer.zero_grad()\n",
        "    y_hat = model(x)\n",
        "\n",
        "    loss = objective(y_hat,y_truth)\n",
        "\n",
        "    loss.backward()\n",
        "\n",
        "    losses.append(loss.item())\n",
        "    accuracy = (y_hat.argmax(1) == y_truth).float().mean()\n",
        "    loop.set_description('epoch:{}, loss:{:.4f}, accuracy:{:.3f}'.format(epoch, loss.item(), accuracy))\n",
        "    loop.update(1)\n",
        "\n",
        "    optimizer.step()\n",
        "\n",
        "    if batch % 500 == 0:\n",
        "      val = np.mean([objective(model(x.cuda()), y.cuda()).item()\n",
        "                      for x, y in val_loader])\n",
        "      validations.append((len(losses), val))\n",
        "\n",
        "  loop.close()"
      ]
    },
    {
      "cell_type": "markdown",
      "metadata": {
        "id": "QY4owfQwm-Ni"
      },
      "source": [
        "___\n",
        "\n",
        "### Part 1\n",
        "Re-implement a Conv2D module with parameters and a CrossEntropy loss function.\n",
        "\n",
        "**TODO:**\n",
        "\n",
        "* CrossEntropyLoss \n",
        "\n",
        "**DONE:**\n",
        "* Conv2D\n",
        "___\n",
        "\n",
        "### Part 2\n",
        "Implement a few initialization strategies which can include Xe initialization\n",
        "(sometimes called Xavier), Orthogonal initialization, and uniform random.\n",
        "You can specify which strategy you want to use with a parameter. \n",
        "\n",
        "\n",
        "\n",
        "Helpful links include:\n",
        "*  [Orthogonal Initialization](https://hjweide.github.io/orthogonal-initialization-in-convolutional-layers) (or the original paper: http://arxiv.org/abs/1312.6120)\n",
        "*  http://andyljones.tumblr.com/post/110998971763/an-explanation-of-xavier-initialization\n",
        "\n",
        "**TODO:**\n",
        "\n",
        "**DONE:**\n",
        "* Parameterize custom Conv2D for different initilization strategies\n",
        "* Xe\n",
        "* Orthogonal\n",
        "* Uniform\n"
      ]
    },
    {
      "cell_type": "code",
      "execution_count": 11,
      "metadata": {
        "collapsed": true,
        "id": "RkieTbwlYWPS"
      },
      "outputs": [],
      "source": [
        "class CrossEntropyLoss(nn.Module):\n",
        "  def __init__(self, weight=None, size_average=None, \n",
        "               gnore_index=-100, reduce=None, reduction='mean'):\n",
        "    super(CrossEntropyLoss, self).__init__()\n",
        "  \n",
        "  def forward(self, y_hat, y_truth):\n",
        "    x = torch.arange(y_hat.size(0))\n",
        "    y = y_truth\n",
        "\n",
        "    hat = y_hat\n",
        "\n",
        "    values = y_hat[x,y]\n",
        "    values = torch.exp(values)\n",
        "    hatexp = torch.exp(hat)\n",
        "    soft = values / hatexp.sum(1, keepdim=True)\n",
        "    log = -1 * torch.log(soft)\n",
        "\n",
        "    return loss\n",
        "\n",
        "\n",
        "class Conv2d(nn.Module):\n",
        "  def __init__(self, in_channels, out_channels, kernel_size, stride=1, \n",
        "               padding=0, dilation=1, groups=1, bias=True, padding_mode='zeros',\n",
        "               device=None, dtype=None, activation=0):\n",
        "    \n",
        "    self.__dict__.update(locals())\n",
        "    super(Conv2d, self).__init__()\n",
        "\n",
        "    self.weight = Parameter(torch.Tensor(out_channels, in_channels, \n",
        "                               kernel_size[0], kernel_size[1]))\n",
        "    self.bias = Parameter(torch.Tensor(out_channels))\n",
        "    \n",
        "\n",
        "    # Uniform initalization\n",
        "    if activation == 0:\n",
        "      self.weight.data.uniform_(-1,1)\n",
        "    # Xavier initialization\n",
        "    elif activation == 1:\n",
        "      W = np.random.randn(out_channels, in_channels, kernel_size[0], kernel_size[1]) / np.sqrt(in_channels/2)\n",
        "      self.weight.data = torch.from_numpy(W.astype(np.float32))\n",
        "    # Orthogonal initialization\n",
        "    else:\n",
        "      X = np.random.random((out_channels, in_channels * kernel_size[0] * kernel_size[1]))\n",
        "      U, _, Vt = np.linalg.svd(X, full_matrices=False)\n",
        "      np.allclose(np.dot(Vt, Vt.T), np.eye(Vt.shape[0]))\n",
        "      self.weight.data = torch.from_numpy(Vt.reshape((out_channels, in_channels, kernel_size[0], kernel_size[1])).astype(np.float32))\n",
        "\n",
        "    self.bias.data.uniform_(0,0)\n",
        "\n",
        "  \n",
        "  def forward(self, x):\n",
        "    return F.conv2d(x, self.weight, self.bias, self.stride, self.padding, \n",
        "                    self.dilation, self.groups)"
      ]
    },
    {
      "cell_type": "code",
      "execution_count": 12,
      "metadata": {
        "collapsed": true,
        "id": "d4C-_v9Hm7YE"
      },
      "outputs": [],
      "source": [
        "class ConvNetwork(nn.Module):\n",
        "  def __init__(self, dataset, activation_type):\n",
        "    \n",
        "    super(ConvNetwork,self).__init__()\n",
        "\n",
        "    x,y = dataset[0]\n",
        "    c, h, w = x.size()\n",
        "    output = 10\n",
        "\n",
        "    print(activation_type)\n",
        "\n",
        "\n",
        "    self.net = nn.Sequential(\n",
        "        Conv2d(c, 8, (3,3), padding=(1,1), activation=activation_type),\n",
        "        nn.ReLU(),\n",
        "        Conv2d(8, output, (28,28), padding=(0,0), activation=activation_type))\n",
        "\n",
        "  def forward(self, x):\n",
        "    return self.net(x).squeeze(2).squeeze(2)\n"
      ]
    },
    {
      "cell_type": "code",
      "execution_count": 13,
      "metadata": {
        "collapsed": true,
        "id": "jYqywck8Wdm9",
        "pycharm": {
          "is_executing": false
        },
        "colab": {
          "base_uri": "https://localhost:8080/"
        },
        "outputId": "2beb2fbd-7291-4d30-eb31-7a95b4674f3c"
      },
      "outputs": [
        {
          "output_type": "stream",
          "name": "stdout",
          "text": [
            "2\n"
          ]
        }
      ],
      "source": [
        "class FashionMNISTProcessedDataset(Dataset):\n",
        "  def __init__(self, root, train=True):\n",
        "    self.data = datasets.FashionMNIST(root, \n",
        "                                      train=train,\n",
        "                                      transform=transforms.ToTensor(),\n",
        "                                      download=True)\n",
        "    \n",
        "  def __getitem__(self, i):\n",
        "    x,y = self.data[i]\n",
        "    return x, y\n",
        "\n",
        "  def __len__(self):\n",
        "    return len(self.data)\n",
        "\n",
        "\n",
        "# Initialize Datasets\n",
        "train_dataset = FashionMNISTProcessedDataset('/tmp/fashionmnist')\n",
        "val_dataset = FashionMNISTProcessedDataset('/tmp/fashionmnist', train=False)\n",
        "\n",
        "\n",
        "# Initialize DataLoaders\n",
        "train_loader = DataLoader(train_dataset, \n",
        "                          batch_size=42, \n",
        "                          pin_memory=True)\n",
        "val_loader = DataLoader(val_dataset, \n",
        "                               batch_size=42,\n",
        "                               pin_memory=True)\n",
        "\n",
        "\n",
        "# Initialize Model - 0 for uniform weights, 1 for Xavier and 2 for Orthogonal\n",
        "model = ConvNetwork(train_dataset, 2)\n",
        "model = model.cuda()\n",
        "\n",
        "\n",
        "# Initialize Objective and Optimizer and other parameters\n",
        "objective = nn.CrossEntropyLoss()\n",
        "optimizer = optim.Adam(model.parameters(), lr=1e-4)\n",
        "\n",
        "\n",
        "losses = []\n",
        "validations = []\n",
        "accuracy_vals = []"
      ]
    },
    {
      "cell_type": "code",
      "execution_count": 14,
      "metadata": {
        "collapsed": true,
        "id": "mTg1jyIsYVZN",
        "pycharm": {
          "is_executing": false
        },
        "colab": {
          "base_uri": "https://localhost:8080/"
        },
        "outputId": "041e0621-ac56-42a0-c332-2b7b919fb23c"
      },
      "outputs": [
        {
          "output_type": "stream",
          "name": "stderr",
          "text": [
            ""
          ]
        }
      ],
      "source": [
        "# Run your training and validation loop and collect stats\n",
        "\n",
        "for epoch in range(5):\n",
        "  loop = tqdm(total=len(train_loader), position=0, leave=False)\n",
        "\n",
        "  for batch, (x,y_truth) in enumerate(train_loader):\n",
        "    x, y_truth = x.cuda(non_blocking=True), y_truth.cuda(non_blocking=True)\n",
        "\n",
        "    optimizer.zero_grad()\n",
        "    y_hat = model(x)\n",
        "\n",
        "    loss = objective(y_hat,y_truth)\n",
        "    loss.backward()\n",
        "\n",
        "    losses.append(loss.item())\n",
        "    accuracy = (y_hat.argmax(1) == y_truth).float().mean()\n",
        "    #accuracy_vals.append(accuracy)\n",
        "    loop.set_description('epoch:{}, loss:{:.4f}, accuracy:{:.3f}'.format(epoch, loss.item(), accuracy))\n",
        "    loop.update(1)\n",
        "\n",
        "    optimizer.step()\n",
        "\n",
        "    if batch % 500 == 0:\n",
        "      val = np.mean([objective(model(x.cuda()), y.cuda()).item()\n",
        "                      for x, y in val_loader])\n",
        "      validations.append((len(losses), val))\n",
        "      accuracy_vals.append(accuracy)\n",
        "\n",
        "  loop.close()\n",
        "\n",
        "\n"
      ]
    },
    {
      "cell_type": "markdown",
      "metadata": {
        "id": "ronkEckHiDaU"
      },
      "source": [
        "\n",
        "___\n",
        "\n",
        "### Part 3\n",
        "Print the number of parameters in your network and plot accuracy of your training and validation \n",
        "set over time. You should experiment with some deep networks and see if you can get a network \n",
        "with close to 1,000,000 parameters.\n",
        "\n",
        "Once you've experimented with multiple network setups and the different initialization strategies, plot the best-performing experiment here. You should be able to exceed 85% accuracy on the validation set.\n",
        "\n",
        "**TODO:**\n",
        "\n",
        "\n",
        "**DONE:**\n",
        "* Experiment with Deep Networks\n",
        "* Plot accuracy of training and validation set over time\n",
        "* Print out number of parameters in the model \n",
        "* Plot experiment results with 85% or better validation accuracy\n"
      ]
    },
    {
      "cell_type": "code",
      "execution_count": 15,
      "metadata": {
        "collapsed": true,
        "id": "PaWCKjxvyRSf",
        "pycharm": {
          "is_executing": false
        },
        "colab": {
          "base_uri": "https://localhost:8080/",
          "height": 573
        },
        "outputId": "8d0fe7b4-53e8-4306-b9b3-5ddde9794213"
      },
      "outputs": [
        {
          "output_type": "display_data",
          "data": {
            "image/png": "[encoded data removed]",
            "text/plain": [
              "<Figure size 432x288 with 1 Axes>"
            ]
          },
          "metadata": {
            "needs_background": "light"
          }
        },
        {
          "output_type": "display_data",
          "data": {
            "image/png": "[encoded data removed]",
            "text/plain": [
              "<Figure size 432x288 with 1 Axes>"
            ]
          },
          "metadata": {
            "needs_background": "light"
          }
        }
      ],
      "source": [
        "\n",
        "# Go back up and try a few different networks and initialization strategies\n",
        "\n",
        "# I had a hard time getting a network with lots of parameters, I am still \n",
        "# getting used to understanding how to calculate the channels/padding/kernel \n",
        "# size for each new layer. I had good results in terms of accuracy with the \n",
        "# 2 layer set up, orthogonal initialization, and a ReLU layer between it, \n",
        "# running for 5 epochs.\n",
        "\n",
        "# Plot loss if you want\n",
        "a, b = zip(*validations)\n",
        "plt.plot(losses,label='train')\n",
        "plt.plot(a,b, label='val')\n",
        "plt.title('Loss by Batch Number')\n",
        "plt.ylabel('Loss')\n",
        "plt.xlabel('Batch Number')\n",
        "plt.legend()\n",
        "plt.show()\n",
        "\n",
        "# Plot accuracy\n",
        "plt.plot(accuracy_vals, label='accuracy')\n",
        "plt.ylabel('Accuracy from 0 to 1.0')\n",
        "plt.xlabel('Batch Number (every 500 batches)')\n",
        "plt.title('Accuracy per 500 batches')\n",
        "plt.legend()\n",
        "plt.show()\n",
        "\n"
      ]
    },
    {
      "cell_type": "code",
      "execution_count": 16,
      "metadata": {
        "collapsed": true,
        "id": "oijCR-JnyS6V",
        "pycharm": {
          "is_executing": false
        },
        "colab": {
          "base_uri": "https://localhost:8080/"
        },
        "outputId": "bfefd103-be79-4cad-88f5-b54f01e89fbc"
      },
      "outputs": [
        {
          "output_type": "stream",
          "name": "stdout",
          "text": [
            "Total Parameters: 62810\n"
          ]
        }
      ],
      "source": [
        "## Compute and print the number of parameters in the model\n",
        "sum = 0\n",
        "for p in model.parameters():\n",
        "  layerparams = 1\n",
        "  \n",
        "  for s in p.size():\n",
        "    layerparams *= s\n",
        "\n",
        "  sum += layerparams\n",
        "\n",
        "\n",
        "print(\"Total Parameters: \" + str(sum))"
      ]
    },
    {
      "cell_type": "markdown",
      "metadata": {
        "id": "7hXGRxUQh9gX"
      },
      "source": [
        "___\n",
        "\n",
        "### Part 4\n",
        "Learn about how convolution layers affect the shape of outputs, and answer the following quiz questions. Include these in a new markdown cell in your jupyter notebook.\n",
        "\n",
        "\n",
        "*Using a Kernel size of 3×3 what should the settings of your 2d convolution be that results in the following mappings (first answer given to you)*\n",
        "\n",
        "* (c=3, h=10, w=10) ⇒ (c=10, h=8, w=8) : (out_channels=10, kernel_size=(3, 3), padding=(0, 0))\n",
        "* (c=3, h=10, w=10) ⇒ (c=22, h=10, w=10) : **(out_channels=22, kernel_size=(3, 3), padding=(1, 1))**\n",
        "* (c=3, h=10, w=10) ⇒ (c=65, h=12, w=12) : **(out_channels=65, kernel_size=(3, 3), padding=(2, 2))**\n",
        "* (c=3, h=10, w=10) ⇒ (c=7, h=20, w=20) : **(out_channels=7, kernel_size=(3, 3), padding=(6, 6))**\n",
        "\n",
        "*Using a Kernel size of 5×5:*)\n",
        "\n",
        "* (c=3, h=10, w=10) ⇒ (c=10, h=8, w=8) : (out_channels=10, kernel_size=(5, 5), padding=(1, 1))\n",
        "* (c=3, h=10, w=10) ⇒ (c=100, h=10, w=10) : **(out_channels=100, kernel_size=(5, 5), padding=(2, 2))**\n",
        "* (c=3, h=10, w=10) ⇒ (c=23, h=12, w=12) : **(out_channels=23, kernel_size=(5, 5), padding=(3, 3))**\n",
        "* (c=3, h=10, w=10) ⇒ (c=5, h=24, w=24) : **(out_channels=5, kernel_size=(5, 5), padding=(9, 9))**\n",
        "\n",
        "*Using Kernel size of 5×3:*\n",
        "\n",
        "* (c=3, h=10, w=10) ⇒ (c=10, h=8, w=8) : **(out_channels=10, kernel_size=(5, 3), padding=(1, 0))**\n",
        "* (c=3, h=10, w=10) ⇒ (c=100, h=10, w=10) : **(out_channels=100, kernel_size=(5, 3), padding=(2, 1))**\n",
        "* (c=3, h=10, w=10) ⇒ (c=23, h=12, w=12) : **(out_channels=23, kernel_size=(5, 3), padding=(3, 2))**\n",
        "* (c=3, h=10, w=10) ⇒ (c=5, h=24, w=24) : **(out_channels=5, kernel_size=(5, 3), padding=(9, 8))**\n",
        "\n",
        "*Determine the kernel that requires the smallest padding size to make the following mappings possible:*\n",
        "\n",
        "* (c=3, h=10, w=10) ⇒ (c=10, h=9, w=7) : **(out_channels=10, kernel_size=(2, 4), padding=(0, 0))**\n",
        "* (c=3, h=10, w=10) ⇒ (c=22, h=10, w=10) : **(out_channels=22, kernel_size=(1, 1), padding=(0, 0))**\n",
        "\n",
        "**TODO:**\n",
        "\n",
        "**DONE:**\n",
        "* Answer all the questions above\n"
      ]
    },
    {
      "cell_type": "code",
      "execution_count": 17,
      "metadata": {
        "id": "XXfG3wClh8an",
        "pycharm": {
          "is_executing": false
        },
        "colab": {
          "base_uri": "https://localhost:8080/"
        },
        "outputId": "27b5ff7d-6a26-42cf-da61-896f5951fc8a"
      },
      "outputs": [
        {
          "output_type": "stream",
          "name": "stdout",
          "text": [
            "Testing code for 3x3 kernel\n",
            "\n",
            "torch.Size([1, 10, 8, 8])\n",
            "torch.Size([1, 22, 10, 10])\n",
            "torch.Size([1, 65, 12, 12])\n",
            "torch.Size([1, 7, 20, 20])\n",
            "\n",
            "Testing code for 5x5 kernel\n",
            "\n",
            "torch.Size([1, 10, 8, 8])\n",
            "torch.Size([1, 100, 10, 10])\n",
            "torch.Size([1, 23, 12, 12])\n",
            "torch.Size([1, 5, 24, 24])\n",
            "\n",
            "Testing code for 5x3 kernel\n",
            "\n",
            "torch.Size([1, 10, 8, 8])\n",
            "torch.Size([1, 100, 10, 10])\n",
            "torch.Size([1, 23, 12, 12])\n",
            "torch.Size([1, 5, 24, 24])\n",
            "\n",
            "Testing code for unknown kernel size\n",
            "\n",
            "torch.Size([1, 10, 9, 7])\n",
            "torch.Size([1, 22, 10, 10])\n"
          ]
        }
      ],
      "source": [
        "# Write some test code for checking the answers for these problems (example shown in the video)\n",
        "print(\"Testing code for 3x3 kernel\\n\")\n",
        "# (c=3, h=10, w=10) ⇒ (c=10, h=8, w=8) : (out_channels=10, kernel_size=(3, 3), padding=(0, 0))\n",
        "c = nn.Conv2d(3,10,kernel_size=(3,3), padding=(0,0))\n",
        "print(c(torch.zeros(1,3,10,10)).size())\n",
        "\n",
        "#(c=3, h=10, w=10) ⇒ (c=22, h=10, w=10) : Your answer in bold here\n",
        "c = nn.Conv2d(3, 22, kernel_size=(3,3), padding=(1,1))\n",
        "print(c(torch.zeros(1,3,10,10)).size())\n",
        "\n",
        "#(c=3, h=10, w=10) ⇒ (c=65, h=12, w=12) : Your answer in bold here\n",
        "c = nn.Conv2d(3, 65, kernel_size=(3,3), padding=(2,2))\n",
        "print(c(torch.zeros(1,3,10,10)).size())\n",
        "\n",
        "#(c=3, h=10, w=10) ⇒ (c=7, h=20, w=20) : Your answer in bold here\n",
        "c = nn.Conv2d(3, 7, kernel_size=(3,3), padding=(6,6))\n",
        "print(c(torch.zeros(1,3,10,10)).size())\n",
        "\n",
        "print(\"\\nTesting code for 5x5 kernel\\n\")\n",
        "\n",
        "#c=3, h=10, w=10) ⇒ (c=10, h=8, w=8) : (out_channels=10, kernel_size=(5, 5), padding=(1, 1))\n",
        "c = nn.Conv2d(3,10,kernel_size=(5,5), padding=(1,1))\n",
        "print(c(torch.zeros(1,3,10,10)).size())\n",
        "\n",
        "#(c=3, h=10, w=10) ⇒ (c=100, h=10, w=10) : Your answer in bold here\n",
        "c = nn.Conv2d(3,100,kernel_size=(5,5), padding=(2,2))\n",
        "print(c(torch.zeros(1,3,10,10)).size())\n",
        "\n",
        "#(c=3, h=10, w=10) ⇒ (c=23, h=12, w=12) : Your answer in bold here\n",
        "c = nn.Conv2d(3,23,kernel_size=(5,5), padding=(3,3))\n",
        "print(c(torch.zeros(1,3,10,10)).size())\n",
        "\n",
        "#(c=3, h=10, w=10) ⇒ (c=5, h=24, w=24) : Your answer in bold here\n",
        "c = nn.Conv2d(3,5,kernel_size=(5,5), padding=(9,9))\n",
        "print(c(torch.zeros(1,3,10,10)).size())\n",
        "\n",
        "\n",
        "print(\"\\nTesting code for 5x3 kernel\\n\")\n",
        "\n",
        "#(c=3, h=10, w=10) ⇒ (c=10, h=8, w=8) : Your answer in bold here\n",
        "c = nn.Conv2d(3, 10, kernel_size=(5,3), padding=(1,0))\n",
        "print(c(torch.zeros(1,3,10,10)).size())\n",
        "\n",
        "#(c=3, h=10, w=10) ⇒ (c=100, h=10, w=10) : Your answer in bold here\n",
        "c = nn.Conv2d(3, 100, kernel_size=(5,3), padding=(2,1))\n",
        "print(c(torch.zeros(1,3,10,10)).size())\n",
        "\n",
        "#(c=3, h=10, w=10) ⇒ (c=23, h=12, w=12) : Your answer in bold here\n",
        "c = nn.Conv2d(3, 23, kernel_size=(5,3), padding=(3,2))\n",
        "print(c(torch.zeros(1,3,10,10)).size())\n",
        "\n",
        "#(c=3, h=10, w=10) ⇒ (c=5, h=24, w=24) : Your answer in bold here\n",
        "c = nn.Conv2d(3, 5, kernel_size=(5,3), padding=(9,8))\n",
        "print(c(torch.zeros(1,3,10,10)).size())\n",
        "\n",
        "print(\"\\nTesting code for unknown kernel size\\n\")\n",
        "\n",
        "#(c=3, h=10, w=10) ⇒ (c=10, h=9, w=7) : Your answer in bold here\n",
        "c = nn.Conv2d(3, 10, kernel_size=(2,4), padding=(0,0))\n",
        "print(c(torch.zeros(1,3,10,10)).size())\n",
        "\n",
        "#(c=3, h=10, w=10) ⇒ (c=22, h=10, w=10) : Your answer in bold here\n",
        "c = nn.Conv2d(3, 22, kernel_size=(1,1), padding=(0,0))\n",
        "print(c(torch.zeros(1,3,10,10)).size())\n",
        "\n",
        "\n",
        "\n",
        "#Conv2d(c, 8, (3,3), padding=(1,1)"
      ]
    }
  ],
  "metadata": {
    "accelerator": "GPU",
    "colab": {
      "collapsed_sections": [],
      "name": "lab3.ipynb",
      "provenance": []
    },
    "kernelspec": {
      "display_name": "Python 3",
      "language": "python",
      "name": "python3"
    },
    "language_info": {
      "codemirror_mode": {
        "name": "ipython",
        "version": 3
      },
      "file_extension": ".py",
      "mimetype": "text/x-python",
      "name": "python",
      "nbconvert_exporter": "python",
      "pygments_lexer": "ipython3",
      "version": "3.7.1"
    },
    "pycharm": {
      "stem_cell": {
        "cell_type": "raw",
        "metadata": {
          "collapsed": false
        },
        "source": []
      }
    }
  },
  "nbformat": 4,
  "nbformat_minor": 0
}