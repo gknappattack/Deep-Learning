{
  "cells": [
    {
      "cell_type": "markdown",
      "metadata": {
        "id": "ViXclBvnLQb-"
      },
      "source": [
        "<a \n",
        "href=\"https://colab.research.google.com/github/wingated/cs474_labs_f2019/blob/master/DL_Lab6.ipynb\"\n",
        "  target=\"_parent\">\n",
        "  <img\n",
        "    src=\"https://colab.research.google.com/assets/colab-badge.svg\"\n",
        "    alt=\"Open In Colab\"/>\n",
        "</a>"
      ]
    },
    {
      "cell_type": "markdown",
      "metadata": {
        "id": "cksgAH12XRjV"
      },
      "source": [
        "# Lab 6: Sequence-to-sequence models\n",
        "\n",
        "### Description:\n",
        "For this lab, you will code up the [char-rnn model of Karpathy](http://karpathy.github.io/2015/05/21/rnn-effectiveness/). This is a recurrent neural network that is trained probabilistically on sequences of characters, and that can then be used to sample new sequences that are like the original.\n",
        "\n",
        "This lab will help you develop several new skills, as well as understand some best practices needed for building large models. In addition, we'll be able to create networks that generate neat text!\n",
        "\n",
        "### Deliverable:\n",
        "- Fill in the code for the RNN (using PyTorch's built-in GRU).\n",
        "- Fill in the training loop\n",
        "- Fill in the evaluation loop. In this loop, rather than using a validation set, you will sample text from the RNN.\n",
        "- Implement your own GRU cell.\n",
        "- Train your RNN on a new domain of text (Star Wars, political speeches, etc. - have fun!)\n",
        "\n",
        "### Grading Standards:\n",
        "- 20% Implementation the RNN\n",
        "- 20% Implementation training loop\n",
        "- 20% Implementation of evaluation loop\n",
        "- 20% Implementation of your own GRU cell\n",
        "- 20% Training of your RNN on a domain of your choice\n",
        "\n",
        "### Tips:\n",
        "- Read through all the helper functions, run them, and make sure you understand what they are doing\n",
        "- At each stage, ask yourself: What should the dimensions of this tensor be? Should its data type be float or int? (int is called `long` in PyTorch)\n",
        "- Don't apply a softmax inside the RNN if you are using an nn.CrossEntropyLoss (this module already applies a softmax to its input).\n",
        "\n",
        "### Example Output:\n",
        "An example of my final samples are shown below (more detail in the\n",
        "final section of this writeup), after 150 passes through the data.\n",
        "Please generate about 15 samples for each dataset.\n",
        "\n",
        "<code>\n",
        "And ifte thin forgision forward thene over up to a fear not your\n",
        "And freitions, which is great God. Behold these are the loss sub\n",
        "And ache with the Lord hath bloes, which was done to the holy Gr\n",
        "And appeicis arm vinimonahites strong in name, to doth piseling \n",
        "And miniquithers these words, he commanded order not; neither sa\n",
        "And min for many would happine even to the earth, to said unto m\n",
        "And mie first be traditions? Behold, you, because it was a sound\n",
        "And from tike ended the Lamanites had administered, and I say bi\n",
        "</code>\n"
      ]
    },
    {
      "cell_type": "markdown",
      "metadata": {
        "id": "c2i_QpSsWG4c"
      },
      "source": [
        "---\n",
        "\n",
        "## Part 0: Readings, data loading, and high level training\n",
        "\n",
        "---\n",
        "\n",
        "There is a tutorial here that will help build out scaffolding code, and get an understanding of using sequences in pytorch.\n",
        "\n",
        "* Read the following\n",
        "\n",
        "> * [Pytorch sequence-to-sequence tutorial](https://pytorch.org/tutorials/intermediate/seq2seq_translation_tutorial.html) (Take note that you will not be implementing the encoder part of this tutorial.)\n",
        "* [Understanding LSTM Networks](http://colah.github.io/posts/2015-08-Understanding-LSTMs/)\n",
        "\n",
        "\n",
        "\n",
        "\n"
      ]
    },
    {
      "cell_type": "code",
      "execution_count": 30,
      "metadata": {
        "colab": {
          "base_uri": "https://localhost:8080/"
        },
        "id": "l7bdZWxvJrsx",
        "outputId": "1cd9b049-e5b1-40f1-9be6-b7af16d39255"
      },
      "outputs": [
        {
          "output_type": "stream",
          "name": "stdout",
          "text": [
            "--2022-02-13 09:31:49--  https://piazza.com/redirect/s3?bucket=uploads&prefix=attach%2Fjlifkda6h0x5bk%2Fhzosotq4zil49m%2Fjn13x09arfeb%2Ftext_files.tar.gz\n",
            "Resolving piazza.com (piazza.com)... 3.221.126.233, 52.7.218.200, 18.214.211.171, ...\n",
            "Connecting to piazza.com (piazza.com)|3.221.126.233|:443... connected.\n",
            "HTTP request sent, awaiting response... 302 Found\n",
            "Location: https://cdn-uploads.piazza.com/attach/jlifkda6h0x5bk/hzosotq4zil49m/jn13x09arfeb/text_files.tar.gz [following]\n",
            "--2022-02-13 09:31:49--  https://cdn-uploads.piazza.com/attach/jlifkda6h0x5bk/hzosotq4zil49m/jn13x09arfeb/text_files.tar.gz\n",
            "Resolving cdn-uploads.piazza.com (cdn-uploads.piazza.com)... 65.8.181.13, 65.8.181.3, 65.8.181.46, ...\n",
            "Connecting to cdn-uploads.piazza.com (cdn-uploads.piazza.com)|65.8.181.13|:443... connected.\n",
            "HTTP request sent, awaiting response... 200 OK\n",
            "Length: 1533290 (1.5M) [application/x-gzip]\n",
            "Saving to: ‘./text_files.tar.gz’\n",
            "\n",
            "./text_files.tar.gz 100%[===================>]   1.46M  7.62MB/s    in 0.2s    \n",
            "\n",
            "2022-02-13 09:31:50 (7.62 MB/s) - ‘./text_files.tar.gz’ saved [1533290/1533290]\n",
            "\n",
            "Requirement already satisfied: unidecode in /usr/local/lib/python3.7/dist-packages (1.3.2)\n",
            "Requirement already satisfied: torch in /usr/local/lib/python3.7/dist-packages (1.10.0+cu111)\n",
            "Requirement already satisfied: typing-extensions in /usr/local/lib/python3.7/dist-packages (from torch) (3.10.0.2)\n",
            "file_len = 684736\n"
          ]
        }
      ],
      "source": [
        "! wget -O ./text_files.tar.gz 'https://piazza.com/redirect/s3?bucket=uploads&prefix=attach%2Fjlifkda6h0x5bk%2Fhzosotq4zil49m%2Fjn13x09arfeb%2Ftext_files.tar.gz' \n",
        "! tar -xzf text_files.tar.gz\n",
        "! pip install unidecode\n",
        "! pip install torch\n",
        "\n",
        "import unidecode\n",
        "import string\n",
        "import random\n",
        "import re\n",
        "import torch\n",
        "import torch.nn as nn\n",
        "import torch.nn.functional as F\n",
        "import pdb\n",
        " \n",
        "all_characters = string.printable\n",
        "n_characters = len(all_characters)\n",
        "file = unidecode.unidecode(open('./pride.txt').read())\n",
        "file_len = len(file)\n",
        "print('file_len =', file_len)"
      ]
    },
    {
      "cell_type": "code",
      "execution_count": 31,
      "metadata": {
        "colab": {
          "base_uri": "https://localhost:8080/"
        },
        "id": "TxBeKeNjJ0NQ",
        "outputId": "37a250f4-4538-4f81-dfe9-92305aac7573"
      },
      "outputs": [
        {
          "output_type": "stream",
          "name": "stdout",
          "text": [
            "eding are not\n",
            "uncommon.\"\n",
            "\n",
            "Scarcely anything was talked of the whole day or next morning but\n",
            "their visit to Rosings. Mr. Collins was carefully instructing\n",
            "them in what they were to expect, that the sight of such rooms,\n",
            "so many servants, and so splendid a dinner, might not wholly\n",
            "overpower them.\n",
            "\n",
            "When \n"
          ]
        }
      ],
      "source": [
        "chunk_len = 300\n",
        " \n",
        "def random_chunk():\n",
        "  start_index = random.randint(0, file_len - chunk_len)\n",
        "  end_index = start_index + chunk_len + 1\n",
        "  return file[start_index:end_index]\n",
        "  \n",
        "print(random_chunk())"
      ]
    },
    {
      "cell_type": "code",
      "execution_count": 32,
      "metadata": {
        "colab": {
          "base_uri": "https://localhost:8080/"
        },
        "id": "On0_WitWJ99e",
        "outputId": "353fd599-42c4-4f5d-9f4c-38a2204867b6"
      },
      "outputs": [
        {
          "output_type": "stream",
          "name": "stdout",
          "text": [
            "tensor([10, 11, 12, 39, 40, 41])\n"
          ]
        }
      ],
      "source": [
        "# Turn string into list of longs\n",
        "def char_tensor(string):\n",
        "  tensor = torch.zeros(len(string)).long()\n",
        "  for c in range(len(string)):\n",
        "      tensor[c] = all_characters.index(string[c])\n",
        "  return tensor\n",
        "\n",
        "print(char_tensor('abcDEF'))"
      ]
    },
    {
      "cell_type": "markdown",
      "metadata": {
        "id": "CYJPTLcaYmfI"
      },
      "source": [
        "---\n",
        "\n",
        "## Part 4: Creating your own GRU cell \n",
        "\n",
        "**(Come back to this later - its defined here so that the GRU will be defined before it is used)**\n",
        "\n",
        "---\n",
        "\n",
        "The cell that you used in Part 1 was a pre-defined Pytorch layer. Now, write your own GRU class using the same parameters as the built-in Pytorch class does.\n",
        "\n",
        "Please try not to look at the GRU cell definition. The answer is right there in the code, and in theory, you could just cut-and-paste it. This bit is on your honor!\n",
        "\n",
        "**TODO:**\n",
        "* Create a custom GRU cell\n",
        "\n",
        "**DONE:**\n",
        "\n"
      ]
    },
    {
      "cell_type": "code",
      "execution_count": 33,
      "metadata": {
        "id": "aavAv50ZKQ-F"
      },
      "outputs": [],
      "source": [
        "class GRU(nn.Module):\n",
        "  def __init__(self, input_size, hidden_size, num_layers):\n",
        "    super(GRU, self).__init__()\n",
        "    self.input_size = input_size\n",
        "    self.hidden_size = hidden_size\n",
        "    self.num_layers = num_layers\n",
        "    self.weights = nn.ModuleList([nn.Linear(input_size, hidden_size) for i in range(6*num_layers)])\n",
        "\n",
        "    self.W_ir = nn.Linear(input_size, hidden_size)\n",
        "    self.W_hr = nn.Linear(input_size, hidden_size)\n",
        "    self.W_iz = nn.Linear(input_size, hidden_size)\n",
        "    self.W_hz = nn.Linear(input_size, hidden_size)\n",
        "    self.W_in = nn.Linear(input_size, hidden_size)\n",
        "    self.W_hn = nn.Linear(input_size, hidden_size)\n",
        "\n",
        "  \n",
        "  def forward(self, input, hidden):\n",
        "    # Iterate through each layer\n",
        "    for i in range(self.num_layers):\n",
        "      r_t = torch.sigmoid(self.weights[i+0](input) + self.weights[i+1](hidden))\n",
        "      z_t = torch.sigmoid(self.weights[i+2](input) + self.weights[i+3](hidden))\n",
        "      n_t = torch.tanh(self.weights[i+4](input) + self.weights[i+5](torch.multiply(r_t, hidden)))\n",
        "      h_t = torch.multiply((1 - z_t), n_t) + torch.multiply(z_t, hidden)\n",
        "\n",
        "      # Update value of hidden to use in next layer calculations\n",
        "      hidden = h_t \n",
        "    \n",
        "    return F.relu(h_t), h_t\n",
        "  \n"
      ]
    },
    {
      "cell_type": "markdown",
      "metadata": {
        "id": "qtXdX-B_WiAY"
      },
      "source": [
        "---\n",
        "\n",
        "##  Part 1: Building a sequence to sequence model\n",
        "\n",
        "---\n",
        "\n",
        "Great! We have the data in a useable form. We can switch out which text file we are reading from, and trying to simulate.\n",
        "\n",
        "We now want to build out an RNN model, in this section, we will use all built in Pytorch pieces when building our RNN class.\n",
        "\n",
        "\n",
        "**TODO:**\n",
        "* Create an RNN class that extends from nn.Module.\n",
        "\n",
        "**DONE:**\n",
        "\n"
      ]
    },
    {
      "cell_type": "code",
      "execution_count": 34,
      "metadata": {
        "id": "d6tNdEnzWj5F"
      },
      "outputs": [],
      "source": [
        "class RNN(nn.Module):\n",
        "  def __init__(self, input_size, hidden_size, output_size, n_layers=1):\n",
        "    super(RNN, self).__init__()\n",
        "    self.input_size = input_size\n",
        "    self.hidden_size = hidden_size\n",
        "    self.output_size = output_size\n",
        "    self.n_layers = n_layers\n",
        "\n",
        "    self.embedding = nn.Embedding(output_size, hidden_size)\n",
        "    self.gru = GRU(input_size, hidden_size, n_layers)\n",
        "    self.out = nn.Linear(hidden_size, output_size)\n",
        "\n",
        "  def forward(self, input_char, hidden):\n",
        "    out_decoded = self.embedding(input_char)\n",
        "    out_decoded = torch.unsqueeze(out_decoded, dim=0)\n",
        "\n",
        "    out_decoded, hidden = self.gru(out_decoded, hidden)\n",
        "    out_decoded = self.out(out_decoded[0])\n",
        "    \n",
        "    return out_decoded, hidden\n",
        "\n",
        "  def init_hidden(self):\n",
        "    return torch.zeros(self.n_layers, 1, self.hidden_size)"
      ]
    },
    {
      "cell_type": "code",
      "execution_count": 35,
      "metadata": {
        "id": "hrhXghEPKD-5"
      },
      "outputs": [],
      "source": [
        "def random_training_set():    \n",
        "  chunk = random_chunk()\n",
        "  inp = char_tensor(chunk[:-1])\n",
        "  target = char_tensor(chunk[1:])\n",
        "  return inp, target"
      ]
    },
    {
      "cell_type": "markdown",
      "metadata": {
        "id": "ZpiGObbBX0Mr"
      },
      "source": [
        "---\n",
        "\n",
        "## Part 2: Sample text and Training information\n",
        "\n",
        "---\n",
        "\n",
        "We now want to be able to train our network, and sample text after training.\n",
        "\n",
        "This function outlines how training a sequence style network goes. \n",
        "\n",
        "**TODO:**\n",
        "* Fill in the pieces.\n",
        "\n",
        "**DONE:**\n",
        "\n",
        "\n"
      ]
    },
    {
      "cell_type": "code",
      "execution_count": 36,
      "metadata": {
        "id": "2ALC3Pf8Kbsi"
      },
      "outputs": [],
      "source": [
        "# NOTE: decoder_optimizer, decoder, and criterion will be defined below as global variables\n",
        "def train(inp, target):\n",
        "  ## initialize hidden layers, set up gradient and loss \n",
        "  hidden = decoder.init_hidden()\n",
        "  decoder_optimizer.zero_grad()\n",
        "  loss = 0\n",
        "\n",
        "  for i in range(inp.size(0)):\n",
        "    output, hidden = decoder(inp[i].unsqueeze(0), hidden)\n",
        "    loss += criterion(output, target[i].view(1))\n",
        "\n",
        "  #loss /= len(inp)\n",
        "\n",
        "  loss.backward()\n",
        "  decoder_optimizer.step()\n",
        "\n",
        "  return loss.item() / len(inp)"
      ]
    },
    {
      "cell_type": "markdown",
      "metadata": {
        "id": "EN06NUu3YRlz"
      },
      "source": [
        "---\n",
        "\n",
        "## Part 3: Sample text and Training information\n",
        "\n",
        "---\n",
        "\n",
        "You can at this time, if you choose, also write out your train loop boilerplate that samples random sequences and trains your RNN. This will be helpful to have working before writing your own GRU class.\n",
        "\n",
        "If you are finished training, or during training, and you want to sample from the network you may consider using the following function. If your RNN model is instantiated as `decoder`then this will probabilistically sample a sequence of length `predict_len`\n",
        "\n",
        "**TODO:**\n",
        "* Fill out the evaluate function to generate text frome a primed string\n",
        "\n",
        "**DONE:**\n",
        "\n"
      ]
    },
    {
      "cell_type": "code",
      "execution_count": 37,
      "metadata": {
        "id": "B-bp-OZ1KjNh"
      },
      "outputs": [],
      "source": [
        "def sample_outputs(output, temperature):\n",
        "    \"\"\"Takes in a vector of unnormalized probability weights and samples a character from the distribution\"\"\"\n",
        "    return torch.multinomial(torch.exp(output / temperature), 1)\n",
        "\n",
        "def evaluate(prime_str='A', predict_len=2, temperature=0.8):\n",
        "  predicted = prime_str\n",
        "  with torch.no_grad():\n",
        "    # Initialize hidden state, initialize other useful variables\n",
        "    hidden = decoder.init_hidden()\n",
        "\n",
        "    prime_inp = char_tensor(prime_str)\n",
        "\n",
        "    for p in range(len(prime_str) - 1):\n",
        "      inp = prime_inp[p].unsqueeze(0)\n",
        "      _, hidden = decoder(inp, hidden)\n",
        "\n",
        "    inp = prime_inp[-1].unsqueeze(0)\n",
        "\n",
        "    for p in range(predict_len):\n",
        "      outputs, hidden = decoder(inp, hidden)\n",
        "\n",
        "      top_i = sample_outputs(outputs, temperature)\n",
        "\n",
        "      predicted_char = string.printable[top_i]\n",
        "      predicted += predicted_char\n",
        "      inp = char_tensor(predicted_char)\n",
        "\n",
        "\n",
        "  return predicted"
      ]
    },
    {
      "cell_type": "markdown",
      "metadata": {
        "id": "Du4AGA8PcFEW"
      },
      "source": [
        "---\n",
        "\n",
        "## Part 4: (Create a GRU cell, requirements above)\n",
        "\n",
        "---\n"
      ]
    },
    {
      "cell_type": "markdown",
      "metadata": {
        "id": "GFS2bpHSZEU6"
      },
      "source": [
        "\n",
        "---\n",
        "\n",
        "## Part 5: Run it and generate some text!\n",
        "\n",
        "---\n",
        "\n",
        "\n",
        "**TODO:** \n",
        "* Create some cool output\n",
        "\n",
        "**DONE:**\n",
        "\n",
        "\n",
        "\n",
        "\n",
        "Assuming everything has gone well, you should be able to run the main function in the scaffold code, using either your custom GRU cell or the built in layer, and see output something like this. I trained on the “lotr.txt” dataset, using chunk_length=200, hidden_size=100 for 2000 epochs. These are the results, along with the prime string:\n",
        "\n",
        "---\n",
        "\n",
        " G:\n",
        " \n",
        " Gandalf was decrond. \n",
        "'All have lord you. Forward the road at least walk this is stuff, and \n",
        "went to the long grey housel-winding and kindled side was a sleep pleasuring, I do long \n",
        "row hrough. In  \n",
        "\n",
        " lo:\n",
        " \n",
        " lost death it. \n",
        "'The last of the gatherings and take you,' said Aragorn, shining out of the Gate. \n",
        "'Yes, as you there were remembaused to seen their pass, when? What \n",
        "said here, such seven an the sear \n",
        "\n",
        " lo:\n",
        " \n",
        " low, and frod to keepn \n",
        "Came of their most. But here priced doubtless to an Sam up is \n",
        "masters; he left hor as they are looked. And he could now the long to stout in the right fro horseless of \n",
        "the like \n",
        "\n",
        " I:\n",
        " \n",
        " I had been the \n",
        "in his eyes with the perushed to lest, if then only the ring and the legended \n",
        "of the less of the long they which as the \n",
        "enders of Orcovered and smood, and the p \n",
        "\n",
        " I:\n",
        " \n",
        " I they were not the lord of the hoomes. \n",
        "Home already well from the Elves. And he sat strength, and we \n",
        "housed out of the good of the days to the mountains from his perith. \n",
        "\n",
        "'Yess! Where though as if  \n",
        "\n",
        " Th:\n",
        " \n",
        " There yarden \n",
        "you would guard the hoor might. Far and then may was \n",
        "croties, too began to see the drumbred many line \n",
        "and was then hoard walk and they heart, and the chair of the \n",
        "Ents of way, might was \n",
        "\n",
        " G:\n",
        " \n",
        " Gandalf \n",
        "been lat of less the round of the stump; both and seemed to the trees and perished they \n",
        "lay are speered the less; and the wind the steep and have to she \n",
        "precious. There was in the oonly went \n",
        "\n",
        " wh:\n",
        " \n",
        " which went out of the door. \n",
        "Hull the King and of the The days of his brodo \n",
        "stumbler of the windard was a thing there, then it been shining langing \n",
        "to him poor land. They hands; though they seemed ou \n",
        "\n",
        " ra:\n",
        " \n",
        " rather,' have all the least deather \n",
        "down of the truven beginning to the house of sunk. \n",
        "'Nark shorts of the Eyes of the Gate your great nothing as Eret. \n",
        "'I wander trust horn, and there were not, it  \n",
        "\n",
        " I:\n",
        " \n",
        " I can have no mind \n",
        "together! Where don't may had one may little blung \n",
        "terrible to tales. And turn and Gandalf shall be not to as only the Cattring \n",
        "not stopped great the out them forms. On they she lo \n",
        "\n",
        "---\n"
      ]
    },
    {
      "cell_type": "code",
      "execution_count": 21,
      "metadata": {
        "id": "-nXFeCmdKodw"
      },
      "outputs": [],
      "source": [
        "import time\n",
        "n_epochs = 5000\n",
        "print_every = 200\n",
        "plot_every = 10\n",
        "hidden_size = 100\n",
        "n_layers = 3\n",
        "lr = 0.01\n",
        " \n",
        "decoder = RNN(n_characters, hidden_size, n_characters, n_layers)\n",
        "decoder_optimizer = torch.optim.Adam(decoder.parameters(), lr=lr)\n",
        "criterion = nn.CrossEntropyLoss()\n",
        " \n",
        "start = time.time()\n",
        "all_losses = []\n",
        "loss_avg = 0"
      ]
    },
    {
      "cell_type": "code",
      "execution_count": 22,
      "metadata": {
        "id": "xKfozqw-6eqb",
        "colab": {
          "base_uri": "https://localhost:8080/"
        },
        "outputId": "1785d652-8e38-4c49-d4ba-43047ceffe77"
      },
      "outputs": [
        {
          "output_type": "stream",
          "name": "stdout",
          "text": [
            "[96.6028664112091 (200 10%) 2.0884]\n",
            "Whes \n",
            "weired trered wartere the sinsnor sackon that was ittths ha's Lindedindep ife how and fain yore  \n",
            "\n",
            "[191.66937136650085 (400 20%) 2.2916]\n",
            "Whery, sany nest ary kned was of not hould unoud wyount cour he rirkhimwer's,, fond thed to I Bunth, a \n",
            "\n",
            "[287.3860273361206 (600 30%) 2.0500]\n",
            "What at you Geat turthist this wealn pard, the Evern fork ssideds yive Setwas is bat ad \n",
            "\n",
            "\n",
            "\n",
            "\n",
            "\n",
            "\n",
            "\n",
            "\n",
            "\n",
            "In,  \n",
            "\n",
            "[382.2732036113739 (800 40%) 1.8432]\n",
            "Whour of truthed a neas than weard be of the somere rut bet had they and the syomeftur ain of toucher  \n",
            "\n",
            "[477.13233709335327 (1000 50%) 2.1132]\n",
            "Wher shaft of drond to to \n",
            "was hast. I Shooed the Rme. 'The is of were varss a day and the do,' \n",
            "\n",
            "'Mac \n",
            "\n",
            "[571.5856084823608 (1200 60%) 1.9587]\n",
            "Whantlas of les wirn. shoad and his for the is sant the we lots do there and he walks. His sing fall o \n",
            "\n",
            "[666.8989012241364 (1400 70%) 2.0600]\n",
            "Where Gin samlor therree \n",
            "byet them the reard. Gallure wor he Shind of but were Frodre pake it there r \n",
            "\n",
            "[761.6305809020996 (1600 80%) 1.8314]\n",
            "Why downorsess, whe lostw woussed thes frozt the by that slused the buls been the slentands hadd were  \n",
            "\n",
            "[856.4556605815887 (1800 90%) 2.1314]\n",
            "Wheattess graggoll wound the whis but bridd the him Browage alk and tree whims greets was onguming aga \n",
            "\n",
            "[952.0682103633881 (2000 100%) 2.0029]\n",
            "Wh the rid said nath \n",
            "firts horse wim-sight \n",
            "said aran \n",
            "hourth leven \n",
            "may not beart \n",
            "he wall a do hift \n",
            "\n"
          ]
        }
      ],
      "source": [
        "n_epochs = 2000\n",
        "for epoch in range(1, n_epochs + 1):\n",
        "  loss_ = train(*random_training_set())       \n",
        "  loss_avg += loss_\n",
        "\n",
        "  if epoch % print_every == 0:\n",
        "      print('[%s (%d %d%%) %.4f]' % (time.time() - start, epoch, epoch / n_epochs * 100, loss_))\n",
        "      print(evaluate('Wh', 100), '\\n')\n",
        "\n",
        "  if epoch % plot_every == 0:\n",
        "      all_losses.append(loss_avg / plot_every)\n",
        "      loss_avg = 0"
      ]
    },
    {
      "cell_type": "code",
      "source": [
        "import matplotlib.pyplot as plt\n",
        "\n",
        "print(len(all_losses))\n",
        "X = [i * plot_every for i in range(n_epochs // plot_every)]\n",
        "print(len(X))\n",
        "\n",
        "\n",
        "plt.plot(X, all_losses, label='train')\n",
        "plt.xlabel(\"Epoch\")\n",
        "plt.ylabel(\"Loss\")\n",
        "plt.title(\"Training Loss by Epoch \")\n",
        "plt.legend()\n",
        "plt.show()\n"
      ],
      "metadata": {
        "colab": {
          "base_uri": "https://localhost:8080/",
          "height": 330
        },
        "id": "NiyTkuozjXD-",
        "outputId": "aa5f4504-6d7f-4dba-93dd-28ee0f2ca06a"
      },
      "execution_count": 23,
      "outputs": [
        {
          "output_type": "stream",
          "name": "stdout",
          "text": [
            "200\n",
            "200\n"
          ]
        },
        {
          "output_type": "display_data",
          "data": {
            "image/png": "[encoded data removed]",
            "text/plain": [
              "<Figure size 432x288 with 1 Axes>"
            ]
          },
          "metadata": {
            "needs_background": "light"
          }
        }
      ]
    },
    {
      "cell_type": "code",
      "source": [
        "print(evaluate(prime_str='G', predict_len=100, temperature=0.8))"
      ],
      "metadata": {
        "colab": {
          "base_uri": "https://localhost:8080/"
        },
        "id": "16zplufOTCxh",
        "outputId": "3249dbb0-11f5-41a3-b55a-cf66d4307f5d"
      },
      "execution_count": 26,
      "outputs": [
        {
          "output_type": "stream",
          "name": "stdout",
          "text": [
            "Gladles and hearst lersery rid. In the alkne, but then bars bees thher \n",
            "and beeints I least in the st\n"
          ]
        }
      ]
    },
    {
      "cell_type": "code",
      "execution_count": 28,
      "metadata": {
        "id": "Ee0so6aKJ5L8",
        "colab": {
          "base_uri": "https://localhost:8080/"
        },
        "outputId": "c7461ef8-1434-487c-fb6d-06661f073181"
      },
      "outputs": [
        {
          "output_type": "stream",
          "name": "stdout",
          "text": [
            "Test output #0\n",
            "You\n",
            "Youn Ba about be \n",
            "\n",
            "\n",
            "\n",
            "am sure his \n",
            "shad vancher, houghant agugele it pliey \n",
            "shapet bee his bas with ingoor shast was the When as great said I srain behast \n",
            "orr that not slor out call our as the sulfour do \n",
            "\n",
            "Test output #1\n",
            "Ring\n",
            "Ring, befoomet spade the gange it borts of tha she strear skith \n",
            "to I stoas to rale before \n",
            "and them as nard strave off up the Stre rees the he strongely with and stood he him out had rame masn bard befor \n",
            "\n",
            "Test output #2\n",
            "You\n",
            "Yout tazy ove the have ir they cam he what and cournes have firs gran stol stire bee of the He stizarve des, backs it ift to the ride pangold \n",
            "shewass, have that if of the slieving fored the the soon it  \n",
            "\n",
            "Test output #3\n",
            "Th\n",
            "Ther he \n",
            "Frodes aged \n",
            "lave \n",
            "coull in hay bafor came could and that glead rot \n",
            "waun \n",
            "shey \n",
            "times, and the sture ant \n",
            "stiren the \n",
            "to stue if ming the moord set back had he heard said borther of said shit  \n",
            "\n",
            "Test output #4\n",
            "I\n",
            "I get and fit \n",
            "to \n",
            "peepled behal Gought, Gandave thway of und the They halliroug and shad the great, and his beger in he sripl all and the have thjown be-se arashis along of heard my Ere and lost the t \n",
            "\n",
            "Test output #5\n",
            "wh\n",
            "wh he has rool and up know geet and cambit \n",
            "said kned as will Gan 'loved lable wachapted and stron \n",
            "the planger that soon samen said had twall of Gand be in the ponly the beardeater, and fore-ced the a  \n",
            "\n",
            "Test output #6\n",
            "he\n",
            "heazave the as In the bes and spands burtef lous these come of can to shadening, and lavel, and Gad the the \n",
            "pance and straing the had stree halks borther the mast this \n",
            "rasto claught the could hall now \n",
            "\n",
            "Test output #7\n",
            "Th\n",
            "Ther of there sighalle \n",
            "\n",
            "as sick clised \n",
            "was pand he beard ries a dest the crwas stay \n",
            "said reme wore \n",
            "the he strancome there you sat \n",
            "beain \n",
            "the knosed dou strating greaget have pand the Right as plefs \n",
            "\n",
            "Test output #8\n",
            "G\n",
            "Grs that our in ston \n",
            "to sut soon before knowntf It and once that you seckned. The came greats back prain \n",
            "not \n",
            "love said no they o rains. Their, and mark were Frodo the hearn, and lor. \n",
            "\n",
            "The shewesd s \n",
            "\n",
            "Test output #9\n",
            "A\n",
            "An't befor us got \n",
            "them tount \n",
            "the \n",
            "jew said Ole the as ase and make sat you \n",
            "It laad quiled ale he sues, and reath a soungers of to its not steads, yo gearch and sum, and and of the had. Lug the Right \n",
            "\n",
            "Test output #10\n",
            "Ring\n",
            "Ring hear goon't you nothint in in \n",
            "turs sacek, and as Gan nit as fall neagurning stained and be feards; \n",
            "the and kin ston they Riths glooks the clown \n",
            "then Sheard the rwak and strain the seet and they ma \n",
            "\n",
            "Test output #11\n",
            "G\n",
            "Ging he where a and pare of \n",
            "'Sbeachand shreaptgers what \n",
            "stone the that was be coughtffaft the \n",
            "\n",
            "the stoldes and said and a shis thing ut sit legaft as the beharth a in \n",
            "out on \n",
            "mamess wizs stus \n",
            "the  \n",
            "\n",
            "Test output #12\n",
            "G\n",
            "Grid as a clave shesed fee saon a guge!' \n",
            "\n",
            "The at and knees \n",
            "and glooks leain ford will have as sea \n",
            "bey strand hat and shave slave \n",
            "man us and strload grate looked beptw the levell some ame him pance  \n",
            "\n",
            "Test output #13\n",
            "A\n",
            "Ad their be more he cicks you \n",
            "stire the Sturt as Fark! 'He that gook. \n",
            "\n",
            "'The ride. \n",
            "\n",
            "'Fronded hep it the all \n",
            "do the lised sighafter befores a clapelf. He had then hears and the of and jass mand the g \n",
            "\n",
            "Test output #14\n",
            "Ring\n",
            "Ring of sturpen him. \n",
            "\n",
            "The \n",
            "that is poved edge of fill sme of shen the sule low it not \n",
            "The said 'thing the muse no rands, its sron \n",
            "that shave lo. But thear before and mased the have streat mas its and f \n",
            "\n"
          ]
        }
      ],
      "source": [
        "for i in range(15):\n",
        "  start_strings = [\"Th\", \"wh\", \"he\", \"I\", \"A\", \"G\", \"You\", \"Ring\"]\n",
        "  start = random.randint(0,len(start_strings)-1)\n",
        "  print(\"Test output #\" + str(i))\n",
        "  print(start_strings[start])\n",
        "  print(evaluate(start_strings[start], 200), '\\n')"
      ]
    },
    {
      "cell_type": "markdown",
      "metadata": {
        "id": "YJhgDc2IauPE"
      },
      "source": [
        "---\n",
        "\n",
        "## Part 6: Generate output on a different dataset\n",
        "\n",
        "---\n",
        "\n",
        "**TODO:**\n",
        "\n",
        "* Choose a textual dataset. Here are some [text datasets](https://www.kaggle.com/datasets?tags=14104-text+data%2C13205-text+mining) from Kaggle \n",
        "\n",
        "* Generate some decent looking results and evaluate your model's performance (say what it did well / not so well)\n",
        "\n",
        "**DONE:**\n",
        "\n"
      ]
    },
    {
      "cell_type": "code",
      "source": [
        "import time\n",
        "n_epochs = 5000\n",
        "print_every = 200\n",
        "plot_every = 10\n",
        "hidden_size = 100\n",
        "n_layers = 3\n",
        "lr = 0.01\n",
        " \n",
        "decoder = RNN(n_characters, hidden_size, n_characters, n_layers)\n",
        "decoder_optimizer = torch.optim.Adam(decoder.parameters(), lr=lr)\n",
        "criterion = nn.CrossEntropyLoss()\n",
        " \n",
        "start = time.time()\n",
        "all_losses = []\n",
        "loss_avg = 0"
      ],
      "metadata": {
        "id": "tAj605U-bUhZ"
      },
      "execution_count": 38,
      "outputs": []
    },
    {
      "cell_type": "code",
      "source": [
        "n_epochs = 2000\n",
        "for epoch in range(1, n_epochs + 1):\n",
        "  loss_ = train(*random_training_set())       \n",
        "  loss_avg += loss_\n",
        "\n",
        "  if epoch % print_every == 0:\n",
        "      print('[%s (%d %d%%) %.4f]' % (time.time() - start, epoch, epoch / n_epochs * 100, loss_))\n",
        "      print(evaluate('Wh', 100), '\\n')\n",
        "\n",
        "  if epoch % plot_every == 0:\n",
        "      all_losses.append(loss_avg / plot_every)\n",
        "      loss_avg = 0"
      ],
      "metadata": {
        "colab": {
          "base_uri": "https://localhost:8080/"
        },
        "id": "4f4nytvNbXRl",
        "outputId": "27e82f37-339b-43c2-d25c-6318e4d7f6d6"
      },
      "execution_count": 39,
      "outputs": [
        {
          "output_type": "stream",
          "name": "stdout",
          "text": [
            "[151.32371950149536 (200 10%) 1.8950]\n",
            "Wher of undeade the turtemiscould a that mom alown add had as ber this qut as congainnce and befort co \n",
            "\n",
            "[312.5545029640198 (400 20%) 2.0478]\n",
            "Whin\n",
            "all goood he Land rear dir\n",
            "on her your seg\n",
            "ast and the sumbelfe she the dive. Bingles, or indeppi \n",
            "\n",
            "[474.3425328731537 (600 30%) 1.6951]\n",
            "Wher, at he wher to the up on the cone in thatt you sister, shonsh and arcked be would him able thoul  \n",
            "\n",
            "[635.2294631004333 (800 40%) 1.7798]\n",
            "What the prollight to might; her ece any have reved and not had in upon al hard _that the Bennear and  \n",
            "\n",
            "[779.6913125514984 (1000 50%) 1.7815]\n",
            "Whion which talked strented\n",
            "him of attented they feelly she its of pect I\n",
            "been in the\n",
            "diding is be com \n",
            "\n",
            "[922.5570833683014 (1200 60%) 1.6623]\n",
            "Whif he her sether, houlder the\n",
            "suncousing of he remasins as exchiching to groouder use Mr. That he of \n",
            "\n",
            "[1066.2124950885773 (1400 70%) 1.9022]\n",
            "Whing you every had be said will sary to sasings the said by he some\n",
            "what.\"\n",
            "\n",
            "\"The aw the receadmentsed \n",
            "\n",
            "[1227.098839044571 (1600 80%) 1.7605]\n",
            "Whisbut for his of enther ouble than and so pried; canniage of she was not of rothing heres, and the w \n",
            "\n",
            "[1380.2304153442383 (1800 90%) 1.7197]\n",
            "Wh atmed\n",
            "to\n",
            "the could deing\n",
            "could to hearthse, Mr. It sunt, soonded toks enough as\n",
            "of hand enour.\n",
            "\n",
            "\"La \n",
            "\n",
            "[1529.2590193748474 (2000 100%) 2.0256]\n",
            "What and my sucurgain the hids did favourre so hil he that\n",
            "aboth is poss a formston to to a dent not n \n",
            "\n"
          ]
        }
      ]
    },
    {
      "cell_type": "code",
      "source": [
        "import matplotlib.pyplot as plt\n",
        "\n",
        "print(len(all_losses))\n",
        "X = [i * plot_every for i in range(n_epochs // plot_every)]\n",
        "print(len(X))\n",
        "\n",
        "\n",
        "plt.plot(X, all_losses, label='train')\n",
        "plt.xlabel(\"Epoch\")\n",
        "plt.ylabel(\"Loss\")\n",
        "plt.title(\"Training Loss by Epoch \")\n",
        "plt.legend()\n",
        "plt.show()"
      ],
      "metadata": {
        "colab": {
          "base_uri": "https://localhost:8080/",
          "height": 330
        },
        "id": "jcxu1lq6bY_A",
        "outputId": "51e1e741-5790-4b68-e4e1-33c4c4ed9142"
      },
      "execution_count": 40,
      "outputs": [
        {
          "output_type": "stream",
          "name": "stdout",
          "text": [
            "200\n",
            "200\n"
          ]
        },
        {
          "output_type": "display_data",
          "data": {
            "image/png": "[encoded data removed]",
            "text/plain": [
              "<Figure size 432x288 with 1 Axes>"
            ]
          },
          "metadata": {
            "needs_background": "light"
          }
        }
      ]
    },
    {
      "cell_type": "code",
      "source": [
        "for i in range(15):\n",
        "  start_strings = [\"Th\", \"wh\", \"he\", \"I\", \"Mr.\", \"A\", \"pl\", \"D\", \"sister\", \"mo\",\"pr\", \"j\"]\n",
        "  start = random.randint(0,len(start_strings)-1)\n",
        "  print(\"Test output #\" + str(i))\n",
        "  print(\"Prime word: \" + start_strings[start]+\"\\n\")\n",
        "  print(evaluate(start_strings[start], 200), '\\n')"
      ],
      "metadata": {
        "colab": {
          "base_uri": "https://localhost:8080/"
        },
        "id": "e0zFVOAEbbWb",
        "outputId": "2b8650d7-5043-47a3-d5e4-27aa568e6e64"
      },
      "execution_count": 43,
      "outputs": [
        {
          "output_type": "stream",
          "name": "stdout",
          "text": [
            "Test output #0\n",
            "Prime word: Mr.\n",
            "\n",
            "Mr. And he a shat Mr.\n",
            "\n",
            "The and afugh a man dorther; that was of youn, it an my your be with that wonk; nold a do the fire she at nars of am and the he to\n",
            "manhicore when partry in his ready sorme oving an \n",
            "\n",
            "Test output #1\n",
            "Prime word: A\n",
            "\n",
            "An she counter dich he the excerfaw the how the the the shat arterablest fire was as for Mr.\n",
            "\n",
            "\"I sospected that specuted.\"\n",
            "\n",
            "Chark with know makent my manest fard intre hich he be so my deit inverythark \n",
            "\n",
            "Test output #2\n",
            "Prime word: wh\n",
            "\n",
            "wh the was shour she the not priage\n",
            "that a stat the she the sather, with that warry,, the it, and convan dies who pres in by roded his sat his noll the read my shad, spernegann have repomnt han\n",
            "to loode \n",
            "\n",
            "Test output #3\n",
            "Prime word: Th\n",
            "\n",
            "Thought wire had the whied the contron the and by in hered to be aderen saking at on we the whighty werent them. Mr. When to laction, what But again to che grathartayd to a he so\n",
            "the arity turn; this an \n",
            "\n",
            "Test output #4\n",
            "Prime word: he\n",
            "\n",
            "hent the\n",
            "her at nevers she warted, of Mr. I with she and make the now the knolder this the lith an surde on a up goul all sh thre itring a her dertery and my wards man her which this my you more dager,  \n",
            "\n",
            "Test output #5\n",
            "Prime word: sister\n",
            "\n",
            "sisters adeateraty, on the parted excerature, on the reageed not intature mixt hich him. That and was al with that fone.\n",
            "\n",
            "Harrshused in Mrs on you knentry and\n",
            "han, gour must\n",
            "When the had disther\n",
            "my feant th \n",
            "\n",
            "Test output #6\n",
            "Prime word: mo\n",
            "\n",
            "mord the heer\n",
            "yo for rathere the swhat behave, Elizabevich the am encity objectell. So\n",
            "olll the a\n",
            "strecesthing, frughy as sist though not eve, wherally were the knext, were that was warter her and and r \n",
            "\n",
            "Test output #7\n",
            "Prime word: pr\n",
            "\n",
            "pribout, soursell, in your dasan the were.\"\n",
            "\n",
            "Coll she deksing renet, was suchmen an the whiccucty do she disther,\n",
            "and Mt by Mr. How her saut the feenly\n",
            "an Mir suwher your dearced ands\n",
            "haght of herng iff \n",
            "\n",
            "Test output #8\n",
            "Prime word: he\n",
            "\n",
            "hed\n",
            "so twon ming them.\n",
            "\n",
            "\n",
            "\n",
            "Elending your suchman of the gard biter dam, which convent which with of the to the he wiht, and the my man\n",
            "he staking which warn with my comnd a had nother\n",
            "good pleftach am ho \n",
            "\n",
            "Test output #9\n",
            "Prime word: pr\n",
            "\n",
            "proughed she digh,\n",
            "in the the\n",
            "greate arrected four she she should the hink at your stage, and spency. Dart, and thought, wathing he she no ferly iny in to. Who ext forme the she shoulance the shac, shis \n",
            "\n",
            "Test output #10\n",
            "Prime word: Mr.\n",
            "\n",
            "Mr.\n",
            "\n",
            "Ithitatiely by neined the my nyour that a\n",
            "the sard.\n",
            "\n",
            "\n",
            "\"You shand the country to noth pither them ture foury was subjecte, the as the dage were, and iture the many was the in s in he of\n",
            "\n",
            "\"Your the an \n",
            "\n",
            "Test output #11\n",
            "Prime word: A\n",
            "\n",
            "As bet coudgre. Shat said willed the with her and its Lous dies, with could only; and who when a in arich them.\n",
            "\n",
            "Where in of a his grain gain hit with he the seent, whing by he with as mane and would b \n",
            "\n",
            "Test output #12\n",
            "Prime word: I\n",
            "\n",
            "I and an again of she foring ut in apcerty stant a ble must the gard a sway, and an man in the there the that had in an ethe in\n",
            "her suctrefra she of he rear after; by to trefel mored she and don annate \n",
            "\n",
            "Test output #13\n",
            "Prime word: mo\n",
            "\n",
            "mour dronger firs infity with sheer\n",
            "remorture, on it it him, more the by?\"\n",
            "\n",
            "\n",
            "\"Iasurpert, dishit\n",
            "accourm\n",
            "the do fis--------ba\n",
            "but. Shery understher now.\n",
            "\n",
            "\n",
            "\n",
            "\"Youe urpried the for them, not dished, and Mr. \n",
            "\n",
            "Test output #14\n",
            "Prime word: j\n",
            "\n",
            "jecter wan than-----and hitwarose fournt. Shen to\n",
            "do fiddy this.\n",
            "\n",
            "\"Iw to she dond al so a expon fide fery abosuars it, read to was at in on intent, Elizuf-rode, sun dindore, with waral shat ready\n",
            "by\n",
            "by \n",
            "\n"
          ]
        }
      ]
    },
    {
      "cell_type": "markdown",
      "source": [
        "## Model Evaluation\n",
        "\n",
        "I trained this RNN on the text dataset of Pride and Prejudice.\n",
        "\n",
        "My model's performance was interesting. Not every output generated was of the same quality, but every once in a while you get one that almost reads like normal until you look more closely.\n",
        "\n",
        "Things that went well:\n",
        "* You can tell that it is making an effort to put together names. In the output examples there are strings like \"Dart\" and \"Elizuf-rode\" or \"Elizabevich\" (Darcy and Elizabeth), so it is clear that the model is getting something out of the text and recognizing patterns.\n",
        "* Since Pride and Prejudice is a text with a lot of quotations and speaking, I was suprised to see examples of open and closed quotes with decently reasonable text in them.\n",
        "* Similarly, the output attempts to use semicolons, commas, and other punctuations in ways that are not actually all that unnatural which impressed me.\n",
        "\n",
        "Things that did not go so well:\n",
        "* It still really likes to make up words. There are a fair amount of correctly spelled words, usually thrown around in a nonsensical order, but there are also a lot of words that make no sense. Some of the output strings read more like a romanization of a foreign language than English.\n",
        "* It gets caught up in repetition when dealing with symobols and new lines. In the last output example, the model printed a - character, which lead it to print another 4 after that first one. It will also print multiple newlines randomly when it gets one, which is understandable since the text file did contain things like multiple new lines in breaks between chapters and such. Somethings like that are hard to avoid when the input is formatted a certain way, might be something to play with more carefully in the future.\n",
        "\n",
        "Overall, while the model did not produce much convicing output, I was still pleasantly surprised to see snippets from it that sounded like it could have been from the book, especially given how frustrating it was to get the model to produce anything recognizable when I started the project."
      ],
      "metadata": {
        "id": "IkctZdhphpRv"
      }
    }
  ],
  "metadata": {
    "colab": {
      "collapsed_sections": [],
      "name": "lab6.ipynb",
      "provenance": []
    },
    "kernelspec": {
      "display_name": "Python 3",
      "language": "python",
      "name": "python3"
    },
    "language_info": {
      "codemirror_mode": {
        "name": "ipython",
        "version": 3
      },
      "file_extension": ".py",
      "mimetype": "text/x-python",
      "name": "python",
      "nbconvert_exporter": "python",
      "pygments_lexer": "ipython3",
      "version": "3.7.1"
    },
    "pycharm": {
      "stem_cell": {
        "cell_type": "raw",
        "metadata": {
          "collapsed": false
        },
        "source": []
      }
    }
  },
  "nbformat": 4,
  "nbformat_minor": 0
}