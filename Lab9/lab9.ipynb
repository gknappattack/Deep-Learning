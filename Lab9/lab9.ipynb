{
  "cells": [
    {
      "cell_type": "markdown",
      "metadata": {
        "id": "rEwpv0GZ_CrT"
      },
      "source": [
        "<a \n",
        "href=\"https://colab.research.google.com/github/wingated/cs474_labs_f2019/blob/master/DL_Lab10.ipynb\"\n",
        "  target=\"_parent\">\n",
        "  <img\n",
        "    src=\"https://colab.research.google.com/assets/colab-badge.svg\"\n",
        "    alt=\"Open In Colab\"/>\n",
        "</a>"
      ]
    },
    {
      "cell_type": "markdown",
      "metadata": {
        "id": "xnoEhAVvBcMj"
      },
      "source": [
        "#Lab 9: Transfer Learning/Fine-Tuning"
      ]
    },
    {
      "cell_type": "markdown",
      "metadata": {
        "id": "sBOvJdJfkXIL"
      },
      "source": [
        "## Description"
      ]
    },
    {
      "cell_type": "markdown",
      "metadata": {
        "id": "GiuvTUWOjtBC"
      },
      "source": [
        "### Objective\n",
        "\n",
        "- Gain experience fine-tuning pre-trained models to domain-specific applications.\n",
        "\n",
        "### Deliverable\n",
        "\n",
        "For this lab you will submit an ipython notebook via learning suite. The bulk of the work is in modifying fine-tuning a pre-trained ResNet. Fine-tuning the GPT-2 language model is pretty easy. The provided code works as is; you will just have to swap in your own text dataset.\n",
        "\n",
        "### Grading\n",
        "\n",
        "- 35% Create a dataset class for your own dataset\n",
        "- 35% Create a network class that wraps a pretrained ResNet\n",
        "- 20% Implement unfreezing in the network class\n",
        "- 10% Fine-tune GPT-2 on your own dataset\n",
        "\n",
        "### Tips\n",
        "- Your life will be better if you download a dataset that already has the data in the expected format for ImageFolder (make sure to read the documentation!). The datasets recommended below are in the correct format.\n",
        "- Get the CNN working on the provided dataset (bird species classification) before swapping in your own.\n",
        "- For reference on freezing/unfreezing network weights, see [this github gist](https://gist.github.com/jcjohnson/6e41e8512c17eae5da50aebef3378a4c)\n",
        "- For training GPT-2, first try the medium-size (355M parameter) model. If your Colab instance doesn't have enough GPU space, you may need to switch to the small-size (124M parameter) model, but the results will be less impressive."
      ]
    },
    {
      "cell_type": "code",
      "execution_count": 1,
      "metadata": {
        "id": "dKzRORuLBNLR"
      },
      "outputs": [],
      "source": [
        "from torchvision.models import resnet152\n",
        "from torchvision import transforms, datasets\n",
        "from torch.utils.data import DataLoader, Dataset\n",
        "import torch\n",
        "from torch import optim, nn\n",
        "import zipfile\n",
        "from google.colab import files\n",
        "import os\n",
        "import sys\n",
        "from PIL import Image, ImageOps\n",
        "from tqdm import tqdm\n",
        "import numpy as np\n",
        "from matplotlib import pyplot as plt"
      ]
    },
    {
      "cell_type": "markdown",
      "metadata": {
        "id": "S4R3D8Mr8b54"
      },
      "source": [
        "## 1 Fine-tune a ResNet for image classification"
      ]
    },
    {
      "cell_type": "markdown",
      "metadata": {
        "id": "kFoEeTYHDq2s"
      },
      "source": [
        "### 1.1 Find a dataset to fine-tune on, and make a Dataset class (1 hr.)"
      ]
    },
    {
      "cell_type": "markdown",
      "metadata": {
        "id": "7z6g7a_Y84n0"
      },
      "source": [
        "#### TODO:"
      ]
    },
    {
      "cell_type": "markdown",
      "metadata": {
        "id": "P8NtFZRd5hcm"
      },
      "source": [
        "- Inherit from torch.utils.data.Dataset\n",
        "- Use a [torchvision.datasets.ImageFolder](https://pytorch.org/docs/stable/torchvision/datasets.html#torchvision.datasets.ImageFolder)\n",
        "- Don't spend too long finding another dataset. Some suggestions that you are free to use:\n",
        " - https://www.kaggle.com/akash2907/bird-species-classification\n",
        " - https://www.kaggle.com/jessicali9530/stanford-dogs-dataset\n",
        " - https://www.kaggle.com/puneet6060/intel-image-classification\n"
      ]
    },
    {
      "cell_type": "markdown",
      "metadata": {
        "id": "TBigIUFTukeJ"
      },
      "source": [
        "#### Help for downloading kaggle datasets\n",
        "Downloading Kaggle datasets requires authentication, so you can't just download from a url. Here are some step-by-step instructions of how to get Kaggle datasets in Colab"
      ]
    },
    {
      "cell_type": "markdown",
      "metadata": {
        "id": "_X29UC6CvwfQ"
      },
      "source": [
        "1. Create an API key in Kaggle\n",
        "    - Click on profile photo\n",
        "    - Go to 'My Account'\n",
        "    - Scroll down to the API access section and click \"Create New API Token\"\n",
        "    - `kaggle.json` is now downloaded to your computer\n",
        "\n",
        "2. Upload the API key and install the Kaggle API client by running the next cell (run it again if it throws an error the first time). Also, `files.upload()` may not work in Firefox. One solution is to expand the Files banner (indicated by the '>' tab on the left side of the page) and use that to upload the key."
      ]
    },
    {
      "cell_type": "code",
      "execution_count": 2,
      "metadata": {
        "colab": {
          "base_uri": "https://localhost:8080/",
          "height": 90,
          "resources": {
            "http://localhost:8080/nbextensions/google.colab/files.js": {
              "data": "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",
              "headers": [
                [
                  "content-type",
                  "application/javascript"
                ]
              ],
              "ok": true,
              "status": 200,
              "status_text": ""
            }
          }
        },
        "id": "Mhjc0pM7jOoZ",
        "outputId": "ae30bf5c-e566-4c37-d3ee-cdf029929dd3"
      },
      "outputs": [
        {
          "output_type": "display_data",
          "data": {
            "text/plain": [
              "<IPython.core.display.HTML object>"
            ],
            "text/html": [
              "\n",
              "     <input type=\"file\" id=\"files-928e5f35-bd4e-484d-99c2-ae8ff68d04a1\" name=\"files[]\" multiple disabled\n",
              "        style=\"border:none\" />\n",
              "     <output id=\"result-928e5f35-bd4e-484d-99c2-ae8ff68d04a1\">\n",
              "      Upload widget is only available when the cell has been executed in the\n",
              "      current browser session. Please rerun this cell to enable.\n",
              "      </output>\n",
              "      <script src=\"/nbextensions/google.colab/files.js\"></script> "
            ]
          },
          "metadata": {}
        },
        {
          "output_type": "stream",
          "name": "stdout",
          "text": [
            "Saving kaggle.json to kaggle.json\n",
            "-rw-r--r-- 1 root root 68 Mar 13 21:42 kaggle.json\n"
          ]
        }
      ],
      "source": [
        "# Run this cell and select the kaggle.json file downloaded\n",
        "# from the Kaggle account settings page.\n",
        "from google.colab import files\n",
        "files.upload()\n",
        "# Next, install the Kaggle API client.\n",
        "!pip install -q kaggle\n",
        "# Let's make sure the kaggle.json file is present.\n",
        "!ls -lha kaggle.json\n",
        "# The Kaggle API client expects this file to be in ~/.kaggle,\n",
        "# so move it there.\n",
        "!mkdir -p ~/.kaggle\n",
        "!mv kaggle.json ~/.kaggle/\n",
        "# This permissions change avoids a warning on Kaggle tool startup.\n",
        "!chmod 600 ~/.kaggle/kaggle.json"
      ]
    },
    {
      "cell_type": "markdown",
      "metadata": {
        "id": "AGlIa4SIwEXB"
      },
      "source": [
        "3. Copy the desired dataset locally"
      ]
    },
    {
      "cell_type": "code",
      "execution_count": null,
      "metadata": {
        "colab": {
          "base_uri": "https://localhost:8080/"
        },
        "id": "7HtB-XdIr1EE",
        "outputId": "87b39a7a-df16-4536-a8bf-84001c279f48"
      },
      "outputs": [
        {
          "output_type": "stream",
          "name": "stdout",
          "text": [
            "Downloading bird-species-classification.zip to /content\n",
            "100% 1.37G/1.37G [00:33<00:00, 31.1MB/s]\n",
            "100% 1.37G/1.37G [00:33<00:00, 44.5MB/s]\n"
          ]
        }
      ],
      "source": [
        "# Example download command for dataset found here: https://www.kaggle.com/akash2907/bird-species-classification\n",
        "!kaggle datasets download -d akash2907/bird-species-classification"
      ]
    },
    {
      "cell_type": "code",
      "source": [
        "!kaggle datasets download -d puneet6060/intel-image-classification"
      ],
      "metadata": {
        "colab": {
          "base_uri": "https://localhost:8080/"
        },
        "id": "VoXkJ_X3uaJp",
        "outputId": "043b18a6-e94a-4439-e7c3-fde849a20bb2"
      },
      "execution_count": 3,
      "outputs": [
        {
          "output_type": "stream",
          "name": "stdout",
          "text": [
            "intel-image-classification.zip: Skipping, found more recently modified local copy (use --force to force download)\n"
          ]
        }
      ]
    },
    {
      "cell_type": "markdown",
      "metadata": {
        "id": "zcz0JGXjxFGe"
      },
      "source": [
        "#### Make the Dataset class\n",
        "See the implementation below for reference, and make your own."
      ]
    },
    {
      "cell_type": "code",
      "execution_count": null,
      "metadata": {
        "colab": {
          "base_uri": "https://localhost:8080/"
        },
        "id": "lthPlsGeK4CX",
        "outputId": "b4f086c6-3587-40fe-83c5-404e8f7c826d"
      },
      "outputs": [
        {
          "output_type": "stream",
          "name": "stdout",
          "text": [
            "Extracting ./bird-species-classification.zip\n",
            "Resizing images\n"
          ]
        }
      ],
      "source": [
        "class BirdDataset(Dataset):\n",
        "    def __init__(self, zip_file='./bird-species-classification.zip', size=256, train=True, upload=False):\n",
        "        super(BirdDataset, self).__init__()\n",
        "        \n",
        "        self.train = train\n",
        "        extract_dir = os.path.splitext(zip_file)[0]\n",
        "        if not os.path.exists(extract_dir):\n",
        "            os.makedirs(extract_dir)\n",
        "            self.extract_zip(zip_file, extract_dir)\n",
        "            # Resize the images - originally they are high resolution. We could do this\n",
        "            # in the DataLoader, but it will read the full-resolution files from disk\n",
        "            # every time before resizing them, making training slow\n",
        "            self.resize(extract_dir, size=size)\n",
        "\n",
        "        postfix = 'train' if train else 'test'\n",
        "            \n",
        "        if train:\n",
        "            # The bird-species dataset mistakenly has a train_data folder inside of train_data\n",
        "            self.dataset_folder = datasets.ImageFolder(os.path.join(extract_dir, 'train_data', 'train_data'), transform=transforms.Compose([transforms.ToTensor()]))\n",
        "        else:\n",
        "            self.dataset_folder = datasets.ImageFolder(os.path.join(extract_dir, 'test_data', 'test_data'), transform=transforms.Compose([transforms.ToTensor()]))\n",
        "\n",
        "    def extract_zip(self, zip_file, extract_dir):\n",
        "        print(\"Extracting\", zip_file)\n",
        "        with zipfile.ZipFile(zip_file, 'r') as zip_ref:\n",
        "            zip_ref.extractall(extract_dir)\n",
        "\n",
        "    def resize(self, path, size=256):\n",
        "        \"\"\"Resizes all images in place\"\"\"\n",
        "        print(\"Resizing images\")\n",
        "        dirs = os.walk(path)\n",
        "        for root, dirs, files in os.walk(path):\n",
        "            for item in files:\n",
        "                name = os.path.join(root, item)\n",
        "                if os.path.isfile(name):\n",
        "                    im = Image.open(name)\n",
        "                    im = ImageOps.fit(im, (size, size))\n",
        "                    im.save(name[:-3] + 'bmp', 'BMP')\n",
        "                    os.remove(name)\n",
        "\n",
        "    def __getitem__(self, i):\n",
        "        return self.dataset_folder[i]\n",
        "\n",
        "    def __len__(self):\n",
        "        return len(self.dataset_folder)\n",
        "\n",
        "bird_data = BirdDataset()"
      ]
    },
    {
      "cell_type": "code",
      "execution_count": 4,
      "metadata": {
        "id": "5jHFdToeDtIF"
      },
      "outputs": [],
      "source": [
        "class IntelDataset(Dataset):\n",
        "    def __init__(self, zip_file='/content/intel-image-classification.zip', size=256, train=True, upload=False):\n",
        "        super(IntelDataset, self).__init__()\n",
        "        \n",
        "        self.train = train\n",
        "        extract_dir = os.path.splitext(zip_file)[0]\n",
        "        if not os.path.exists(extract_dir):\n",
        "            os.makedirs(extract_dir)\n",
        "            self.extract_zip(zip_file, extract_dir)\n",
        "            self.resize(extract_dir, size=size)\n",
        "\n",
        "        postfix = 'train' if train else 'test'\n",
        "            \n",
        "        if train:\n",
        "            # The bird-species dataset mistakenly has a train_data folder inside of train_data\n",
        "            self.dataset_folder = datasets.ImageFolder(os.path.join(extract_dir, 'seg_train', 'seg_train'), transform=transforms.Compose([transforms.ToTensor()]))\n",
        "        else:\n",
        "            self.dataset_folder = datasets.ImageFolder(os.path.join(extract_dir, 'seg_test', 'seg_test'), transform=transforms.Compose([transforms.ToTensor()]))\n",
        "\n",
        "    def extract_zip(self, zip_file, extract_dir):\n",
        "        print(\"Extracting\", zip_file)\n",
        "        with zipfile.ZipFile(zip_file, 'r') as zip_ref:\n",
        "            zip_ref.extractall(extract_dir)\n",
        "\n",
        "    def resize(self, path, size=256):\n",
        "        \"\"\"Resizes all images in place\"\"\"\n",
        "        print(\"Resizing images\")\n",
        "        dirs = os.walk(path)\n",
        "        for root, dirs, files in os.walk(path):\n",
        "            for item in files:\n",
        "                name = os.path.join(root, item)\n",
        "                if os.path.isfile(name):\n",
        "                    im = Image.open(name)\n",
        "                    im = ImageOps.fit(im, (size, size))\n",
        "                    im.save(name[:-3] + 'bmp', 'BMP')\n",
        "                    os.remove(name)\n",
        "\n",
        "    def __getitem__(self, i):\n",
        "        return self.dataset_folder[i]\n",
        "\n",
        "    def __len__(self):\n",
        "        return len(self.dataset_folder)\n",
        "\n",
        "intel_data = IntelDataset()"
      ]
    },
    {
      "cell_type": "markdown",
      "metadata": {
        "id": "2vJVbYcAJAf2"
      },
      "source": [
        "### 1.2 Wrap a pretrained ResNet in an `nn.Module` (30 min)"
      ]
    },
    {
      "cell_type": "markdown",
      "metadata": {
        "id": "gMOzGDND9FD1"
      },
      "source": [
        "#### TODO:"
      ]
    },
    {
      "cell_type": "markdown",
      "metadata": {
        "id": "jLvmDHbl9IyG"
      },
      "source": [
        "- Make a model class that inherits from `nn.Module`\n",
        "- Wrap a pretrained ResNet and swap out the last layer of that network with a layer that maps to the number of classes in your new dataset"
      ]
    },
    {
      "cell_type": "markdown",
      "metadata": {
        "id": "eOtl8z8G9wbr"
      },
      "source": [
        "#### Make your model class"
      ]
    },
    {
      "cell_type": "code",
      "execution_count": null,
      "metadata": {
        "id": "AY-XU4Mwas0j"
      },
      "outputs": [],
      "source": [
        "class ResNetBirds(nn.Module):\n",
        "    def __init__(self, num_classes, start_frozen=False):\n",
        "        super(ResNetBirds, self).__init__()\n",
        "\n",
        "        # Part 1.2\n",
        "        # Load the model - make sure it is pre-trained\n",
        "        \n",
        "\n",
        "        # Part 1.4\n",
        "        if start_frozen:\n",
        "            # Turn off all gradients of the resnet\n",
        "        \n",
        "        # Part 1.2\n",
        "        # Look at the code of torchvision.models.resnet152 to find the name of the attribute to override (the last layer of the resnet)\n",
        "        # Override the last layer of the neural network to map to the correct number of classes. Note that this new layer has requires_grad = True\n",
        "        pass\n",
        "        \n",
        "    def unfreeze(self, n_layers):\n",
        "        # Part 1.4\n",
        "        # Turn on gradients for the last n_layers\n",
        "        pass\n",
        "\n",
        "    def forward(self, x):\n",
        "        # Part 1.2\n",
        "        # Pass x through the resnet\n",
        "        pass"
      ]
    },
    {
      "cell_type": "code",
      "source": [
        "class ResNetIntel(nn.Module):\n",
        "  def __init__(self, num_classes, start_frozen=False):\n",
        "    super(ResNetIntel, self).__init__()\n",
        "\n",
        "    # Load the model\n",
        "    self.model = resnet152(pretrained=True)\n",
        "    #print(self.model)\n",
        "    self.total_params = 0\n",
        "\n",
        "    # Get total number of parameters in model\n",
        "    for i, param in enumerate(self.model.parameters()):\n",
        "        self.total_params += 1\n",
        "\n",
        "    if start_frozen:\n",
        "      for i, param in enumerate(self.model.parameters()):\n",
        "        param.requires_grad = False\n",
        "        \n",
        "\n",
        "    # Get last layer of resent, override it to correct number of classes\n",
        "    self.model.fc =  nn.Linear(in_features=2048, out_features=num_classes, bias=True)\n",
        "    self.model.fc.requires_grad = True\n",
        "\n",
        "  def unfreeze(self, n_layers):\n",
        "    # part 1.4\n",
        "    # turn on gradients ofr last n_layers\n",
        "\n",
        "    # Calculate from where to start unfreezing layers from based on total number\n",
        "    # n_layers * 2 since each layer has 2 parameters, so 2 should be unfrozen each time\n",
        "    num_to_unfreeze = self.total_params - (2 * n_layers)\n",
        "    for index, param in enumerate(self.model.parameters()):\n",
        "      if index <= num_to_unfreeze:\n",
        "        param.requires_grad = True\n",
        "\n",
        "\n",
        "  def forward(self, x):\n",
        "    # Part 1.2\n",
        "    # pass x through resnet\n",
        "    return self.model(x)    "
      ],
      "metadata": {
        "id": "2oM0MlelyJ6P"
      },
      "execution_count": 5,
      "outputs": []
    },
    {
      "cell_type": "markdown",
      "metadata": {
        "id": "2Krh0eYy18R9"
      },
      "source": [
        "### 1.3 Read through and run this training loop"
      ]
    },
    {
      "cell_type": "code",
      "execution_count": 6,
      "metadata": {
        "id": "yOGrrw2gbIPf"
      },
      "outputs": [],
      "source": [
        "def accuracy(y_hat, y_truth):\n",
        "    \"\"\"Gets average accuracy of a vector of predictions\"\"\"\n",
        "    \n",
        "    preds = torch.argmax(y_hat, dim=1)\n",
        "    acc = torch.mean((preds == y_truth).float())\n",
        "    return acc\n",
        "\n",
        "def evaluate(model, objective, val_loader, device):\n",
        "    \"\"\"Gets average accuracy and loss for the validation set\"\"\"\n",
        "\n",
        "    val_losses = []\n",
        "    val_accs = []\n",
        "    # model.eval() so that batchnorm and dropout work in eval mode\n",
        "    model.eval()\n",
        "    # torch.no_grad() to turn off computation graph creation. This allows for temporal\n",
        "    # and spatial complexity improvements, which allows for larger validation batch \n",
        "    # sizes so it’s recommended\n",
        "    with torch.no_grad():\n",
        "        for x, y_truth in val_loader:\n",
        "\n",
        "            x, y_truth = x.to(device), y_truth.to(device)\n",
        "            y_hat = model(x)\n",
        "            val_loss = objective(y_hat, y_truth)\n",
        "            val_acc = accuracy(y_hat, y_truth)\n",
        "\n",
        "            val_losses.append(val_loss.item())\n",
        "            val_accs.append(val_acc)\n",
        "\n",
        "    model.train()\n",
        "\n",
        "    return torch.mean(torch.Tensor(val_losses)), torch.mean(torch.Tensor(val_accs))"
      ]
    },
    {
      "cell_type": "code",
      "execution_count": 7,
      "metadata": {
        "id": "VKESMcKi2E_f"
      },
      "outputs": [],
      "source": [
        "def train(start_frozen=False, model_unfreeze=0):\n",
        "    \"\"\"Fine-tunes a CNN\n",
        "    Args:\n",
        "        start_frozen (bool): whether to start with the network weights frozen.\n",
        "        model_unfreeze (int): the maximum number of network layers to unfreeze\n",
        "    \"\"\"\n",
        "    epochs = 20\n",
        "    # Start with a very low learning rate\n",
        "    lr = .00005\n",
        "    val_every = 3\n",
        "    num_classes = 6\n",
        "    batch_size = 32\n",
        "    device = torch.device('cuda:0')\n",
        "\n",
        "    \n",
        "    if 'full_train' in locals():\n",
        "      del full_train\n",
        "    \n",
        "    if 'train_dataset' in locals():\n",
        "      del train_dataset\n",
        "    \n",
        "    if 'val_dataset' in locals():\n",
        "      del val_dataset\n",
        "    \n",
        "    if 'full_val' in locals():\n",
        "      del full_val\n",
        "\n",
        "    # Reduce dataset to smaller sub sets to fix memory issues with colab\n",
        "    full_train = IntelDataset(upload=True, train=True)\n",
        "    train_dataset, _=  torch.utils.data.random_split(full_train, [300,13734])\n",
        "    full_val = IntelDataset(upload=True, train=False)\n",
        "    val_dataset, _ = torch.utils.data.random_split(full_val, [300,2700])\n",
        "    train_loader = DataLoader(train_dataset,\n",
        "                              shuffle=True,\n",
        "                              num_workers=4,\n",
        "                              batch_size=batch_size)\n",
        "    val_loader = DataLoader(val_dataset,\n",
        "                              shuffle=True,\n",
        "                              num_workers=4,\n",
        "                              batch_size=batch_size)\n",
        "    \n",
        "    # Model\n",
        "    if 'model' in locals():\n",
        "      del model\n",
        "\n",
        "    model = ResNetIntel(num_classes, start_frozen=start_frozen).to(device)\n",
        "    \n",
        "    # Objective\n",
        "    objective = nn.CrossEntropyLoss()\n",
        "    # Optimizer\n",
        "    optimizer = optim.Adam(model.parameters(), lr=lr, weight_decay=1e-1)\n",
        "\n",
        "    # Progress bar\n",
        "    pbar = tqdm(total=len(train_loader) * epochs)\n",
        "\n",
        "    train_losses = []\n",
        "    train_accs = []\n",
        "    val_losses = []\n",
        "    val_accs = []\n",
        "    \n",
        "    cnt = 0\n",
        "    for epoch in range(epochs):\n",
        "\n",
        "        # Implement model unfreezing\n",
        "        if epoch < model_unfreeze:\n",
        "            # Part 1.4\n",
        "            # Unfreeze the last layers, one more each epoch\n",
        "            model.unfreeze(epoch)\n",
        "        \n",
        "        for x, y_truth in train_loader:\n",
        "        \n",
        "            x, y_truth = x.to(device), y_truth.to(device)\n",
        "\n",
        "            optimizer.zero_grad()\n",
        "\n",
        "            y_hat = model(x)\n",
        "            train_loss = objective(y_hat, y_truth)\n",
        "            train_acc = accuracy(y_hat, y_truth)\n",
        "\n",
        "            train_loss.backward()\n",
        "            optimizer.step()\n",
        "\n",
        "            train_accs.append(train_acc.item())\n",
        "            train_losses.append(train_loss.item())\n",
        "\n",
        "            if cnt % val_every == 0:\n",
        "                val_loss, val_acc = evaluate(model, objective, val_loader, device)\n",
        "                val_losses.append(val_loss.item())\n",
        "                val_accs.append(val_acc.item())\n",
        "\n",
        "            pbar.set_description('train loss:{:.4f}, train accuracy:{:.4f}.'.format(train_loss.item(), train_acc))\n",
        "            pbar.update(1)\n",
        "            cnt += 1\n",
        "\n",
        "    pbar.close()\n",
        "    plt.subplot(121)\n",
        "    plt.plot(np.arange(len(train_accs)), train_accs, label='Train Accuracy')\n",
        "    plt.plot(np.arange(len(train_accs), step=val_every), val_accs, label='Val Accuracy')\n",
        "    plt.legend()\n",
        "    plt.subplot(122)\n",
        "    plt.plot(np.arange(len(train_losses)), train_losses, label='Train Loss')\n",
        "    plt.plot(np.arange(len(train_losses), step=val_every), val_losses, label='Val Loss')\n",
        "    plt.legend()\n",
        "    plt.show()  "
      ]
    },
    {
      "cell_type": "code",
      "execution_count": 10,
      "metadata": {
        "id": "fvnxeLotchiH",
        "colab": {
          "base_uri": "https://localhost:8080/",
          "height": 282
        },
        "outputId": "45a889c7-0927-45d3-f152-260ad73e2a92"
      },
      "outputs": [
        {
          "output_type": "stream",
          "name": "stderr",
          "text": [
            "train loss:0.3121, train accuracy:0.9167.: 100%|██████████| 200/200 [03:51<00:00,  1.16s/it]\n"
          ]
        },
        {
          "output_type": "display_data",
          "data": {
            "text/plain": [
              "<Figure size 432x288 with 2 Axes>"
            ],
            "image/png": "[encoded data removed]"
          },
          "metadata": {
            "needs_background": "light"
          }
        }
      ],
      "source": [
        "train(start_frozen=False, model_unfreeze=0)  "
      ]
    },
    {
      "cell_type": "markdown",
      "metadata": {
        "id": "aEDv_-H7BvM0"
      },
      "source": [
        "### 1.4 Implement Unfreezing (1 hr)"
      ]
    },
    {
      "cell_type": "markdown",
      "metadata": {
        "id": "YH5mQBaa-_0b"
      },
      "source": [
        "#### Description"
      ]
    },
    {
      "cell_type": "markdown",
      "metadata": {
        "id": "u_YmE1pe-6LF"
      },
      "source": [
        "Unfreezing is a technique that can be helpful when fine tuning a CNN for a more difficult task with a large amount of data.\n",
        "\n",
        "The idea is that if we allow the network to tweak the earliest layers immediately, before the last FCL has been trained at all, the earliest layers will forget all of the useful features that they learned in order  to provide features that are helpful for the (untrained) FCL.\n",
        "\n",
        "So, rather than training all of the model weights at once, we learn the last fully connected layer, then train that layer together with the second-to-last layer, gradually adding layers until we reach the first layer."
      ]
    },
    {
      "cell_type": "markdown",
      "metadata": {
        "id": "XMKRI77_-8nc"
      },
      "source": [
        "#### TODO:"
      ]
    },
    {
      "cell_type": "markdown",
      "metadata": {
        "id": "KaUc8BTYC1bz"
      },
      "source": [
        "- Modify your model class by setting the `requires_grad` attribute of the ResNet to `False`. (but keep `requires_grad = True` for the last layer).\n",
        "- Add a member function to you model class that allows the user to unfreeze weights in the training loop. See [this github gist](https://gist.github.com/jcjohnson/6e41e8512c17eae5da50aebef3378a4c) for reference.\n",
        "- Modify your training loop to add logic that calls the `unfreeze` function of the model class (unfreeze one layer every epoch).\n",
        "- Call your train function to fine-tune the ResNet on your dataset."
      ]
    },
    {
      "cell_type": "markdown",
      "metadata": {
        "id": "qBT5jgifC7Im"
      },
      "source": [
        "#### Call your train function"
      ]
    },
    {
      "cell_type": "code",
      "execution_count": 8,
      "metadata": {
        "id": "Mg9ySEO_BNDx",
        "colab": {
          "base_uri": "https://localhost:8080/",
          "height": 282
        },
        "outputId": "ceeeb435-c9a9-45fb-c36e-c8673694a9b1"
      },
      "outputs": [
        {
          "output_type": "stream",
          "name": "stderr",
          "text": [
            "train loss:0.0320, train accuracy:1.0000.: 100%|██████████| 200/200 [03:53<00:00,  1.17s/it]\n"
          ]
        },
        {
          "output_type": "display_data",
          "data": {
            "text/plain": [
              "<Figure size 432x288 with 2 Axes>"
            ],
            "image/png": "[encoded data removed]"
          },
          "metadata": {
            "needs_background": "light"
          }
        }
      ],
      "source": [
        "############################\n",
        "# train with unfreezing here (should be a single call to your train function)\n",
        "############################\n",
        "train(start_frozen=True, model_unfreeze=20)  "
      ]
    },
    {
      "cell_type": "markdown",
      "metadata": {
        "id": "ZItH2lX7k4Yt"
      },
      "source": [
        "You may not see any improvement for your classification task, but unfreezing can help convergence for more difficult image classification tasks."
      ]
    },
    {
      "cell_type": "markdown",
      "metadata": {
        "id": "XAXHAUf3EEiE"
      },
      "source": [
        "##2 Fine-tune a language model - (15 min)"
      ]
    },
    {
      "cell_type": "markdown",
      "metadata": {
        "id": "yu9usOxtjFHL"
      },
      "source": [
        "In this section you will use the gpt-2-simple package [here](https://github.com/minimaxir/gpt-2-simple) to fine-tune the GPT-2 language model on a domain of your choice."
      ]
    },
    {
      "cell_type": "markdown",
      "metadata": {
        "id": "_K7F19SPQo6U"
      },
      "source": [
        "### 2.1 Generate text from the pretrained GPT-2 model"
      ]
    },
    {
      "cell_type": "markdown",
      "metadata": {
        "id": "9YLXvK51RnuL"
      },
      "source": [
        "#### Run this code to generate text from a pretrained model"
      ]
    },
    {
      "cell_type": "code",
      "execution_count": 2,
      "metadata": {
        "colab": {
          "base_uri": "https://localhost:8080/"
        },
        "id": "WDNOb_H5IRvH",
        "outputId": "62f704c4-d1e3-4535-fe8e-ee1f8414be85"
      },
      "outputs": [
        {
          "output_type": "stream",
          "name": "stdout",
          "text": [
            "Requirement already satisfied: gpt-2-simple in /usr/local/lib/python3.7/dist-packages (0.8.1)\n",
            "Requirement already satisfied: numpy in /usr/local/lib/python3.7/dist-packages (from gpt-2-simple) (1.21.5)\n",
            "Requirement already satisfied: toposort in /usr/local/lib/python3.7/dist-packages (from gpt-2-simple) (1.7)\n",
            "Requirement already satisfied: regex in /usr/local/lib/python3.7/dist-packages (from gpt-2-simple) (2019.12.20)\n",
            "Requirement already satisfied: requests in /usr/local/lib/python3.7/dist-packages (from gpt-2-simple) (2.23.0)\n",
            "Requirement already satisfied: tqdm in /usr/local/lib/python3.7/dist-packages (from gpt-2-simple) (4.63.0)\n",
            "Requirement already satisfied: tensorflow>=2.5.1 in /usr/local/lib/python3.7/dist-packages (from gpt-2-simple) (2.8.0)\n",
            "Requirement already satisfied: tensorflow-io-gcs-filesystem>=0.23.1 in /usr/local/lib/python3.7/dist-packages (from tensorflow>=2.5.1->gpt-2-simple) (0.24.0)\n",
            "Requirement already satisfied: tensorboard<2.9,>=2.8 in /usr/local/lib/python3.7/dist-packages (from tensorflow>=2.5.1->gpt-2-simple) (2.8.0)\n",
            "Requirement already satisfied: keras<2.9,>=2.8.0rc0 in /usr/local/lib/python3.7/dist-packages (from tensorflow>=2.5.1->gpt-2-simple) (2.8.0)\n",
            "Requirement already satisfied: protobuf>=3.9.2 in /usr/local/lib/python3.7/dist-packages (from tensorflow>=2.5.1->gpt-2-simple) (3.17.3)\n",
            "Requirement already satisfied: tf-estimator-nightly==2.8.0.dev2021122109 in /usr/local/lib/python3.7/dist-packages (from tensorflow>=2.5.1->gpt-2-simple) (2.8.0.dev2021122109)\n",
            "Requirement already satisfied: wrapt>=1.11.0 in /usr/local/lib/python3.7/dist-packages (from tensorflow>=2.5.1->gpt-2-simple) (1.13.3)\n",
            "Requirement already satisfied: flatbuffers>=1.12 in /usr/local/lib/python3.7/dist-packages (from tensorflow>=2.5.1->gpt-2-simple) (2.0)\n",
            "Requirement already satisfied: typing-extensions>=3.6.6 in /usr/local/lib/python3.7/dist-packages (from tensorflow>=2.5.1->gpt-2-simple) (3.10.0.2)\n",
            "Requirement already satisfied: keras-preprocessing>=1.1.1 in /usr/local/lib/python3.7/dist-packages (from tensorflow>=2.5.1->gpt-2-simple) (1.1.2)\n",
            "Requirement already satisfied: grpcio<2.0,>=1.24.3 in /usr/local/lib/python3.7/dist-packages (from tensorflow>=2.5.1->gpt-2-simple) (1.44.0)\n",
            "Requirement already satisfied: opt-einsum>=2.3.2 in /usr/local/lib/python3.7/dist-packages (from tensorflow>=2.5.1->gpt-2-simple) (3.3.0)\n",
            "Requirement already satisfied: setuptools in /usr/local/lib/python3.7/dist-packages (from tensorflow>=2.5.1->gpt-2-simple) (57.4.0)\n",
            "Requirement already satisfied: google-pasta>=0.1.1 in /usr/local/lib/python3.7/dist-packages (from tensorflow>=2.5.1->gpt-2-simple) (0.2.0)\n",
            "Requirement already satisfied: absl-py>=0.4.0 in /usr/local/lib/python3.7/dist-packages (from tensorflow>=2.5.1->gpt-2-simple) (1.0.0)\n",
            "Requirement already satisfied: six>=1.12.0 in /usr/local/lib/python3.7/dist-packages (from tensorflow>=2.5.1->gpt-2-simple) (1.15.0)\n",
            "Requirement already satisfied: libclang>=9.0.1 in /usr/local/lib/python3.7/dist-packages (from tensorflow>=2.5.1->gpt-2-simple) (13.0.0)\n",
            "Requirement already satisfied: astunparse>=1.6.0 in /usr/local/lib/python3.7/dist-packages (from tensorflow>=2.5.1->gpt-2-simple) (1.6.3)\n",
            "Requirement already satisfied: h5py>=2.9.0 in /usr/local/lib/python3.7/dist-packages (from tensorflow>=2.5.1->gpt-2-simple) (3.1.0)\n",
            "Requirement already satisfied: termcolor>=1.1.0 in /usr/local/lib/python3.7/dist-packages (from tensorflow>=2.5.1->gpt-2-simple) (1.1.0)\n",
            "Requirement already satisfied: gast>=0.2.1 in /usr/local/lib/python3.7/dist-packages (from tensorflow>=2.5.1->gpt-2-simple) (0.5.3)\n",
            "Requirement already satisfied: wheel<1.0,>=0.23.0 in /usr/local/lib/python3.7/dist-packages (from astunparse>=1.6.0->tensorflow>=2.5.1->gpt-2-simple) (0.37.1)\n",
            "Requirement already satisfied: cached-property in /usr/local/lib/python3.7/dist-packages (from h5py>=2.9.0->tensorflow>=2.5.1->gpt-2-simple) (1.5.2)\n",
            "Requirement already satisfied: werkzeug>=0.11.15 in /usr/local/lib/python3.7/dist-packages (from tensorboard<2.9,>=2.8->tensorflow>=2.5.1->gpt-2-simple) (1.0.1)\n",
            "Requirement already satisfied: google-auth-oauthlib<0.5,>=0.4.1 in /usr/local/lib/python3.7/dist-packages (from tensorboard<2.9,>=2.8->tensorflow>=2.5.1->gpt-2-simple) (0.4.6)\n",
            "Requirement already satisfied: markdown>=2.6.8 in /usr/local/lib/python3.7/dist-packages (from tensorboard<2.9,>=2.8->tensorflow>=2.5.1->gpt-2-simple) (3.3.6)\n",
            "Requirement already satisfied: google-auth<3,>=1.6.3 in /usr/local/lib/python3.7/dist-packages (from tensorboard<2.9,>=2.8->tensorflow>=2.5.1->gpt-2-simple) (1.35.0)\n",
            "Requirement already satisfied: tensorboard-data-server<0.7.0,>=0.6.0 in /usr/local/lib/python3.7/dist-packages (from tensorboard<2.9,>=2.8->tensorflow>=2.5.1->gpt-2-simple) (0.6.1)\n",
            "Requirement already satisfied: tensorboard-plugin-wit>=1.6.0 in /usr/local/lib/python3.7/dist-packages (from tensorboard<2.9,>=2.8->tensorflow>=2.5.1->gpt-2-simple) (1.8.1)\n",
            "Requirement already satisfied: cachetools<5.0,>=2.0.0 in /usr/local/lib/python3.7/dist-packages (from google-auth<3,>=1.6.3->tensorboard<2.9,>=2.8->tensorflow>=2.5.1->gpt-2-simple) (4.2.4)\n",
            "Requirement already satisfied: pyasn1-modules>=0.2.1 in /usr/local/lib/python3.7/dist-packages (from google-auth<3,>=1.6.3->tensorboard<2.9,>=2.8->tensorflow>=2.5.1->gpt-2-simple) (0.2.8)\n",
            "Requirement already satisfied: rsa<5,>=3.1.4 in /usr/local/lib/python3.7/dist-packages (from google-auth<3,>=1.6.3->tensorboard<2.9,>=2.8->tensorflow>=2.5.1->gpt-2-simple) (4.8)\n",
            "Requirement already satisfied: requests-oauthlib>=0.7.0 in /usr/local/lib/python3.7/dist-packages (from google-auth-oauthlib<0.5,>=0.4.1->tensorboard<2.9,>=2.8->tensorflow>=2.5.1->gpt-2-simple) (1.3.1)\n",
            "Requirement already satisfied: importlib-metadata>=4.4 in /usr/local/lib/python3.7/dist-packages (from markdown>=2.6.8->tensorboard<2.9,>=2.8->tensorflow>=2.5.1->gpt-2-simple) (4.11.2)\n",
            "Requirement already satisfied: zipp>=0.5 in /usr/local/lib/python3.7/dist-packages (from importlib-metadata>=4.4->markdown>=2.6.8->tensorboard<2.9,>=2.8->tensorflow>=2.5.1->gpt-2-simple) (3.7.0)\n",
            "Requirement already satisfied: pyasn1<0.5.0,>=0.4.6 in /usr/local/lib/python3.7/dist-packages (from pyasn1-modules>=0.2.1->google-auth<3,>=1.6.3->tensorboard<2.9,>=2.8->tensorflow>=2.5.1->gpt-2-simple) (0.4.8)\n",
            "Requirement already satisfied: certifi>=2017.4.17 in /usr/local/lib/python3.7/dist-packages (from requests->gpt-2-simple) (2021.10.8)\n",
            "Requirement already satisfied: idna<3,>=2.5 in /usr/local/lib/python3.7/dist-packages (from requests->gpt-2-simple) (2.10)\n",
            "Requirement already satisfied: chardet<4,>=3.0.2 in /usr/local/lib/python3.7/dist-packages (from requests->gpt-2-simple) (3.0.4)\n",
            "Requirement already satisfied: urllib3!=1.25.0,!=1.25.1,<1.26,>=1.21.1 in /usr/local/lib/python3.7/dist-packages (from requests->gpt-2-simple) (1.24.3)\n",
            "Requirement already satisfied: oauthlib>=3.0.0 in /usr/local/lib/python3.7/dist-packages (from requests-oauthlib>=0.7.0->google-auth-oauthlib<0.5,>=0.4.1->tensorboard<2.9,>=2.8->tensorflow>=2.5.1->gpt-2-simple) (3.2.0)\n",
            "TensorFlow 1.x selected.\n",
            "WARNING:tensorflow:\n",
            "The TensorFlow contrib module will not be included in TensorFlow 2.0.\n",
            "For more information, please see:\n",
            "  * https://github.com/tensorflow/community/blob/master/rfcs/20180907-contrib-sunset.md\n",
            "  * https://github.com/tensorflow/addons\n",
            "  * https://github.com/tensorflow/io (for I/O related ops)\n",
            "If you depend on functionality not listed there, please file an issue.\n",
            "\n"
          ]
        }
      ],
      "source": [
        "!pip install gpt-2-simple\n",
        "\n",
        "# the transformers package is built on top of Tensorflow, and the default TF version \n",
        "# for Colab will soon switch to 2.x. We remedy this with the following magic method\n",
        "%tensorflow_version 1.x \n",
        "\n",
        "import gpt_2_simple as gpt2\n",
        "import os\n",
        "import tensorflow as tf"
      ]
    },
    {
      "cell_type": "code",
      "execution_count": 3,
      "metadata": {
        "colab": {
          "base_uri": "https://localhost:8080/"
        },
        "id": "6aRJ-c9uRMOa",
        "outputId": "08632161-aeb1-47b2-a332-c5bca7f65a42"
      },
      "outputs": [
        {
          "output_type": "stream",
          "name": "stdout",
          "text": [
            "Loading pretrained model models/124M/model.ckpt\n",
            "INFO:tensorflow:Restoring parameters from models/124M/model.ckpt\n",
            "A prominent Canadian politician now has his sights set on a new Conservative leadership bid.\n",
            "\n",
            "Conservative leader Justin Trudeau has been in touch with said leadership challenger Olivia Chow, who was elected in a behind-the-scenes push last November.\n",
            "\n",
            "Chow, a former federal cabinet minister who was re-elected in a surprise election, was initially on the fence about joining the party for the first time last month.\n",
            "\n",
            "But she has made it clear she wants to run, with the announcement coming in a letter to Conservative Party Leader Rona Ambrose and Ana Navarro.\n",
            "\n",
            "The letter states that after three years of mounting pressure and opposition, Chow has already reached out to the NDP leader and asked her to run for a leadership role.\n",
            "\n",
            "Chow is raising money this week.\n",
            "\n",
            "Her campaign website says the support is coming from:\n",
            "\n",
            "Bill C-51 (H.R. 2563), the Conservative plan to cut taxes on corporations, businesses and individuals through a tax reform package.\n",
            "\n",
            "On Thursday, the Conservative Party of Canada confirmed that it had reached out to Conservative Party members, according to an official party spokeswoman.<|endoftext|>The head of the Israeli military's intelligence agency, Yaakov Katz, confirmed on Tuesday that weapons were found in a military base in the occupied West Bank on Sunday, the IDF said.\n",
            "\n",
            "The army said that the weaponry came from an area under the control of the Palestinian Authority, which is holding territory annexed by Israel in the 1967 Middle East war.\n",
            "\n",
            "The Israeli military said that it found weapons at a military base near the Gaza Strip, in the occupied West Bank, in the early hours of June 2, and that it is investigating the incident.\n",
            "\n",
            "Keep updated: Sign up to our newsletter Email * Please enter a valid email address Sign up Please wait… Thank you for signing up. We've got more newsletters we think you'll find interesting. Click here Oops. Something went wrong. Please try again later. Try again Thank you, The email address you have provided is already registered. Close\n",
            "\n",
            "\"We have found weapons from a military base in the occupied West Bank. The weapons have been received by the IDF and the security forces in the occupied territories,\" Yaakov Katz, head of the IDF's intelligence agency, told reporters at a news conference in Tel Aviv.\n",
            "\n",
            "Israel plans to resume air strikes in the area on Monday to alert the international community about the site. A military base is located on the east side of the West Bank, and the IDF said Israel is preparing to resume air strikes on Tuesday to alert the international community about the site.<|endoftext|>In the spring of 1951, L.A. public radio host Robert Kloy was attacked by a group of gays and lesbians at a gay bar by three men while they were trying to get a pass at their bar. When Kloy was pushed aside, he was forced to withdraw from the club after being physically abused.\n",
            "\n",
            "Kloy's life was changed forever when his radio station was attacked by the British gay rights group The Diggers. Kloy was one of only three men to survive the attack, and the other two men were his roommates, who were both gay and were members of the underground club. In March of 1951, The Diggers formed a \"Coalition of the Dead,\" which only formed in its final days.\n",
            "\n",
            "The Diggers saw that the boys, who included former students of the local bar, had been lured from the bar to the club by a man seeking the help of a friend. After being attacked by a group of men, the Diggers drove them to a nearby open space. One attack killed two men, and another injured two others. The three men were taken to the hospital, where they were later beaten to death.\n",
            "\n",
            "The group later returned to their hiding place, but they left without invitation for the others, including Kloy.\n",
            "\n",
            "Bob Kloy was convicted of first-degree murder and sentenced to life imprisonment.\n",
            "\n",
            "In 1953, the American Constitution convicted Kloy of a second-degree murder and his sentence was reduced to life imprisonment.\n",
            "\n",
            "In the 1962 election, Kloy won the support of other members of The Diggers. In 1963, a series of articles in the New York Times noted that in his home state of California, a gay man was beating up a young gay man.\n",
            "\n",
            "In 1965, Kloy was elected to the Board of Supervisors, where he served four terms until 1975. The first term lasted until June of 1979, when a second term was called. After that, Kloy became the first openly gay and lesbian district attorney in California.\n",
            "\n",
            "In 1994, Kloy became the first openly gay and lesbian district attorney in the state of California, and served five terms until 2001.\n",
            "\n",
            "In 1998, the previously-unnamed \"Dirty Dozen\" became the first openly gay man to hold district attorney's office in Los Angeles.\n",
            "\n",
            "In 1998, Kloy led the city's gay and lesbian civil rights efforts in\n"
          ]
        }
      ],
      "source": [
        "# This line is necessary to be able to run a new tf session\n",
        "tf.reset_default_graph()\n",
        "# The medium-sized model. IF you run out of memory, try \"124M\" instead\n",
        "model_name = \"124M\"\n",
        "if not os.path.isdir(os.path.join(\"models\", model_name)):\n",
        "\tprint(f\"Downloading {model_name} model...\")\n",
        "\tgpt2.download_gpt2(model_name=model_name)   # model is saved into current directory under /models/124M/\n",
        "\n",
        "sess = gpt2.start_tf_sess()\n",
        "gpt2.load_gpt2(sess, model_name=model_name)\n",
        "gpt2.generate(sess, model_name=model_name)"
      ]
    },
    {
      "cell_type": "markdown",
      "metadata": {
        "id": "AHmjSVf_FNHv"
      },
      "source": [
        "### 2.2 Download a text dataset"
      ]
    },
    {
      "cell_type": "markdown",
      "metadata": {
        "id": "gPXJkNubFyY6"
      },
      "source": [
        "#### TODO:"
      ]
    },
    {
      "cell_type": "markdown",
      "metadata": {
        "id": "KWkuRjbcFzwb"
      },
      "source": [
        "- Use the provided functions to download your own text dataset\n",
        "- [Project Gutenberg](https://www.gutenberg.org/) is a nice starting point for raw text corpora"
      ]
    },
    {
      "cell_type": "markdown",
      "metadata": {
        "id": "iD45m3IwF9hh"
      },
      "source": [
        "#### Download Dataset"
      ]
    },
    {
      "cell_type": "code",
      "execution_count": 4,
      "metadata": {
        "colab": {
          "base_uri": "https://localhost:8080/"
        },
        "id": "ESltl2QM5nxw",
        "outputId": "34e2bf8f-02a0-456e-e6f8-eaf286ae886a"
      },
      "outputs": [
        {
          "output_type": "stream",
          "name": "stdout",
          "text": [
            "../data/text\n",
            "mv: cannot stat '/data/text/1661-0.txt': No such file or directory\n",
            "sherlock.txt\n"
          ]
        }
      ],
      "source": [
        "import zipfile\n",
        "import os\n",
        "from torchvision import datasets\n",
        "\n",
        "def extract_zip(zip_path, remove_finished=True):\n",
        "    print('Extracting {}'.format(zip_path))\n",
        "    with zipfile.ZipFile(zip_path, 'r') as zip_ref:\n",
        "        zip_ref.extractall(zip_path.replace('.zip', ''))\n",
        "    if remove_finished:\n",
        "        os.remove(zip_path)\n",
        "\n",
        "def download_dataset(url, root='../data'):\n",
        "    if not os.path.exists(os.path.join(root, 'text')):\n",
        "        os.makedirs(os.path.join(root))\n",
        "        datasets.utils.download_url(url, root, 'text.zip', None)\n",
        "        extract_zip(os.path.join(root, 'text.zip'))\n",
        "    return os.path.join(root, 'text')\n",
        "\n",
        "##########################################\n",
        "# Set the url for your dataset here,\n",
        "# move the dataset to the desired location\n",
        "##########################################\n",
        "url =  'https://www.gutenberg.org/files/1661/1661-0.zip'\n",
        "download = download_dataset(url)\n",
        "print(download)\n",
        "!mv /data/text/1661-0.txt /data/text/sherlock.txt\n",
        "!ls ../data/text"
      ]
    },
    {
      "cell_type": "markdown",
      "metadata": {
        "id": "usQE-rSPZq_X"
      },
      "source": [
        "### 2.3 Fine-tune GPT-2 on your own dataset"
      ]
    },
    {
      "cell_type": "markdown",
      "metadata": {
        "id": "IoA0tZZCa_1k"
      },
      "source": [
        "#### TODO:"
      ]
    },
    {
      "cell_type": "markdown",
      "metadata": {
        "id": "OoU6ML1mbgjP"
      },
      "source": [
        "- Swap out the dataset parameter with the path to your dataset"
      ]
    },
    {
      "cell_type": "markdown",
      "metadata": {
        "id": "8pa5vFJ5EUjv"
      },
      "source": [
        "#### Train on your dataset"
      ]
    },
    {
      "cell_type": "code",
      "execution_count": 5,
      "metadata": {
        "colab": {
          "base_uri": "https://localhost:8080/"
        },
        "id": "WuQ5snl4LuS0",
        "outputId": "a33fff30-2ef1-448e-ae31-6d82d24bc9aa"
      },
      "outputs": [
        {
          "output_type": "stream",
          "name": "stdout",
          "text": [
            "WARNING:tensorflow:From /usr/local/lib/python3.7/dist-packages/gpt_2_simple/src/sample.py:17: where (from tensorflow.python.ops.array_ops) is deprecated and will be removed in a future version.\n",
            "Instructions for updating:\n",
            "Use tf.where in 2.0, which has the same broadcast rule as np.where\n",
            "Loading checkpoint models/124M/model.ckpt\n",
            "INFO:tensorflow:Restoring parameters from models/124M/model.ckpt\n",
            "Loading dataset...\n"
          ]
        },
        {
          "output_type": "stream",
          "name": "stderr",
          "text": [
            "100%|██████████| 1/1 [00:00<00:00,  1.06it/s]\n"
          ]
        },
        {
          "output_type": "stream",
          "name": "stdout",
          "text": [
            "dataset has 159590 tokens\n",
            "Training...\n",
            "[1 | 8.30] loss=3.53 avg=3.53\n",
            "[2 | 9.55] loss=2.82 avg=3.17\n",
            "[3 | 10.79] loss=3.11 avg=3.15\n",
            "[4 | 12.02] loss=2.68 avg=3.03\n",
            "[5 | 13.26] loss=3.05 avg=3.04\n",
            "[6 | 14.50] loss=3.01 avg=3.03\n",
            "[7 | 15.74] loss=3.18 avg=3.05\n",
            "[8 | 16.98] loss=2.65 avg=3.00\n",
            "[9 | 18.21] loss=2.55 avg=2.95\n",
            "[10 | 19.45] loss=2.97 avg=2.95\n",
            "[11 | 20.69] loss=3.01 avg=2.96\n",
            "[12 | 21.93] loss=2.51 avg=2.92\n",
            "[13 | 23.17] loss=2.93 avg=2.92\n",
            "[14 | 24.45] loss=2.87 avg=2.91\n",
            "[15 | 25.70] loss=3.00 avg=2.92\n",
            "[16 | 26.94] loss=2.83 avg=2.91\n",
            "[17 | 28.17] loss=3.00 avg=2.92\n",
            "[18 | 29.41] loss=2.94 avg=2.92\n",
            "[19 | 30.65] loss=2.83 avg=2.92\n",
            "[20 | 31.89] loss=2.77 avg=2.91\n",
            "[21 | 33.13] loss=2.90 avg=2.91\n",
            "[22 | 34.37] loss=2.66 avg=2.89\n",
            "[23 | 35.60] loss=2.96 avg=2.90\n",
            "[24 | 36.84] loss=2.92 avg=2.90\n",
            "[25 | 38.08] loss=2.68 avg=2.89\n",
            "[26 | 39.32] loss=3.03 avg=2.89\n",
            "[27 | 40.55] loss=2.95 avg=2.90\n",
            "[28 | 41.79] loss=2.91 avg=2.90\n",
            "[29 | 43.03] loss=2.43 avg=2.88\n",
            "[30 | 44.27] loss=2.73 avg=2.87\n",
            "[31 | 45.50] loss=2.68 avg=2.87\n",
            "[32 | 46.74] loss=2.77 avg=2.86\n",
            "[33 | 47.98] loss=2.55 avg=2.85\n",
            "[34 | 49.22] loss=2.26 avg=2.83\n",
            "[35 | 50.46] loss=2.60 avg=2.82\n",
            "[36 | 51.70] loss=2.75 avg=2.82\n",
            "[37 | 52.94] loss=2.47 avg=2.81\n",
            "[38 | 54.18] loss=2.68 avg=2.81\n",
            "[39 | 55.41] loss=2.86 avg=2.81\n",
            "[40 | 56.65] loss=2.78 avg=2.81\n",
            "[41 | 57.89] loss=2.82 avg=2.81\n",
            "[42 | 59.13] loss=2.62 avg=2.80\n",
            "[43 | 60.36] loss=2.75 avg=2.80\n",
            "[44 | 61.60] loss=2.66 avg=2.80\n",
            "[45 | 62.84] loss=2.63 avg=2.79\n",
            "[46 | 64.08] loss=2.53 avg=2.78\n",
            "[47 | 65.32] loss=2.81 avg=2.79\n",
            "[48 | 66.56] loss=2.67 avg=2.78\n",
            "[49 | 67.80] loss=2.64 avg=2.78\n",
            "[50 | 69.04] loss=2.77 avg=2.78\n",
            "[51 | 70.28] loss=2.68 avg=2.78\n",
            "[52 | 71.52] loss=2.70 avg=2.77\n",
            "[53 | 72.76] loss=2.52 avg=2.77\n",
            "[54 | 74.00] loss=2.67 avg=2.77\n",
            "[55 | 75.23] loss=2.53 avg=2.76\n",
            "[56 | 76.47] loss=2.16 avg=2.75\n",
            "[57 | 77.71] loss=2.77 avg=2.75\n",
            "[58 | 78.95] loss=2.72 avg=2.75\n",
            "[59 | 80.18] loss=2.51 avg=2.74\n",
            "[60 | 81.42] loss=2.62 avg=2.74\n",
            "[61 | 82.66] loss=2.26 avg=2.73\n",
            "[62 | 83.90] loss=2.39 avg=2.72\n",
            "[63 | 85.13] loss=2.55 avg=2.72\n",
            "[64 | 86.37] loss=2.33 avg=2.71\n",
            "[65 | 87.61] loss=2.52 avg=2.70\n",
            "[66 | 88.85] loss=2.62 avg=2.70\n",
            "[67 | 90.09] loss=2.35 avg=2.70\n",
            "[68 | 91.32] loss=2.15 avg=2.68\n",
            "[69 | 92.57] loss=2.06 avg=2.67\n",
            "[70 | 93.81] loss=2.50 avg=2.67\n",
            "[71 | 95.05] loss=2.24 avg=2.66\n",
            "[72 | 96.28] loss=2.61 avg=2.66\n",
            "[73 | 97.52] loss=2.57 avg=2.66\n",
            "[74 | 98.76] loss=2.45 avg=2.65\n",
            "[75 | 100.00] loss=2.53 avg=2.65\n",
            "[76 | 101.24] loss=1.95 avg=2.64\n",
            "[77 | 102.47] loss=2.34 avg=2.63\n",
            "[78 | 103.71] loss=2.31 avg=2.63\n",
            "[79 | 104.95] loss=2.45 avg=2.62\n",
            "[80 | 106.19] loss=2.34 avg=2.62\n",
            "[81 | 107.42] loss=2.57 avg=2.62\n",
            "[82 | 108.66] loss=2.39 avg=2.61\n",
            "[83 | 109.90] loss=1.75 avg=2.60\n",
            "[84 | 111.14] loss=2.41 avg=2.59\n",
            "[85 | 112.37] loss=2.52 avg=2.59\n",
            "[86 | 113.61] loss=2.02 avg=2.58\n",
            "[87 | 114.85] loss=2.52 avg=2.58\n",
            "[88 | 116.09] loss=2.37 avg=2.58\n",
            "[89 | 117.32] loss=1.93 avg=2.57\n",
            "[90 | 118.56] loss=2.38 avg=2.56\n",
            "[91 | 119.80] loss=2.47 avg=2.56\n",
            "[92 | 121.04] loss=2.32 avg=2.56\n",
            "[93 | 122.27] loss=2.35 avg=2.56\n",
            "[94 | 123.51] loss=2.01 avg=2.55\n",
            "[95 | 124.75] loss=1.92 avg=2.54\n",
            "[96 | 125.99] loss=2.33 avg=2.53\n",
            "[97 | 127.22] loss=2.47 avg=2.53\n",
            "[98 | 128.46] loss=2.31 avg=2.53\n",
            "[99 | 129.70] loss=2.31 avg=2.53\n",
            "[100 | 130.94] loss=2.41 avg=2.52\n",
            "======== SAMPLE 1 ========\n",
            "\n",
            "It is so very very hot, very angry, I could not sleep. There were no signs of anyone, and none of my neighbours having seen. I thought that maybe a friend of my had been sent there, but the little light of the fire could clearly have pierced through the white veil that covered me.”\n",
            "\n",
            "“Then where is that fellow gone?”\n",
            "\n",
            "“And what was that other woman called?”\n",
            "\n",
            "“The Duchess of Malfoys,” he ejaculated.\n",
            "\n",
            "“Why, what a woman! He has a face like a man’s. And he has a head like that of a man’s.”\n",
            "\n",
            "“And what do you think he did with it?”\n",
            "\n",
            "“It is easy to remember,” he said, leaning in. He had a light twinkling on his pale hand. “As far as I can see, he is indeed,” said he.\n",
            "\n",
            "Holmes shrugged his shoulders. “Well, how did you put him then?”\n",
            "\n",
            "“I used to talk to him about it to-night, when there was a rush of water, at night he would run for the bridge and I told him that the gale was coming. I then asked him if there was any danger.\n",
            "He responded, “I don’t know, but I can’t imagine that it is not a very safe place; and it is so hot that you could throw yourself down over the side-rail, and be sunk in a pool of water. At ten o’clock in the morning, however, I made your acquaintance in the garden, and I went into the chamber. On opening the door, however, there were three blackish stains on the side-plates, an overhang of copper wire, a dirty little protrusion, which, I have reason to think, may have been a window sill, and an unfinished socket at the right bank through which a light might be allowed in the chamber. I knew nothing of his disappearance for some time. Then, when you had solved the mystery, I went upstairs and examined the room where you had brought the jewellery. You will find that none of it was missing. A small dressing-room, on the first floor, has a curtain round the window which a man who has got into it could not get out. One of the window sill has been pierced, and another has been smashed in, so that you have lost your dressing-room and your ceiling.”\n",
            "\n",
            "“What does it say?” cried Holmes as I approached the window.\n",
            "\n",
            "There he remained until I saw him in the corner, and my friend and I were all very interested. Then Holmes pushed past me and out upon the lawn where several large trees were growing, so that I was obliged to walk up them to see for myself. I took a step forward, and seeing that he stood in the centre beside me and not moving, I asked where he was gone, and he appeared to be sitting up there. I asked if he had dropped off the jewellery, and he answered, “nothing remarkable to speak of.”\n",
            "\n",
            "“But you have dropped it on the lawn?” I asked.\n",
            "\n",
            "“No, no. Nothing extraordinary to speak of.”\n",
            "\n",
            "“What is it, then?”\n",
            "\n",
            "“Nothing extraordinary to speak of.”\n",
            "\n",
            "“How did you get the jewellery?”\n",
            "\n",
            "“I had not a word to draw before the light dimmed. Then the door was knocked and someone pushed open a little window to see what was there behind it, and the man who had carried it opened it. There was a woman sitting upon the lawn, and there is no sign of an inspector. Then I looked out across the lawn, and seeing that none of the trees were growing, I went up to see what was to be the property of that lady. There she sat, curled up in a loose chair, and there she sat, with her lips pressed together as if she were thinking, staring upon the ceiling. He had a huge brown hat with a collar on it which showed his face, and then he had a large cap which extended up to his head, like one of the heads of a cat. Holmes pushed the hat up, looked down, and then said, “I think that you know very well what I have to say to you. You will take it from me and I will ask that the landlord take it from you. I hope that your address is in the City. Now, since I am just a couple of feet from the front door, I think that it is safe to ask that you remain here and to let me know your address, so that I may ask the landlord to let me know when he hears what I have to say.\n",
            "\n",
            "[101 | 140.96] loss=2.12 avg=2.52\n",
            "[102 | 142.20] loss=2.17 avg=2.51\n",
            "[103 | 143.43] loss=2.18 avg=2.51\n",
            "[104 | 144.67] loss=2.30 avg=2.50\n",
            "[105 | 145.91] loss=2.47 avg=2.50\n",
            "[106 | 147.15] loss=2.12 avg=2.50\n",
            "[107 | 148.39] loss=2.37 avg=2.50\n",
            "[108 | 149.62] loss=2.50 avg=2.50\n",
            "[109 | 150.86] loss=2.29 avg=2.49\n",
            "[110 | 152.10] loss=2.29 avg=2.49\n",
            "[111 | 153.34] loss=2.26 avg=2.49\n",
            "[112 | 154.58] loss=2.31 avg=2.48\n",
            "[113 | 155.82] loss=2.08 avg=2.48\n",
            "[114 | 157.05] loss=2.31 avg=2.47\n",
            "[115 | 158.29] loss=2.12 avg=2.47\n",
            "[116 | 159.53] loss=1.90 avg=2.46\n",
            "[117 | 160.77] loss=2.00 avg=2.45\n",
            "[118 | 162.01] loss=2.33 avg=2.45\n",
            "[119 | 163.25] loss=2.54 avg=2.45\n",
            "[120 | 164.49] loss=2.14 avg=2.45\n",
            "[121 | 165.72] loss=2.18 avg=2.45\n",
            "[122 | 166.96] loss=2.12 avg=2.44\n",
            "[123 | 168.20] loss=2.25 avg=2.44\n",
            "[124 | 169.44] loss=2.04 avg=2.43\n",
            "[125 | 170.68] loss=2.18 avg=2.43\n",
            "[126 | 171.92] loss=2.19 avg=2.43\n",
            "[127 | 173.15] loss=2.23 avg=2.42\n",
            "[128 | 174.40] loss=2.22 avg=2.42\n",
            "[129 | 175.64] loss=2.27 avg=2.42\n",
            "[130 | 176.87] loss=2.11 avg=2.41\n",
            "[131 | 178.11] loss=1.98 avg=2.41\n",
            "[132 | 179.35] loss=1.83 avg=2.40\n",
            "[133 | 180.59] loss=2.13 avg=2.40\n",
            "[134 | 181.82] loss=2.28 avg=2.40\n",
            "[135 | 183.06] loss=2.13 avg=2.39\n",
            "[136 | 184.30] loss=2.12 avg=2.39\n",
            "[137 | 185.54] loss=2.40 avg=2.39\n",
            "[138 | 186.78] loss=2.27 avg=2.39\n",
            "[139 | 188.02] loss=1.89 avg=2.38\n",
            "[140 | 189.26] loss=2.13 avg=2.38\n",
            "[141 | 190.49] loss=1.95 avg=2.37\n",
            "[142 | 191.73] loss=2.18 avg=2.37\n",
            "[143 | 192.97] loss=1.64 avg=2.36\n",
            "[144 | 194.21] loss=2.30 avg=2.36\n",
            "[145 | 195.45] loss=2.22 avg=2.36\n",
            "[146 | 196.68] loss=2.03 avg=2.35\n",
            "[147 | 197.92] loss=2.08 avg=2.35\n",
            "[148 | 199.16] loss=1.91 avg=2.34\n",
            "[149 | 200.39] loss=2.02 avg=2.34\n",
            "[150 | 201.63] loss=2.02 avg=2.33\n",
            "[151 | 202.87] loss=1.93 avg=2.33\n",
            "[152 | 204.10] loss=1.77 avg=2.32\n",
            "[153 | 205.34] loss=1.98 avg=2.32\n",
            "[154 | 206.58] loss=2.01 avg=2.31\n",
            "[155 | 207.82] loss=1.88 avg=2.31\n",
            "[156 | 209.06] loss=2.22 avg=2.31\n",
            "[157 | 210.30] loss=1.89 avg=2.30\n",
            "[158 | 211.53] loss=1.98 avg=2.30\n",
            "[159 | 212.77] loss=2.02 avg=2.29\n",
            "[160 | 214.01] loss=2.11 avg=2.29\n",
            "[161 | 215.25] loss=1.94 avg=2.29\n",
            "[162 | 216.49] loss=1.97 avg=2.28\n",
            "[163 | 217.72] loss=1.86 avg=2.28\n",
            "[164 | 218.96] loss=1.67 avg=2.27\n",
            "[165 | 220.20] loss=1.95 avg=2.27\n",
            "[166 | 221.44] loss=1.85 avg=2.26\n",
            "[167 | 222.68] loss=1.90 avg=2.26\n",
            "[168 | 223.92] loss=1.96 avg=2.25\n",
            "[169 | 225.16] loss=2.15 avg=2.25\n",
            "[170 | 226.40] loss=1.77 avg=2.25\n",
            "[171 | 227.63] loss=2.25 avg=2.25\n",
            "[172 | 228.87] loss=1.43 avg=2.24\n",
            "[173 | 230.11] loss=1.78 avg=2.23\n",
            "[174 | 231.34] loss=1.75 avg=2.23\n",
            "[175 | 232.58] loss=1.61 avg=2.22\n",
            "[176 | 233.82] loss=1.72 avg=2.21\n",
            "[177 | 235.06] loss=1.60 avg=2.20\n",
            "[178 | 236.29] loss=1.53 avg=2.20\n",
            "[179 | 237.53] loss=1.17 avg=2.18\n",
            "[180 | 238.77] loss=1.91 avg=2.18\n",
            "[181 | 240.00] loss=1.59 avg=2.17\n",
            "[182 | 241.24] loss=1.49 avg=2.17\n",
            "[183 | 242.48] loss=1.72 avg=2.16\n",
            "[184 | 243.72] loss=1.65 avg=2.15\n",
            "[185 | 244.95] loss=1.84 avg=2.15\n",
            "[186 | 246.19] loss=2.21 avg=2.15\n",
            "[187 | 247.43] loss=1.46 avg=2.14\n",
            "[188 | 248.67] loss=2.03 avg=2.14\n",
            "[189 | 249.91] loss=1.89 avg=2.14\n",
            "[190 | 251.15] loss=1.69 avg=2.13\n",
            "[191 | 252.38] loss=1.73 avg=2.13\n",
            "[192 | 253.62] loss=1.88 avg=2.13\n",
            "[193 | 254.86] loss=1.60 avg=2.12\n",
            "[194 | 256.10] loss=2.01 avg=2.12\n",
            "[195 | 257.33] loss=2.18 avg=2.12\n",
            "[196 | 258.57] loss=2.00 avg=2.12\n",
            "[197 | 259.81] loss=1.79 avg=2.11\n",
            "[198 | 261.05] loss=1.52 avg=2.11\n",
            "[199 | 262.29] loss=1.68 avg=2.10\n",
            "[200 | 263.52] loss=1.78 avg=2.10\n",
            "======== SAMPLE 1 ========\n",
            " with the aid of this chair.”\n",
            "\n",
            "“Now!” he said as he held up his handkerchief; “I won’t\n",
            "sleep with you. What is it, then?”\n",
            "\n",
            "“Oh,” I ejaculated, looking down and throwing up my hands. “Very\n",
            "satisfactory. I hope that I shall be able to show that you are\n",
            "not too sorry to anyone for coming so near so dear.”\n",
            "\n",
            "“You have done very good,” said the gentleman, “I wish to see you again soon\n",
            "with my friend in a state of gratitude.”\n",
            "\n",
            "“Do you think that I am ever to see any more of you in such a state of\n",
            "humiliation?”\n",
            "\n",
            "“No.”\n",
            "\n",
            "“Why, the doctor has already determined that there is no\n",
            "protection.”\n",
            "\n",
            "“Then you fear that I will soon be without you.”\n",
            "\n",
            "“No, you fear that I am compelled to send an instant shock upon you,\n",
            "and you would think me much obliged for what I have done.”\n",
            "\n",
            "“I should rather have my revenge.”\n",
            "\n",
            "“But, indeed, for peace. My friends in London, I should be happy to\n",
            "use the rooms, and then leave you. Now hear, Watson, you have seen very\n",
            "much of the City, and yet I confess that it is hard to describe.”\n",
            "\n",
            "“We have a place of our own, and a pretty and free town to call our\n",
            "peers in. But within our own walls it’s quite a different story.”\n",
            "\n",
            "“It is certainly true that it is easier to get away than to come back now\n",
            "with your faults and all. But, what has happened to me? Has my stepfather been\n",
            "convicted of any crime?”\n",
            "\n",
            "“No, he went to his room and confided all the things to me to\n",
            "his wife, whom he said he loved so much and whose business it\n",
            "was to get rid of her debts. It seems very strange to me to know\n",
            "that all this has happened at the same time. All the while he\n",
            "was in prison! She is the woman whom I should have loved—the wife\n",
            "who loved me, and the wife whom I should have loved with all my heart\n",
            "and soul. But her death, the very day after our visit to\n",
            "Harrow, gave her away forever to this cruel and uncaring society. She\n",
            "has gone on to spend her days in Scotland, and the whole of this\n",
            "year in England, where she keeps a small home and is sure to be here\n",
            "when she comes back. I know of no other woman, not even the very little\n",
            "Lloyds, in which she lives, besides her wife, who have had so horrible\n",
            "anative years. I wish her in every way well—well enough—well into her\n",
            "happily-ever—”\n",
            "\n",
            "“It is to be hoped, Mr. Holmes,” continued our client, “that she\n",
            "may have some sympathy for me, if she thinks that there can be any\n",
            "evil in my conduct. I know, indeed, that you are not the least bit convinced\n",
            "that I have ever been averse to anyone else. When the devil incarnate\n",
            "tells us how he loves us, why should anyone else tell us how he\n",
            "desires us to?”\n",
            "\n",
            "“Why, I should much prefer the matter over a clergyman, though I am\n",
            "sure that he would not see to it unless it were otherwise.”\n",
            "\n",
            "“It is for that reason that my friend St. Simon is so interested in me,\n",
            "for we have no one to associate ourselves with save our own little\n",
            "godfather, Elias. We know that Elias has been watching our little troubles\n",
            "all these years, and that we are all about the same in hope. We\n",
            "know that when it comes to our little matter of Elias—when our little\n",
            "god Elias returns to seek revenge upon our people—that we must now\n",
            "step forward once more to the knowledge that our dear little\n",
            "brother Elias is in prison. We must be prompt, if we are to\n",
            "do anything good. I must go and set off again for Scotland now\n",
            "as soon as I have the strength to do so. It would be so to-night\n",
            "that I should rather be alive now, however lonely and miserable I may be,\n",
            "but I do not think it necessary to go so far as I want now, for you\n",
            "will do what you can to make it complete.”\n",
            "\n",
            "“You must, however, go for peace, Mr. Holmes, and do all you can\n",
            "to make it clear to me as to who is\n",
            "\n",
            "[201 | 272.32] loss=1.54 avg=2.09\n",
            "[202 | 273.56] loss=2.05 avg=2.09\n",
            "[203 | 274.80] loss=1.44 avg=2.08\n",
            "[204 | 276.03] loss=1.56 avg=2.08\n",
            "[205 | 277.27] loss=1.57 avg=2.07\n",
            "[206 | 278.51] loss=1.90 avg=2.07\n",
            "[207 | 279.75] loss=1.56 avg=2.06\n",
            "[208 | 280.99] loss=1.80 avg=2.06\n",
            "[209 | 282.23] loss=1.79 avg=2.06\n",
            "[210 | 283.46] loss=1.36 avg=2.05\n",
            "[211 | 284.70] loss=1.76 avg=2.05\n",
            "[212 | 285.94] loss=1.60 avg=2.04\n",
            "[213 | 287.18] loss=1.17 avg=2.03\n",
            "[214 | 288.42] loss=1.32 avg=2.02\n",
            "[215 | 289.66] loss=1.50 avg=2.02\n",
            "[216 | 290.90] loss=1.77 avg=2.02\n",
            "[217 | 292.14] loss=1.72 avg=2.01\n",
            "[218 | 293.38] loss=1.69 avg=2.01\n",
            "[219 | 294.62] loss=1.19 avg=2.00\n",
            "[220 | 295.86] loss=1.65 avg=2.00\n",
            "[221 | 297.10] loss=1.57 avg=1.99\n",
            "[222 | 298.34] loss=1.55 avg=1.99\n",
            "[223 | 299.58] loss=1.48 avg=1.98\n",
            "[224 | 300.82] loss=1.33 avg=1.97\n",
            "[225 | 302.05] loss=1.10 avg=1.96\n",
            "[226 | 303.29] loss=1.28 avg=1.96\n",
            "[227 | 304.53] loss=1.07 avg=1.95\n",
            "[228 | 305.77] loss=1.24 avg=1.94\n",
            "[229 | 307.01] loss=1.59 avg=1.93\n",
            "[230 | 308.25] loss=1.47 avg=1.93\n",
            "[231 | 309.49] loss=1.49 avg=1.92\n",
            "[232 | 310.72] loss=1.49 avg=1.92\n",
            "[233 | 311.96] loss=1.22 avg=1.91\n",
            "[234 | 313.20] loss=1.21 avg=1.90\n",
            "[235 | 314.44] loss=1.45 avg=1.90\n",
            "[236 | 315.68] loss=1.06 avg=1.89\n",
            "[237 | 316.91] loss=1.39 avg=1.88\n",
            "[238 | 318.15] loss=1.32 avg=1.88\n",
            "[239 | 319.39] loss=1.44 avg=1.87\n",
            "[240 | 320.63] loss=1.21 avg=1.87\n",
            "[241 | 321.86] loss=1.58 avg=1.86\n",
            "[242 | 323.10] loss=1.37 avg=1.86\n",
            "[243 | 324.34] loss=1.13 avg=1.85\n",
            "[244 | 325.58] loss=1.42 avg=1.84\n",
            "[245 | 326.82] loss=1.56 avg=1.84\n",
            "[246 | 328.05] loss=1.27 avg=1.84\n",
            "[247 | 329.29] loss=1.24 avg=1.83\n",
            "[248 | 330.53] loss=1.20 avg=1.82\n",
            "[249 | 331.77] loss=1.78 avg=1.82\n",
            "[250 | 333.01] loss=1.44 avg=1.82\n",
            "[251 | 334.25] loss=1.24 avg=1.81\n",
            "[252 | 335.48] loss=1.07 avg=1.80\n",
            "[253 | 336.72] loss=1.33 avg=1.80\n",
            "[254 | 337.96] loss=1.18 avg=1.79\n",
            "[255 | 339.20] loss=1.28 avg=1.79\n",
            "[256 | 340.43] loss=1.05 avg=1.78\n",
            "[257 | 341.67] loss=0.91 avg=1.77\n",
            "[258 | 342.91] loss=1.26 avg=1.76\n",
            "[259 | 344.15] loss=0.92 avg=1.75\n",
            "[260 | 345.39] loss=1.15 avg=1.75\n",
            "[261 | 346.63] loss=1.45 avg=1.74\n",
            "[262 | 347.86] loss=0.94 avg=1.74\n",
            "[263 | 349.10] loss=1.32 avg=1.73\n",
            "[264 | 350.34] loss=1.07 avg=1.72\n",
            "[265 | 351.58] loss=1.15 avg=1.72\n",
            "[266 | 352.82] loss=0.71 avg=1.71\n",
            "[267 | 354.06] loss=0.98 avg=1.70\n",
            "[268 | 355.30] loss=1.11 avg=1.69\n",
            "[269 | 356.53] loss=1.08 avg=1.69\n",
            "[270 | 357.77] loss=1.05 avg=1.68\n",
            "[271 | 359.01] loss=0.90 avg=1.67\n",
            "[272 | 360.25] loss=0.94 avg=1.66\n",
            "[273 | 361.48] loss=0.96 avg=1.66\n",
            "[274 | 362.73] loss=0.80 avg=1.65\n",
            "[275 | 363.96] loss=0.93 avg=1.64\n",
            "[276 | 365.20] loss=1.21 avg=1.63\n",
            "[277 | 366.44] loss=0.95 avg=1.63\n",
            "[278 | 367.68] loss=1.13 avg=1.62\n",
            "[279 | 368.92] loss=1.07 avg=1.62\n",
            "[280 | 370.16] loss=1.05 avg=1.61\n",
            "[281 | 371.39] loss=0.92 avg=1.60\n",
            "[282 | 372.63] loss=1.11 avg=1.60\n",
            "[283 | 373.87] loss=1.17 avg=1.59\n",
            "[284 | 375.11] loss=1.21 avg=1.59\n",
            "[285 | 376.35] loss=0.84 avg=1.58\n",
            "[286 | 377.58] loss=1.32 avg=1.58\n",
            "[287 | 378.82] loss=0.87 avg=1.57\n",
            "[288 | 380.06] loss=0.81 avg=1.56\n",
            "[289 | 381.30] loss=1.00 avg=1.56\n",
            "[290 | 382.54] loss=1.28 avg=1.55\n",
            "[291 | 383.78] loss=1.05 avg=1.55\n",
            "[292 | 385.02] loss=0.59 avg=1.54\n",
            "[293 | 386.25] loss=0.95 avg=1.53\n",
            "[294 | 387.49] loss=0.90 avg=1.52\n",
            "[295 | 388.73] loss=0.71 avg=1.52\n",
            "[296 | 389.97] loss=1.04 avg=1.51\n",
            "[297 | 391.21] loss=1.14 avg=1.51\n",
            "[298 | 392.45] loss=0.84 avg=1.50\n",
            "[299 | 393.68] loss=0.80 avg=1.49\n",
            "[300 | 394.92] loss=0.83 avg=1.49\n",
            "======== SAMPLE 1 ========\n",
            " to, you know?’\n",
            "“I want you both to come to Melbourne this afternoon. It is a cold night,\n",
            "and for a time not cheerful. Oh, help me, you will be hard pressed to get\n",
            "there by the time we get back. There is plenty to be had there, if\n",
            "I am not missed. Be well by the Ballarat Light Rail Station.”\n",
            "\n",
            "And that was the end of the correspondence between Holmes and Lord St.\n",
            "Simon until we found our hotel and found him deposed to have been\n",
            "\n",
            "arrested in Balmoral. It was only after much argumentation and investigation that we\n",
            "doubted that there was indeed an address at Charing Cross which\n",
            "we had been able to link up with Lord St. Simon in the moment by the\n",
            "photograph of the sitting lamp.\n",
            "\n",
            "Only a few days later were we able to establish that that which we were\n",
            "attacked was actually the address which had been so scandalised us by\n",
            "the disappearance of the sitting-man. It was then that we could\n",
            "cure our astonishment and, finally, at the light rail, that we found\n",
            "that our suspicions were confirmed by the results which were just\n",
            "recruited from the photograph. We had in vain contort to\n",
            "detect the identity of the person to be blackmailed, and the\n",
            "frequently seen photograph, taken at the same moment as our\n",
            "attacked person, showed that he was indeed our benefactor. So much\n",
            "information sprang to us from all quarters that it gave every\n",
            "consequence into every trap which we could throw for the purpose. We\n",
            "caught up the first glimpse of the assistant of the coming\n",
            "summer season, and also of the letter-box which he so wisely\n",
            "borrowed and where he attrangled his confederate, after the\n",
            "unfortunate story of the sitting-man had given us the wrong\n",
            "information. It was this which finally solved the mystery as to the\n",
            "homely scenes which followed the most energetic chase after the\n",
            "opponent.\n",
            "\n",
            "We found Holmes in a chair, with a ghastly face, with the force of his\n",
            "eyes sunk upon his chin and his eyes fixed upon the air of the\n",
            "hearer, with the utmost obstinacy in his eyes which\n",
            "made them impossible to view with words, and that he displayed in\n",
            "every respect a singular talent in the drawing of coincidences. He\n",
            "could read at a word, and so was able to trace a clue somewhere and\n",
            "dangle it, though it was evident that our friend had not thought\n",
            "too clearly whether to strike fear into the hearts of those who cluttered\n",
            "with him, or, if they fail, to tear them from him. The uttermost despair\n",
            "and self-respect with which he treated our companion, and the absolute\n",
            "unability to honour his debt, made him one of the more dangerous men in\n",
            "the room.\n",
            "\n",
            "“It is a fact, sir, that within two hours of our return in five\n",
            "principal points the angle of the coach-builder had been worked out. The\n",
            "engine stopped at the typewritten statement of the assistant and, returning\n",
            "to us, cut his remark on the sitting-man short with a sharp and\n",
            "generous thumb.”\n",
            "\n",
            "“I can hardly tell how long I had the coach-builder on,” I\n",
            "remarked with unfathomable patience.\n",
            "\n",
            "“I left the room about ten minutes before our departure, and I cannot\n",
            "advise you how thoroughly I understood the whole affair. The\n",
            "engine was gone, and the coachman had cut the remark, and there\n",
            "was that we had recovered the sitting-man’s chair. The\n",
            "chair had held together in the frosty morning frost by our return\n",
            "after the landing, and I could warm myself to think of the agony of\n",
            "the traveler who had perched himself upon the wooden chair.\n",
            "The whole landing felt a little sallow as I sat beside you, my dear\n",
            "Mr. Holmes, with my head sunk upon my heart, and my resolve doubly tested,\n",
            "when a man clad in a Californian dressing-gown, with a quill-pouch and\n",
            "a bandage over his head, beckoning with a questioning look of inquiry,\n",
            "scrawled in pencil upon the sideboard beside his brace of sitting-men,\n",
            "and accompanied by his attendant. As I gazed back I heard a sound like\n",
            "the sound of wheels in a well, and then some horror, then an\n",
            "ascertainment, which was as unwholesome as the weather had made it, for\n",
            "myself and my friend being in the deepest recesses of our powers. I had sat\n",
            "up in the chair for some few minutes, but the woman—the singular and\n",
            "entertaining Miss Mary Sutherland—whistled in horror at the intrusion, and said\n",
            "that there\n",
            "\n",
            "[301 | 403.71] loss=1.10 avg=1.48\n",
            "[302 | 404.95] loss=0.62 avg=1.47\n",
            "[303 | 406.19] loss=0.77 avg=1.47\n",
            "[304 | 407.43] loss=0.63 avg=1.46\n",
            "[305 | 408.67] loss=1.04 avg=1.45\n",
            "[306 | 409.91] loss=0.81 avg=1.45\n",
            "[307 | 411.14] loss=1.00 avg=1.44\n",
            "[308 | 412.39] loss=1.18 avg=1.44\n",
            "[309 | 413.63] loss=0.88 avg=1.43\n",
            "[310 | 414.86] loss=0.87 avg=1.43\n",
            "[311 | 416.10] loss=0.71 avg=1.42\n",
            "[312 | 417.34] loss=0.82 avg=1.41\n",
            "[313 | 418.58] loss=0.71 avg=1.41\n",
            "[314 | 419.82] loss=1.34 avg=1.40\n",
            "[315 | 421.06] loss=0.62 avg=1.40\n",
            "[316 | 422.30] loss=0.86 avg=1.39\n",
            "[317 | 423.53] loss=1.02 avg=1.39\n",
            "[318 | 424.77] loss=0.97 avg=1.38\n",
            "[319 | 426.01] loss=0.74 avg=1.38\n",
            "[320 | 427.25] loss=0.71 avg=1.37\n",
            "[321 | 428.49] loss=1.05 avg=1.37\n",
            "[322 | 429.73] loss=0.70 avg=1.36\n",
            "[323 | 430.96] loss=0.93 avg=1.35\n",
            "[324 | 432.20] loss=0.85 avg=1.35\n",
            "[325 | 433.44] loss=1.13 avg=1.35\n",
            "[326 | 434.68] loss=0.79 avg=1.34\n",
            "[327 | 435.92] loss=0.63 avg=1.33\n",
            "[328 | 437.15] loss=0.52 avg=1.33\n",
            "[329 | 438.39] loss=0.91 avg=1.32\n",
            "[330 | 439.63] loss=0.85 avg=1.32\n",
            "[331 | 440.87] loss=0.37 avg=1.31\n",
            "[332 | 442.11] loss=0.90 avg=1.30\n",
            "[333 | 443.35] loss=0.61 avg=1.29\n",
            "[334 | 444.59] loss=0.82 avg=1.29\n",
            "[335 | 445.82] loss=0.79 avg=1.28\n",
            "[336 | 447.06] loss=0.71 avg=1.28\n",
            "[337 | 448.30] loss=1.06 avg=1.28\n",
            "[338 | 449.54] loss=0.82 avg=1.27\n",
            "[339 | 450.78] loss=0.38 avg=1.26\n",
            "[340 | 452.02] loss=0.45 avg=1.25\n",
            "[341 | 453.25] loss=0.75 avg=1.25\n",
            "[342 | 454.49] loss=0.68 avg=1.24\n",
            "[343 | 455.73] loss=0.74 avg=1.24\n",
            "[344 | 456.97] loss=0.63 avg=1.23\n",
            "[345 | 458.21] loss=0.78 avg=1.23\n",
            "[346 | 459.44] loss=0.71 avg=1.22\n",
            "[347 | 460.68] loss=0.75 avg=1.22\n",
            "[348 | 461.92] loss=0.42 avg=1.21\n",
            "[349 | 463.16] loss=0.50 avg=1.20\n",
            "[350 | 464.39] loss=0.95 avg=1.20\n",
            "[351 | 465.63] loss=0.72 avg=1.19\n",
            "[352 | 466.87] loss=0.57 avg=1.19\n",
            "[353 | 468.11] loss=0.44 avg=1.18\n",
            "[354 | 469.34] loss=0.56 avg=1.17\n",
            "[355 | 470.58] loss=0.62 avg=1.17\n",
            "[356 | 471.82] loss=0.46 avg=1.16\n",
            "[357 | 473.06] loss=0.58 avg=1.15\n",
            "[358 | 474.29] loss=0.67 avg=1.15\n",
            "[359 | 475.53] loss=0.60 avg=1.14\n",
            "[360 | 476.77] loss=0.54 avg=1.14\n",
            "[361 | 478.01] loss=0.39 avg=1.13\n",
            "[362 | 479.25] loss=0.39 avg=1.12\n",
            "[363 | 480.48] loss=0.50 avg=1.12\n",
            "[364 | 481.72] loss=0.52 avg=1.11\n",
            "[365 | 482.96] loss=0.68 avg=1.11\n",
            "[366 | 484.20] loss=0.58 avg=1.10\n",
            "[367 | 485.43] loss=0.43 avg=1.09\n",
            "[368 | 486.67] loss=0.67 avg=1.09\n",
            "[369 | 487.91] loss=0.47 avg=1.08\n",
            "[370 | 489.15] loss=0.36 avg=1.07\n",
            "[371 | 490.39] loss=0.65 avg=1.07\n",
            "[372 | 491.62] loss=0.67 avg=1.07\n",
            "[373 | 492.86] loss=0.46 avg=1.06\n",
            "[374 | 494.10] loss=0.36 avg=1.05\n",
            "[375 | 495.34] loss=0.32 avg=1.05\n",
            "[376 | 496.57] loss=0.36 avg=1.04\n",
            "[377 | 497.81] loss=0.40 avg=1.03\n",
            "[378 | 499.05] loss=0.31 avg=1.02\n",
            "[379 | 500.29] loss=0.52 avg=1.02\n",
            "[380 | 501.53] loss=0.40 avg=1.01\n",
            "[381 | 502.76] loss=0.48 avg=1.01\n",
            "[382 | 504.00] loss=0.51 avg=1.00\n",
            "[383 | 505.24] loss=0.35 avg=1.00\n",
            "[384 | 506.48] loss=0.54 avg=0.99\n",
            "[385 | 507.71] loss=0.28 avg=0.98\n",
            "[386 | 508.95] loss=0.51 avg=0.98\n",
            "[387 | 510.19] loss=0.34 avg=0.97\n",
            "[388 | 511.43] loss=0.31 avg=0.97\n",
            "[389 | 512.67] loss=0.55 avg=0.96\n",
            "[390 | 513.91] loss=0.34 avg=0.96\n",
            "[391 | 515.14] loss=0.43 avg=0.95\n",
            "[392 | 516.38] loss=0.29 avg=0.94\n",
            "[393 | 517.62] loss=0.39 avg=0.94\n",
            "[394 | 518.86] loss=0.30 avg=0.93\n",
            "[395 | 520.10] loss=0.42 avg=0.93\n",
            "[396 | 521.34] loss=0.56 avg=0.92\n",
            "[397 | 522.58] loss=0.45 avg=0.92\n",
            "[398 | 523.82] loss=0.34 avg=0.91\n",
            "[399 | 525.06] loss=0.28 avg=0.91\n",
            "[400 | 526.30] loss=0.34 avg=0.90\n",
            "======== SAMPLE 1 ========\n",
            " you. But who could it be that Lord St. Simon rose to\n",
            "speak to you?” The lady gave a fierce cry of delight, and paced\n",
            "about with a mass of tears in her expressive white hands.\n",
            "\n",
            "“I’ve had enough of it!” cried Sherlock Holmes. “Enough! We have to\n",
            "go home! We have to go home! I have had enough! We have to\n",
            "go home!”\n",
            "\n",
            "“What then?”\n",
            "\n",
            "“It seems to me that it must first be at the door.”\n",
            "\n",
            "“We have had enough!”\n",
            "\n",
            "“It must be sooner at the door. It’s better not that she\n",
            "should go. It’s better not that she does so. It’s better not that she\n",
            "should let her dog-murderer know what it is.”\n",
            "\n",
            "Sherlock Holmes was not very communicative, so that the very sound of his\n",
            "voice made it difficult for the little girl to understand. But when she\n",
            "returned the sign, and waiting upon the police to enter the\n",
            "room in which he held her, she rose to utter a shriek of terror, and\n",
            "trembled upward, fell, and was found by the next inspector, by\n",
            "the more prompt screening that had occurred on her case several months before, to\n",
            "have been a little beyond the pale.\n",
            "\n",
            "But this incident was not to be forgotten. We Americans had a deep and abiding\n",
            "sense of our own undoubted worth. As we advanced, so at a moment when\n",
            "the police were increasing their efforts, so much the better for it.\n",
            "\n",
            "The red-headed inspector, when Holmes had ascended the ladder of his\n",
            "sister’s company, having listened to so full a story as this, and yet still\n",
            "insisted on that great weight of evidence which had accumulated against\n",
            "him. It was a damning verdict which would, it seemed to think\n",
            "partaker, decide his fate.\n",
            "\n",
            "“You see those handcuffs?” he asked as he held a white sheet in his\n",
            "hands.\n",
            "\n",
            "“Yes, they are.”\n",
            "\n",
            "“Were they the only preparations for this impending felony which we have\n",
            "now been having upon a large scale?”\n",
            "\n",
            "“Many preparations have been made,” answered Holmes, taking down\n",
            "the sheet from his hand. “There are some very careful\n",
            "investigations upon this point, as I had hoped.”\n",
            "\n",
            "I gave a sweeping bow to Holmes, and having led the inspector through\n",
            "the door which led to the Manor House, which was a low roomed garden\n",
            "about three miles across, through the yellow lights which cast a vague\n",
            "aura through the meadows. “I cannot here,” remarked Holmes when the alarm\n",
            "signalled upon the sill of the hall-door. “It is the air of this room, my dear\n",
            "boy,” and the echoes of automobiles, the gale-force winds, and the sombre\n",
            "gloom of the window were enough to strike fear within my very being. The\n",
            "sound of such a commotion, from every direction, would send shivers\n",
            "down your spine. Here we come, fellows! Here we come. Come!” He was\n",
            "stealing horses from other people’s graveyards, and using that\n",
            "money to buy the right to build a villa there on site of his own\n",
            "price. The matter seemed to be going on, and there was the\n",
            "surest sign that something was amiss in the second foyer.\n",
            "\n",
            "“Come,” said Holmes, pulling a prisoner by the collar. “This fellow Ford\n",
            "is his man, and he would have done what you said he could do with\n",
            "him. You give him the small amount which you have, and he will do what\n",
            "you give. Then we shall call at the window, at three o’clock, and you may\n",
            "confide in safety.”\n",
            "\n",
            "It was about nine. The house was stilled when Sherlock Holmes\n",
            "returned to the garden that it had been quieted. “There is a\n",
            "latter a little buzz that followed my return. It was all right with the\n",
            "police, but I didn’t like the presence of a Hunter in my house.”\n",
            "\n",
            "“How is she?”\n",
            "\n",
            "“Her dress is not of the same character. She is a thin, gaunt\n",
            "womange, with an interesting mettle even to my own eyes. Perhaps she\n",
            "would not communicate with you.”\n",
            "\n",
            "“She does,” said Holmes. “Her talk is full of a doubt as to\n",
            "the character of the criminal, and yet she shows a certain air of\n",
            "resistance in getting what\n",
            "\n",
            "[401 | 535.18] loss=0.41 avg=0.89\n",
            "[402 | 536.42] loss=0.33 avg=0.89\n",
            "[403 | 537.66] loss=0.38 avg=0.88\n",
            "[404 | 538.89] loss=0.32 avg=0.88\n",
            "[405 | 540.13] loss=0.24 avg=0.87\n",
            "[406 | 541.37] loss=0.60 avg=0.87\n",
            "[407 | 542.61] loss=0.40 avg=0.86\n",
            "[408 | 543.85] loss=0.55 avg=0.86\n",
            "[409 | 545.09] loss=0.81 avg=0.86\n",
            "[410 | 546.32] loss=0.34 avg=0.85\n",
            "[411 | 547.56] loss=0.45 avg=0.85\n",
            "[412 | 548.80] loss=0.36 avg=0.85\n",
            "[413 | 550.04] loss=0.36 avg=0.84\n",
            "[414 | 551.27] loss=0.32 avg=0.84\n",
            "[415 | 552.52] loss=0.36 avg=0.83\n",
            "[416 | 553.75] loss=0.27 avg=0.82\n",
            "[417 | 554.99] loss=0.23 avg=0.82\n",
            "[418 | 556.23] loss=0.17 avg=0.81\n",
            "[419 | 557.47] loss=0.24 avg=0.81\n",
            "[420 | 558.70] loss=0.31 avg=0.80\n",
            "[421 | 559.94] loss=0.54 avg=0.80\n",
            "[422 | 561.18] loss=0.31 avg=0.79\n",
            "[423 | 562.42] loss=0.33 avg=0.79\n",
            "[424 | 563.66] loss=0.40 avg=0.79\n",
            "[425 | 564.89] loss=0.31 avg=0.78\n",
            "[426 | 566.13] loss=0.38 avg=0.78\n",
            "[427 | 567.37] loss=0.22 avg=0.77\n",
            "[428 | 568.61] loss=0.33 avg=0.77\n",
            "[429 | 569.84] loss=0.26 avg=0.76\n",
            "[430 | 571.08] loss=0.37 avg=0.76\n",
            "[431 | 572.32] loss=0.36 avg=0.75\n",
            "[432 | 573.56] loss=0.21 avg=0.75\n",
            "[433 | 574.80] loss=0.41 avg=0.74\n",
            "[434 | 576.04] loss=0.31 avg=0.74\n",
            "[435 | 577.27] loss=0.25 avg=0.73\n",
            "[436 | 578.51] loss=0.50 avg=0.73\n",
            "[437 | 579.75] loss=0.23 avg=0.73\n",
            "[438 | 580.99] loss=0.33 avg=0.72\n",
            "[439 | 582.23] loss=0.29 avg=0.72\n",
            "[440 | 583.47] loss=0.27 avg=0.71\n",
            "[441 | 584.70] loss=0.23 avg=0.71\n",
            "[442 | 585.94] loss=0.16 avg=0.70\n",
            "[443 | 587.18] loss=0.27 avg=0.70\n",
            "[444 | 588.42] loss=0.29 avg=0.70\n",
            "[445 | 589.66] loss=0.24 avg=0.69\n",
            "[446 | 590.89] loss=0.21 avg=0.69\n",
            "[447 | 592.13] loss=0.20 avg=0.68\n",
            "[448 | 593.37] loss=0.55 avg=0.68\n",
            "[449 | 594.61] loss=0.22 avg=0.68\n",
            "[450 | 595.84] loss=0.34 avg=0.67\n",
            "[451 | 597.09] loss=0.57 avg=0.67\n",
            "[452 | 598.32] loss=0.16 avg=0.67\n",
            "[453 | 599.56] loss=0.31 avg=0.66\n",
            "[454 | 600.80] loss=0.44 avg=0.66\n",
            "[455 | 602.04] loss=0.23 avg=0.66\n",
            "[456 | 603.28] loss=0.49 avg=0.65\n",
            "[457 | 604.52] loss=0.24 avg=0.65\n",
            "[458 | 605.76] loss=0.19 avg=0.65\n",
            "[459 | 607.01] loss=0.42 avg=0.64\n",
            "[460 | 608.24] loss=0.19 avg=0.64\n",
            "[461 | 609.48] loss=0.31 avg=0.63\n",
            "[462 | 610.72] loss=0.21 avg=0.63\n",
            "[463 | 611.96] loss=0.20 avg=0.63\n",
            "[464 | 613.20] loss=0.25 avg=0.62\n",
            "[465 | 614.44] loss=0.29 avg=0.62\n",
            "[466 | 615.68] loss=0.22 avg=0.62\n",
            "[467 | 616.91] loss=0.18 avg=0.61\n",
            "[468 | 618.15] loss=0.36 avg=0.61\n",
            "[469 | 619.39] loss=0.21 avg=0.60\n",
            "[470 | 620.63] loss=0.25 avg=0.60\n",
            "[471 | 621.87] loss=0.23 avg=0.60\n",
            "[472 | 623.10] loss=0.18 avg=0.59\n",
            "[473 | 624.34] loss=0.22 avg=0.59\n",
            "[474 | 625.58] loss=0.19 avg=0.59\n",
            "[475 | 626.82] loss=0.32 avg=0.58\n",
            "[476 | 628.06] loss=0.14 avg=0.58\n",
            "[477 | 629.29] loss=0.24 avg=0.57\n",
            "[478 | 630.53] loss=0.22 avg=0.57\n",
            "[479 | 631.77] loss=0.37 avg=0.57\n",
            "[480 | 633.01] loss=0.27 avg=0.57\n",
            "[481 | 634.25] loss=0.21 avg=0.56\n",
            "[482 | 635.48] loss=0.19 avg=0.56\n",
            "[483 | 636.72] loss=0.22 avg=0.56\n",
            "[484 | 637.96] loss=0.11 avg=0.55\n",
            "[485 | 639.20] loss=0.21 avg=0.55\n",
            "[486 | 640.43] loss=0.31 avg=0.54\n",
            "[487 | 641.67] loss=0.32 avg=0.54\n",
            "[488 | 642.91] loss=0.18 avg=0.54\n",
            "[489 | 644.15] loss=0.14 avg=0.53\n",
            "[490 | 645.38] loss=0.15 avg=0.53\n",
            "[491 | 646.62] loss=0.18 avg=0.53\n",
            "[492 | 647.86] loss=0.23 avg=0.52\n",
            "[493 | 649.10] loss=0.31 avg=0.52\n",
            "[494 | 650.34] loss=0.22 avg=0.52\n",
            "[495 | 651.57] loss=0.19 avg=0.52\n",
            "[496 | 652.81] loss=0.26 avg=0.51\n",
            "[497 | 654.05] loss=0.17 avg=0.51\n",
            "[498 | 655.29] loss=0.20 avg=0.51\n",
            "[499 | 656.53] loss=0.18 avg=0.50\n",
            "[500 | 657.77] loss=0.22 avg=0.50\n",
            "Saving checkpoint/run1/model-500\n",
            "“I am afraid that I cannot. It is quite a case of\n",
            "perfect justice, and yet I cannot explain in such a manner the\n",
            "narrative of which you have listened.”\n",
            "\n",
            "“Did you observe, then, that the slate-work was performed with a\n",
            "hard, precise hand?”\n",
            "\n",
            "“Yes.”\n",
            "\n",
            "“The smooth smooth side was drawn out with a saw, and the\n",
            "overlap was then drawn across, and the two-part face of the\n",
            "scissors-grinder was represented by the smooth, straight face of a\n",
            "tinted-in nose.”\n",
            "\n",
            "“This signet, I presume?”\n",
            "\n",
            "“A patent for a set of windows.”\n",
            "\n",
            "“That is the slate-work,” said Holmes. “The maker of the\n",
            "window was usually a man of wealth and influence, and usually with a\n",
            "gentleman touch. The deceased used to be a maker of lamps, or\n",
            "gravel-work, or of timbers.”\n",
            "\n",
            "“You are sure that this was your brother’s firm?”\n",
            "\n",
            "“Yes, and that it was the only one in the county?”\n",
            "\n",
            "“That is evident.”\n",
            "\n",
            "“And your brother’s firm?”\n",
            "\n",
            "“No, but that he had a considerable share in the firm, and\n",
            "that it was certainly not under £ 1000 a week?”\n",
            "\n",
            "“That is quite correct, and I add that the work was light and\n",
            "light andlight.”\n",
            "\n",
            "“A good deal depends upon the work.”\n",
            "\n",
            "“It is light andlight.”\n",
            "\n",
            "“Quite so.”\n",
            "\n",
            "“And light?”\n",
            "\n",
            "“Yes, but very little.”\n",
            "\n",
            "“And light?”\n",
            "\n",
            "“No, but very very good, Mr. Holmes. I am very much indebted to you, and\n",
            "especially to your kindness, for making such a most prompt and complete examination of\n",
            "this gentleman’s business.”\n",
            "\n",
            "“I owe you an apology, Mr. Holmes,” said my friend bitterly, “for you\n",
            "have seriously put yourself forward as my witness. You have\n",
            "told me that you saw the firm’s secretary walk into the room, that\n",
            "the boy, dressed in a suit of gilt workcoat, and with his coat hung\n",
            "over his head, and that he looked about him in some most extraordinary\n",
            "position. I have no doubt that you saw the whole business, and that you\n",
            "believe in my _soul_, but I must confess that I am surprised by the\n",
            "results. I only hope that you will indulge me in some toast to\n",
            "her.”\n",
            "\n",
            "“And an order for cleanliness and disinfection, to go to K. R.\n",
            "?”\n",
            "\n",
            "“Yes, sir, and for the purpose of going to the office.”\n",
            "\n",
            "“Very good, and you will excuse me for not having an order placed\n",
            "upon the spot, I think.”\n",
            "\n",
            "“Good-bye, Mr. Holmes. This is not my business, and I cannot at\n",
            "will order you to leave it.”\n",
            "\n",
            "“No, sir, I am glad to hear you are eager.”\n",
            "\n",
            "“You see, sir, I was fortunate enough to meet Mr. Rucastle in person at\n",
            "his house a few weeks ago. I forgot his address, had my typewriter\n",
            "ready, and was much interested in seeing if he would give an interview.\n",
            "He began by promising to look over all the papers upon which he was\n",
            "dissatisfied. I did as he told me and I found him to be absolutely\n",
            "in the habit of printing out addresses and visiting address books. One morning\n",
            "he showed me his envelope, and I opened it to find a note written in pencil\n",
            "and pad in a foreign language.\n",
            "\n",
            "“Honey!” said the boy, “here we are!”\n",
            "\n",
            "“Is it you?”\n",
            "\n",
            "“No, it is my dear Miss Hunter.”\n",
            "\n",
            "“Dear me!”\n",
            "\n",
            "“Why, what can I do?”\n",
            "\n",
            "“I started off,” said I as I took the envelope out into the\n",
            "exchange-room. “I have been referred to you since you entered. I\n",
            "have been prompt in my answer,” said he, and then suddenly realising\n",
            "his strength, took down from under the envelope a very anxious and\n",
            "quiet letter.\n",
            "\n",
            "“It is a most unwelcome surprise,” said I\n"
          ]
        }
      ],
      "source": [
        "# This line is necessary to be able to run a new tf session if one has already been run\n",
        "tf.reset_default_graph()\n",
        "# Start a session\n",
        "sess = gpt2.start_tf_sess()\n",
        "# Fine tune `model_name` on `data`\n",
        "###################################\n",
        "# Swap out the `dataset` parameter with the path to your text dataset\n",
        "###################################\n",
        "gpt2.finetune(sess,\n",
        "              dataset='/data/text/sherlock.txt',\n",
        "              model_name=model_name,\n",
        "              restore_from='latest',\n",
        "              steps=500)   # steps is max number of training steps\n",
        "\n",
        "gpt2.generate(sess, run_name='run1')"
      ]
    }
  ],
  "metadata": {
    "accelerator": "GPU",
    "colab": {
      "collapsed_sections": [],
      "name": "lab9.ipynb",
      "provenance": [],
      "machine_shape": "hm"
    },
    "kernelspec": {
      "display_name": "Python 3",
      "language": "python",
      "name": "python3"
    },
    "language_info": {
      "codemirror_mode": {
        "name": "ipython",
        "version": 3
      },
      "file_extension": ".py",
      "mimetype": "text/x-python",
      "name": "python",
      "nbconvert_exporter": "python",
      "pygments_lexer": "ipython3",
      "version": "3.7.4"
    }
  },
  "nbformat": 4,
  "nbformat_minor": 0
}